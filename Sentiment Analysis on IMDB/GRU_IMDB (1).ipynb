{
 "cells": [
  {
   "cell_type": "markdown",
   "metadata": {
    "id": "dkS7ChwEiAcp"
   },
   "source": [
    "$\\huge \\text{Sentiment analysis on imdb dataset using GRU.}$"
   ]
  },
  {
   "cell_type": "code",
   "execution_count": 1,
   "metadata": {
    "_cell_guid": "b1076dfc-b9ad-4769-8c92-a6c4dae69d19",
    "_uuid": "8f2839f25d086af736a60e9eeb907d3b93b6e0e5",
    "id": "Lz14pd1wiAcr"
   },
   "outputs": [],
   "source": [
    "import numpy as np # linear algebra\n",
    "import pandas as pd # data processing, CSV file I/O (e.g. pd.read_csv)\n",
    "import torch\n",
    "import torch.nn as nn\n",
    "import torch.nn.functional as F\n",
    "from nltk.corpus import stopwords\n",
    "from collections import Counter\n",
    "import string\n",
    "import re\n",
    "from tqdm import tqdm\n",
    "import matplotlib.pyplot as plt\n",
    "from torch.utils.data import TensorDataset, DataLoader\n",
    "from sklearn.model_selection import train_test_split\n",
    "import pickle"
   ]
  },
  {
   "cell_type": "code",
   "execution_count": 2,
   "metadata": {
    "colab": {
     "base_uri": "https://localhost:8080/"
    },
    "id": "nwOh_8l5iAcs",
    "outputId": "3aedee27-d76e-4f4a-f831-0f46cfd40674"
   },
   "outputs": [],
   "source": [
    "device=torch.device('cuda:0' if torch.cuda.is_available else 'cpu')"
   ]
  },
  {
   "cell_type": "code",
   "execution_count": 3,
   "metadata": {
    "_cell_guid": "79c7e3d0-c299-4dcb-8224-4455121ee9b0",
    "_uuid": "d629ff2d2480ee46fbb7e2d37f6b5fab8052498a",
    "colab": {
     "base_uri": "https://localhost:8080/",
     "height": 206
    },
    "id": "Ink5x-6yiAct",
    "outputId": "f349351c-89b3-432c-bf19-3ead84e213d6"
   },
   "outputs": [
    {
     "data": {
      "text/html": [
       "<div>\n",
       "<style scoped>\n",
       "    .dataframe tbody tr th:only-of-type {\n",
       "        vertical-align: middle;\n",
       "    }\n",
       "\n",
       "    .dataframe tbody tr th {\n",
       "        vertical-align: top;\n",
       "    }\n",
       "\n",
       "    .dataframe thead th {\n",
       "        text-align: right;\n",
       "    }\n",
       "</style>\n",
       "<table border=\"1\" class=\"dataframe\">\n",
       "  <thead>\n",
       "    <tr style=\"text-align: right;\">\n",
       "      <th></th>\n",
       "      <th>review</th>\n",
       "      <th>sentiment</th>\n",
       "    </tr>\n",
       "  </thead>\n",
       "  <tbody>\n",
       "    <tr>\n",
       "      <th>0</th>\n",
       "      <td>One of the other reviewers has mentioned that ...</td>\n",
       "      <td>positive</td>\n",
       "    </tr>\n",
       "    <tr>\n",
       "      <th>1</th>\n",
       "      <td>A wonderful little production. &lt;br /&gt;&lt;br /&gt;The...</td>\n",
       "      <td>positive</td>\n",
       "    </tr>\n",
       "    <tr>\n",
       "      <th>2</th>\n",
       "      <td>I thought this was a wonderful way to spend ti...</td>\n",
       "      <td>positive</td>\n",
       "    </tr>\n",
       "    <tr>\n",
       "      <th>3</th>\n",
       "      <td>Basically there's a family where a little boy ...</td>\n",
       "      <td>negative</td>\n",
       "    </tr>\n",
       "    <tr>\n",
       "      <th>4</th>\n",
       "      <td>Petter Mattei's \"Love in the Time of Money\" is...</td>\n",
       "      <td>positive</td>\n",
       "    </tr>\n",
       "  </tbody>\n",
       "</table>\n",
       "</div>"
      ],
      "text/plain": [
       "                                              review sentiment\n",
       "0  One of the other reviewers has mentioned that ...  positive\n",
       "1  A wonderful little production. <br /><br />The...  positive\n",
       "2  I thought this was a wonderful way to spend ti...  positive\n",
       "3  Basically there's a family where a little boy ...  negative\n",
       "4  Petter Mattei's \"Love in the Time of Money\" is...  positive"
      ]
     },
     "execution_count": 3,
     "metadata": {},
     "output_type": "execute_result"
    }
   ],
   "source": [
    "base_csv = 'IMDB_Dataset.csv'\n",
    "df = pd.read_csv(base_csv)\n",
    "df.head()"
   ]
  },
  {
   "cell_type": "markdown",
   "metadata": {
    "id": "Uq_6d8rNiAct"
   },
   "source": [
    "$\\huge \\text{Splitting to train and test data}$"
   ]
  },
  {
   "cell_type": "markdown",
   "metadata": {
    "id": "y307qMlriAcu"
   },
   "source": [
    "$\\text{We will split data to train and test initially. Doing this on earlier stage allows to avoid data lekage.}$\n"
   ]
  },
  {
   "cell_type": "code",
   "execution_count": 4,
   "metadata": {
    "colab": {
     "base_uri": "https://localhost:8080/"
    },
    "id": "s7Cwb-quiAcu",
    "outputId": "9d0cfc07-2ac1-4b50-8502-23f6a7031738"
   },
   "outputs": [
    {
     "name": "stdout",
     "output_type": "stream",
     "text": [
      "shape of train data is (37500,)\n",
      "shape of test data is (12500,)\n"
     ]
    }
   ],
   "source": [
    "X,y = df['review'].values,df['sentiment'].values\n",
    "x_train,x_test,y_train,y_test = train_test_split(X,y,stratify=y)\n",
    "print(f'shape of train data is {x_train.shape}')\n",
    "print(f'shape of test data is {x_test.shape}')"
   ]
  },
  {
   "cell_type": "markdown",
   "metadata": {
    "id": "cyohj_lDiAcu"
   },
   "source": [
    "$\\huge \\text{Tockenization}$"
   ]
  },
  {
   "cell_type": "code",
   "execution_count": 5,
   "metadata": {
    "id": "nP8_iloeiAcv"
   },
   "outputs": [],
   "source": [
    "def preprocess_string(s):\n",
    "    # Remove all non-word characters (everything except numbers and letters)\n",
    "    s = re.sub(r\"[^\\w\\s]\", '', s)\n",
    "    # Replace all runs of whitespaces with no space\n",
    "    s = re.sub(r\"\\s+\", '', s)\n",
    "    # replace digits with no space\n",
    "    s = re.sub(r\"\\d\", '', s)\n",
    "\n",
    "    return s\n",
    "\n",
    "def tockenize(x_train,y_train,x_val,y_val):\n",
    "    word_list = []\n",
    "\n",
    "    stop_words = set(stopwords.words('english'))\n",
    "    for sent in x_train:\n",
    "        for word in sent.lower().split():\n",
    "            word = preprocess_string(word)\n",
    "            if word not in stop_words and word != '':\n",
    "                word_list.append(word)\n",
    "\n",
    "    corpus = Counter(word_list)\n",
    "    # sorting on the basis of most common words\n",
    "    corpus_ = sorted(corpus,key=corpus.get,reverse=True)[:1000]\n",
    "    # creating a dict\n",
    "    onehot_dict = {w:i+1 for i,w in enumerate(corpus_)}\n",
    "\n",
    "    # tockenize\n",
    "    final_list_train,final_list_test = [],[]\n",
    "    for sent in x_train:\n",
    "            final_list_train.append([onehot_dict[preprocess_string(word)] for word in sent.lower().split()\n",
    "                                     if preprocess_string(word) in onehot_dict.keys()])\n",
    "    for sent in x_val:\n",
    "            final_list_test.append([onehot_dict[preprocess_string(word)] for word in sent.lower().split()\n",
    "                                    if preprocess_string(word) in onehot_dict.keys()])\n",
    "\n",
    "    encoded_train = [1 if label =='positive' else 0 for label in y_train]\n",
    "    encoded_test = [1 if label =='positive' else 0 for label in y_val]\n",
    "    return np.array(final_list_train,dtype=object), np.array(encoded_train),np.array(final_list_test,dtype=object), np.array(encoded_test),onehot_dict\n"
   ]
  },
  {
   "cell_type": "code",
   "execution_count": 6,
   "metadata": {
    "colab": {
     "base_uri": "https://localhost:8080/"
    },
    "id": "uv8AGuhuiAcv",
    "outputId": "bb32446a-0ce1-43b0-c1b1-64aa34880f26"
   },
   "outputs": [],
   "source": [
    "x_train,y_train,x_test,y_test,vocab = tockenize(x_train,y_train,x_test,y_test)"
   ]
  },
  {
   "cell_type": "code",
   "execution_count": 7,
   "metadata": {
    "colab": {
     "base_uri": "https://localhost:8080/"
    },
    "id": "aLJiqJd3iAcv",
    "outputId": "65d90e8c-1783-436a-fe9e-293c2d1f13f4"
   },
   "outputs": [
    {
     "name": "stdout",
     "output_type": "stream",
     "text": [
      "Length of vocabulary is 1000\n"
     ]
    }
   ],
   "source": [
    "print(f'Length of vocabulary is {len(vocab)}')"
   ]
  },
  {
   "cell_type": "markdown",
   "metadata": {
    "id": "uH0asorxiAcv"
   },
   "source": [
    "$\\huge \\text{Padding}$"
   ]
  },
  {
   "cell_type": "markdown",
   "metadata": {
    "id": "Tjuy7iXliAcw"
   },
   "source": [
    "$\\large \\text{Now we will pad each of the sequence to max length}$"
   ]
  },
  {
   "cell_type": "code",
   "execution_count": 8,
   "metadata": {
    "id": "TiUQT7WEiAcw"
   },
   "outputs": [],
   "source": [
    "def padding_(sentences, seq_len):\n",
    "    features = np.zeros((len(sentences), seq_len),dtype=int)\n",
    "    for ii, review in enumerate(sentences):\n",
    "        if len(review) != 0:\n",
    "            features[ii, -len(review):] = np.array(review)[:seq_len]\n",
    "    return features"
   ]
  },
  {
   "cell_type": "code",
   "execution_count": 9,
   "metadata": {
    "id": "gPkD6Zr5iAcw"
   },
   "outputs": [],
   "source": [
    "\n",
    "x_train_pad = padding_(x_train,500)\n",
    "x_test_pad = padding_(x_test,500)\n"
   ]
  },
  {
   "cell_type": "markdown",
   "metadata": {
    "id": "jDfNH3F1iAcw"
   },
   "source": [
    "$\\huge \\text{Batching and loading as tensor}$"
   ]
  },
  {
   "cell_type": "code",
   "execution_count": 10,
   "metadata": {
    "id": "xVZvX_lHiAcw"
   },
   "outputs": [],
   "source": [
    "# Tensor datasets\n",
    "train_data = TensorDataset(torch.from_numpy(x_train_pad), torch.from_numpy(y_train))\n",
    "valid_data = TensorDataset(torch.from_numpy(x_test_pad), torch.from_numpy(y_test))\n",
    "\n",
    "# dataloaders\n",
    "batch_size = 50\n",
    "\n",
    "# SHUFFLE your data\n",
    "train_loader = DataLoader(train_data, shuffle=True, batch_size=batch_size)\n",
    "valid_loader = DataLoader(valid_data, shuffle=False, batch_size=batch_size)\n",
    "train_loader_acc=DataLoader(train_data, shuffle=False, batch_size=batch_size)"
   ]
  },
  {
   "cell_type": "code",
   "execution_count": 11,
   "metadata": {
    "colab": {
     "base_uri": "https://localhost:8080/"
    },
    "id": "6hxmewRuiAcw",
    "outputId": "896aaeab-d60c-4ec6-8fb8-ae70be948f3f"
   },
   "outputs": [
    {
     "name": "stdout",
     "output_type": "stream",
     "text": [
      "Sample input size:  torch.Size([50, 500])\n",
      "Sample input: \n",
      " tensor([[  0,   0,   0,  ...,  29,  26, 794],\n",
      "        [  0,   0,   0,  ..., 153,   3, 352],\n",
      "        [  0,   0,   0,  ...,  99,   2,  70],\n",
      "        ...,\n",
      "        [  0,   0,   0,  ...,   3,  44,  32],\n",
      "        [  0,   0,   0,  ..., 102, 735,   2],\n",
      "        [  0,   0,   0,  ..., 131,  19,  64]])\n",
      "Sample input: \n",
      " tensor([1, 1, 0, 0, 1, 0, 0, 1, 0, 0, 1, 0, 1, 0, 1, 0, 1, 0, 1, 1, 1, 1, 0, 1,\n",
      "        0, 1, 1, 0, 0, 1, 1, 0, 1, 1, 1, 0, 0, 1, 0, 1, 0, 1, 1, 0, 1, 0, 0, 1,\n",
      "        1, 0])\n"
     ]
    }
   ],
   "source": [
    "# obtain one batch of training data\n",
    "for i,(sample_x,sample_y) in enumerate(train_loader):\n",
    "\n",
    "\n",
    "  print('Sample input size: ', sample_x.size()) # batch_size, seq_length\n",
    "  print('Sample input: \\n', sample_x)\n",
    "  print('Sample input: \\n', sample_y)\n",
    "  break"
   ]
  },
  {
   "cell_type": "code",
   "execution_count": 12,
   "metadata": {
    "id": "NxfJcJwjlkP8"
   },
   "outputs": [],
   "source": [
    "# Define the RNN model\n",
    "class GRU(nn.Module):\n",
    "    def __init__(self, hidden_size, output_size,n_layers,embedding_dim):\n",
    "        super(GRU, self).__init__()\n",
    "        self.hidden_size = hidden_size\n",
    "        self.n_layers=n_layers\n",
    "        #lstm\n",
    "        self.gru = nn.GRU(input_size=embedding_dim,hidden_size=self.hidden_size,\n",
    "                           num_layers=self.n_layers, batch_first=True)\n",
    "        self.fc = nn.Linear(hidden_size, output_size)\n",
    "        self.relu=nn.ReLU()\n",
    "        self.sigmoid=nn.Sigmoid()\n",
    "        self.tanh=nn.Tanh()\n",
    "        self.embed=nn.Embedding(len(vocab)+1,embedding_dim=embedding_dim)\n",
    "    def forward(self, x):\n",
    "       \n",
    "        batch_size = x.size(0)\n",
    "        # embeddings and lstm_out\n",
    "        embeds = self.embed(x)\n",
    "        # pass in the rnn layer\n",
    "        output,hidden=self.gru(embeds)\n",
    "        \n",
    "        \n",
    "        output=output.contiguous().view(-1,self.hidden_size)\n",
    "        \n",
    "        output = self.sigmoid(self.fc(output))\n",
    "        output=output.view(batch_size,-1)\n",
    "        \n",
    "        output=output[:,-1].view(batch_size,-1)\n",
    "        \n",
    "        return output\n",
    "\n",
    "    def init_hidden(self,batch_size):\n",
    "        hidden=torch.zeros(self.n_layers,batch_size,self.hidden_size).to(device)\n",
    "        return hidden"
   ]
  },
  {
   "cell_type": "code",
   "execution_count": 13,
   "metadata": {
    "id": "WMj-SPYOqYfI"
   },
   "outputs": [],
   "source": [
    "import torch.nn as nn"
   ]
  },
  {
   "cell_type": "code",
   "execution_count": 14,
   "metadata": {},
   "outputs": [],
   "source": [
    "def train_acc(model):\n",
    "    acc=0\n",
    "    for instances,labels in train_loader_acc:\n",
    "        \n",
    "        output=model(instances.to(device))\n",
    "        for i in range(len(output)):\n",
    "            if output[i]>=0.5 and labels[i]==1:\n",
    "                acc+=1\n",
    "            elif output[i]<0.5 and labels[i]==0:\n",
    "                acc+=1\n",
    "    del instances\n",
    "    del labels\n",
    "    return acc/len(train_data)\n",
    "def valid_acc(model):\n",
    "    acc=0\n",
    "    for instances,labels in valid_loader:\n",
    "        \n",
    "        output=model(instances.to(device))\n",
    "        for i in range(len(output)):\n",
    "            if output[i]>=0.5 and labels[i]==1:\n",
    "                acc+=1\n",
    "            elif output[i]<0.5 and labels[i]==0:\n",
    "                acc+=1\n",
    "    del instances\n",
    "    del labels\n",
    "    return acc/len(valid_data)\n",
    "\n",
    "\n",
    "\n",
    "def train_loss(model,batch_size,criterion):\n",
    "    loss=0\n",
    "    for instances,labels in train_loader_acc:\n",
    "        labels=labels.reshape(len(labels),-1).to(device).to(torch.float32)\n",
    "        output=model(instances.to(device))\n",
    "        loss+=criterion(output,labels)\n",
    "    del instances\n",
    "    del labels\n",
    "    return loss/batch_size\n",
    "def valid_loss(model,batch_size,criterion):\n",
    "    loss=0\n",
    "    for instances,labels in valid_loader:\n",
    "        labels=labels.reshape(len(labels),-1).to(device).to(torch.float32)\n",
    "        output=model(instances.to(device))\n",
    "        loss+=criterion(output,labels)\n",
    "    del instances\n",
    "    del labels\n",
    "    return loss/batch_size\n",
    "    \n",
    "        \n",
    "        "
   ]
  },
  {
   "cell_type": "code",
   "execution_count": 17,
   "metadata": {},
   "outputs": [
    {
     "name": "stderr",
     "output_type": "stream",
     "text": [
      "  5%|▌         | 1/20 [00:14<04:28, 14.12s/it]"
     ]
    },
    {
     "name": "stdout",
     "output_type": "stream",
     "text": [
      "epoch is: 1 accuracy over training/validation data set: 0.9093066666666667 / 0.8536  || running loss is: 3.4627543821930886\n"
     ]
    },
    {
     "name": "stderr",
     "output_type": "stream",
     "text": [
      " 10%|█         | 2/20 [00:28<04:13, 14.10s/it]"
     ]
    },
    {
     "name": "stdout",
     "output_type": "stream",
     "text": [
      "epoch is: 2 accuracy over training/validation data set: 0.90696 / 0.8532  || running loss is: 3.408622966259718\n"
     ]
    },
    {
     "name": "stderr",
     "output_type": "stream",
     "text": [
      " 15%|█▌        | 3/20 [00:42<03:59, 14.09s/it]"
     ]
    },
    {
     "name": "stdout",
     "output_type": "stream",
     "text": [
      "epoch is: 3 accuracy over training/validation data set: 0.91328 / 0.85184  || running loss is: 3.367973546683788\n"
     ]
    },
    {
     "name": "stderr",
     "output_type": "stream",
     "text": [
      " 20%|██        | 4/20 [00:56<03:45, 14.10s/it]"
     ]
    },
    {
     "name": "stdout",
     "output_type": "stream",
     "text": [
      "epoch is: 4 accuracy over training/validation data set: 0.9198133333333334 / 0.8532  || running loss is: 3.284597956836224\n"
     ]
    },
    {
     "name": "stderr",
     "output_type": "stream",
     "text": [
      " 25%|██▌       | 5/20 [01:19<04:19, 17.28s/it]"
     ]
    },
    {
     "name": "stdout",
     "output_type": "stream",
     "text": [
      "epoch is: 5 accuracy over training/validation data set: 0.9181066666666666 / 0.85176  || running loss is: 3.254765850454569\n"
     ]
    },
    {
     "name": "stderr",
     "output_type": "stream",
     "text": [
      " 30%|███       | 6/20 [01:41<04:26, 19.00s/it]"
     ]
    },
    {
     "name": "stdout",
     "output_type": "stream",
     "text": [
      "epoch is: 6 accuracy over training/validation data set: 0.9193866666666667 / 0.85432  || running loss is: 3.1914724376797676\n"
     ]
    },
    {
     "name": "stderr",
     "output_type": "stream",
     "text": [
      " 35%|███▌      | 7/20 [02:04<04:23, 20.26s/it]"
     ]
    },
    {
     "name": "stdout",
     "output_type": "stream",
     "text": [
      "epoch is: 7 accuracy over training/validation data set: 0.9204 / 0.85264  || running loss is: 3.1210161193460224\n"
     ]
    },
    {
     "name": "stderr",
     "output_type": "stream",
     "text": [
      " 40%|████      | 8/20 [02:27<04:13, 21.15s/it]"
     ]
    },
    {
     "name": "stdout",
     "output_type": "stream",
     "text": [
      "epoch is: 8 accuracy over training/validation data set: 0.9264 / 0.85144  || running loss is: 3.086580977961421\n"
     ]
    },
    {
     "name": "stderr",
     "output_type": "stream",
     "text": [
      " 45%|████▌     | 9/20 [02:51<04:02, 22.01s/it]"
     ]
    },
    {
     "name": "stdout",
     "output_type": "stream",
     "text": [
      "epoch is: 9 accuracy over training/validation data set: 0.9280533333333333 / 0.8536  || running loss is: 3.0381537435948847\n"
     ]
    },
    {
     "name": "stderr",
     "output_type": "stream",
     "text": [
      " 50%|█████     | 10/20 [03:15<03:46, 22.62s/it]"
     ]
    },
    {
     "name": "stdout",
     "output_type": "stream",
     "text": [
      "epoch is: 10 accuracy over training/validation data set: 0.9294133333333333 / 0.85088  || running loss is: 2.944067305624485\n"
     ]
    },
    {
     "name": "stderr",
     "output_type": "stream",
     "text": [
      " 55%|█████▌    | 11/20 [03:38<03:25, 22.85s/it]"
     ]
    },
    {
     "name": "stdout",
     "output_type": "stream",
     "text": [
      "epoch is: 11 accuracy over training/validation data set: 0.92784 / 0.84584  || running loss is: 2.8990380046516657\n"
     ]
    },
    {
     "name": "stderr",
     "output_type": "stream",
     "text": [
      " 60%|██████    | 12/20 [04:00<02:58, 22.37s/it]"
     ]
    },
    {
     "name": "stdout",
     "output_type": "stream",
     "text": [
      "epoch is: 12 accuracy over training/validation data set: 0.9326133333333333 / 0.84888  || running loss is: 2.8455911519378425\n"
     ]
    },
    {
     "name": "stderr",
     "output_type": "stream",
     "text": [
      " 65%|██████▌   | 13/20 [04:24<02:40, 22.87s/it]"
     ]
    },
    {
     "name": "stdout",
     "output_type": "stream",
     "text": [
      "epoch is: 13 accuracy over training/validation data set: 0.93672 / 0.85112  || running loss is: 2.759114320650697\n"
     ]
    },
    {
     "name": "stderr",
     "output_type": "stream",
     "text": [
      " 70%|███████   | 14/20 [04:47<02:18, 23.07s/it]"
     ]
    },
    {
     "name": "stdout",
     "output_type": "stream",
     "text": [
      "epoch is: 14 accuracy over training/validation data set: 0.9363733333333333 / 0.84624  || running loss is: 2.7140678345412015\n"
     ]
    },
    {
     "name": "stderr",
     "output_type": "stream",
     "text": [
      " 75%|███████▌  | 15/20 [05:11<01:56, 23.28s/it]"
     ]
    },
    {
     "name": "stdout",
     "output_type": "stream",
     "text": [
      "epoch is: 15 accuracy over training/validation data set: 0.9404266666666666 / 0.8496  || running loss is: 2.635046543478966\n"
     ]
    },
    {
     "name": "stderr",
     "output_type": "stream",
     "text": [
      " 80%|████████  | 16/20 [05:35<01:34, 23.51s/it]"
     ]
    },
    {
     "name": "stdout",
     "output_type": "stream",
     "text": [
      "epoch is: 16 accuracy over training/validation data set: 0.9420533333333333 / 0.84632  || running loss is: 2.578637518361211\n"
     ]
    },
    {
     "name": "stderr",
     "output_type": "stream",
     "text": [
      " 85%|████████▌ | 17/20 [05:59<01:10, 23.65s/it]"
     ]
    },
    {
     "name": "stdout",
     "output_type": "stream",
     "text": [
      "epoch is: 17 accuracy over training/validation data set: 0.9430933333333333 / 0.84552  || running loss is: 2.537657473534346\n"
     ]
    },
    {
     "name": "stderr",
     "output_type": "stream",
     "text": [
      " 90%|█████████ | 18/20 [06:23<00:47, 23.73s/it]"
     ]
    },
    {
     "name": "stdout",
     "output_type": "stream",
     "text": [
      "epoch is: 18 accuracy over training/validation data set: 0.9455733333333334 / 0.84776  || running loss is: 2.4550734919682147\n"
     ]
    },
    {
     "name": "stderr",
     "output_type": "stream",
     "text": [
      " 95%|█████████▌| 19/20 [06:47<00:23, 23.83s/it]"
     ]
    },
    {
     "name": "stdout",
     "output_type": "stream",
     "text": [
      "epoch is: 19 accuracy over training/validation data set: 0.9446133333333333 / 0.84704  || running loss is: 2.4204125663265588\n"
     ]
    },
    {
     "name": "stderr",
     "output_type": "stream",
     "text": [
      "100%|██████████| 20/20 [07:11<00:00, 21.56s/it]"
     ]
    },
    {
     "name": "stdout",
     "output_type": "stream",
     "text": [
      "epoch is: 20 accuracy over training/validation data set: 0.9486933333333334 / 0.84544  || running loss is: 2.3141704952344297\n"
     ]
    },
    {
     "name": "stderr",
     "output_type": "stream",
     "text": [
      "\n"
     ]
    }
   ],
   "source": [
    "hidden_size=100\n",
    "output_size=1\n",
    "n_layers=1\n",
    "embedding_dim=64\n",
    "model=GRU(hidden_size,output_size,n_layers,embedding_dim).to(device)\n",
    "criterion =nn.BCELoss()\n",
    "lr=0.0001\n",
    "train_acc_list=[]\n",
    "valid_acc_list=[]\n",
    "loss_list=[]\n",
    "optimizer = torch.optim.Adam(model.parameters(), lr=lr)\n",
    "epochs=50\n",
    "num_epochs=tqdm(range(epochs))\n",
    "\n",
    "# n_epochs=tqdm(range(epochs))\n",
    "for epoch in num_epochs:\n",
    "\n",
    "    running_loss = 0\n",
    "\n",
    "    for i,(instances, labels) in enumerate(train_loader):\n",
    "\n",
    "        optimizer.zero_grad()\n",
    "\n",
    "        instances=instances.to(device)\n",
    "        labels=labels.reshape(len(labels),-1).to(device).to(torch.float32)\n",
    "        # print(instances.shape)\n",
    "        output = model(instances)\n",
    "        loss = criterion(output, labels)\n",
    "\n",
    "\n",
    "        loss.backward()\n",
    "        optimizer.step()\n",
    "\n",
    "        running_loss += loss.item()\n",
    "    \n",
    "    loss_list.append(running_loss/batch_size)\n",
    "    a=train_acc(model)\n",
    "    train_acc_list.append(a)\n",
    "    \n",
    "    b=valid_acc(model)\n",
    "    \n",
    "    # print('accuracy over validation data set:',b)\n",
    "    valid_acc_list.append(b)\n",
    "    print('epoch is:',epoch+1,'accuracy over training/validation data set:',a,'/',b,' || running loss is:',running_loss/batch_size)\n",
    " \n"
   ]
  },
  {
   "cell_type": "code",
   "execution_count": 18,
   "metadata": {},
   "outputs": [
    {
     "data": {
      "image/png": "[encoded data removed]",
      "text/plain": [
       "<Figure size 640x480 with 1 Axes>"
      ]
     },
     "metadata": {},
     "output_type": "display_data"
    }
   ],
   "source": [
    "plt.plot(loss_list,label='loss in model',color='midnightblue')\n",
    "plt.xlabel('epoch')\n",
    "plt.ylabel('loss')\n",
    "plt.legend()\n",
    "plt.show()"
   ]
  },
  {
   "cell_type": "code",
   "execution_count": 19,
   "metadata": {},
   "outputs": [
    {
     "data": {
      "image/png": "[encoded data removed]",
      "text/plain": [
       "<Figure size 640x480 with 1 Axes>"
      ]
     },
     "metadata": {},
     "output_type": "display_data"
    }
   ],
   "source": [
    "plt.plot(train_acc_list,label='train_data',color='red')\n",
    "plt.plot(valid_acc_list,label='valid_data',color='midnightblue')\n",
    "plt.xlabel('epoch')\n",
    "plt.ylabel('accruacy')\n",
    "plt.legend()\n",
    "plt.show()"
   ]
  },
  {
   "cell_type": "markdown",
   "metadata": {},
   "source": [
    "$\\huge \\text{Trying different number of layers:}$"
   ]
  },
  {
   "cell_type": "code",
   "execution_count": 27,
   "metadata": {},
   "outputs": [
    {
     "name": "stderr",
     "output_type": "stream",
     "text": [
      "  0%|          | 0/50 [00:00<?, ?it/s]  2%|▏         | 1/50 [00:23<19:12, 23.52s/it]"
     ]
    },
    {
     "name": "stdout",
     "output_type": "stream",
     "text": [
      "epoch is: 1 accuracy over training/validation data set: 0.7533066666666667 / 0.74504  || running loss is: 9.069551330208778\n"
     ]
    },
    {
     "name": "stderr",
     "output_type": "stream",
     "text": [
      "  4%|▍         | 2/50 [00:45<18:18, 22.89s/it]"
     ]
    },
    {
     "name": "stdout",
     "output_type": "stream",
     "text": [
      "epoch is: 2 accuracy over training/validation data set: 0.8185866666666667 / 0.80992  || running loss is: 6.6775010749697685\n"
     ]
    },
    {
     "name": "stderr",
     "output_type": "stream",
     "text": [
      "  6%|▌         | 3/50 [01:08<17:52, 22.81s/it]"
     ]
    },
    {
     "name": "stdout",
     "output_type": "stream",
     "text": [
      "epoch is: 3 accuracy over training/validation data set: 0.8426933333333333 / 0.8264  || running loss is: 5.874232945740223\n"
     ]
    },
    {
     "name": "stderr",
     "output_type": "stream",
     "text": [
      "  8%|▊         | 4/50 [01:31<17:24, 22.71s/it]"
     ]
    },
    {
     "name": "stdout",
     "output_type": "stream",
     "text": [
      "epoch is: 4 accuracy over training/validation data set: 0.8538933333333333 / 0.836  || running loss is: 5.468728863596916\n"
     ]
    },
    {
     "name": "stderr",
     "output_type": "stream",
     "text": [
      " 10%|█         | 5/50 [01:53<16:59, 22.66s/it]"
     ]
    },
    {
     "name": "stdout",
     "output_type": "stream",
     "text": [
      "epoch is: 5 accuracy over training/validation data set: 0.8591733333333333 / 0.83592  || running loss is: 5.209611819088459\n"
     ]
    },
    {
     "name": "stderr",
     "output_type": "stream",
     "text": [
      " 12%|█▏        | 6/50 [02:16<16:39, 22.72s/it]"
     ]
    },
    {
     "name": "stdout",
     "output_type": "stream",
     "text": [
      "epoch is: 6 accuracy over training/validation data set: 0.8611733333333333 / 0.83904  || running loss is: 4.9875008431077\n"
     ]
    },
    {
     "name": "stderr",
     "output_type": "stream",
     "text": [
      " 14%|█▍        | 7/50 [02:39<16:16, 22.70s/it]"
     ]
    },
    {
     "name": "stdout",
     "output_type": "stream",
     "text": [
      "epoch is: 7 accuracy over training/validation data set: 0.8696 / 0.846  || running loss is: 4.8402568441629406\n"
     ]
    },
    {
     "name": "stderr",
     "output_type": "stream",
     "text": [
      " 16%|█▌        | 8/50 [03:02<15:54, 22.73s/it]"
     ]
    },
    {
     "name": "stdout",
     "output_type": "stream",
     "text": [
      "epoch is: 8 accuracy over training/validation data set: 0.8708 / 0.84232  || running loss is: 4.719281580001116\n"
     ]
    },
    {
     "name": "stderr",
     "output_type": "stream",
     "text": [
      " 18%|█▊        | 9/50 [03:24<15:31, 22.72s/it]"
     ]
    },
    {
     "name": "stdout",
     "output_type": "stream",
     "text": [
      "epoch is: 9 accuracy over training/validation data set: 0.8785066666666667 / 0.85152  || running loss is: 4.618342023193836\n"
     ]
    },
    {
     "name": "stderr",
     "output_type": "stream",
     "text": [
      " 20%|██        | 10/50 [03:47<15:10, 22.76s/it]"
     ]
    },
    {
     "name": "stdout",
     "output_type": "stream",
     "text": [
      "epoch is: 10 accuracy over training/validation data set: 0.8808533333333334 / 0.85104  || running loss is: 4.506909002363682\n"
     ]
    },
    {
     "name": "stderr",
     "output_type": "stream",
     "text": [
      " 22%|██▏       | 11/50 [04:10<14:43, 22.65s/it]"
     ]
    },
    {
     "name": "stdout",
     "output_type": "stream",
     "text": [
      "epoch is: 11 accuracy over training/validation data set: 0.8845066666666667 / 0.8516  || running loss is: 4.428161545544863\n"
     ]
    },
    {
     "name": "stderr",
     "output_type": "stream",
     "text": [
      " 24%|██▍       | 12/50 [04:32<14:17, 22.56s/it]"
     ]
    },
    {
     "name": "stdout",
     "output_type": "stream",
     "text": [
      "epoch is: 12 accuracy over training/validation data set: 0.8830933333333333 / 0.8524  || running loss is: 4.322986021190882\n"
     ]
    },
    {
     "name": "stderr",
     "output_type": "stream",
     "text": [
      " 26%|██▌       | 13/50 [04:56<14:06, 22.89s/it]"
     ]
    },
    {
     "name": "stdout",
     "output_type": "stream",
     "text": [
      "epoch is: 13 accuracy over training/validation data set: 0.8828 / 0.8452  || running loss is: 4.26228840470314\n"
     ]
    },
    {
     "name": "stderr",
     "output_type": "stream",
     "text": [
      " 28%|██▊       | 14/50 [05:19<13:50, 23.07s/it]"
     ]
    },
    {
     "name": "stdout",
     "output_type": "stream",
     "text": [
      "epoch is: 14 accuracy over training/validation data set: 0.88936 / 0.8532  || running loss is: 4.202778040617704\n"
     ]
    },
    {
     "name": "stderr",
     "output_type": "stream",
     "text": [
      " 30%|███       | 15/50 [05:42<13:26, 23.05s/it]"
     ]
    },
    {
     "name": "stdout",
     "output_type": "stream",
     "text": [
      "epoch is: 15 accuracy over training/validation data set: 0.8868533333333334 / 0.85056  || running loss is: 4.116621195673942\n"
     ]
    },
    {
     "name": "stderr",
     "output_type": "stream",
     "text": [
      " 32%|███▏      | 16/50 [06:05<13:06, 23.14s/it]"
     ]
    },
    {
     "name": "stdout",
     "output_type": "stream",
     "text": [
      "epoch is: 16 accuracy over training/validation data set: 0.8940266666666666 / 0.85144  || running loss is: 4.01117600351572\n"
     ]
    },
    {
     "name": "stderr",
     "output_type": "stream",
     "text": [
      " 34%|███▍      | 17/50 [06:29<12:46, 23.24s/it]"
     ]
    },
    {
     "name": "stdout",
     "output_type": "stream",
     "text": [
      "epoch is: 17 accuracy over training/validation data set: 0.8890933333333333 / 0.8492  || running loss is: 3.979592054486275\n"
     ]
    },
    {
     "name": "stderr",
     "output_type": "stream",
     "text": [
      " 36%|███▌      | 18/50 [06:52<12:18, 23.07s/it]"
     ]
    },
    {
     "name": "stdout",
     "output_type": "stream",
     "text": [
      "epoch is: 18 accuracy over training/validation data set: 0.89888 / 0.85376  || running loss is: 3.902103870362043\n"
     ]
    },
    {
     "name": "stderr",
     "output_type": "stream",
     "text": [
      " 38%|███▊      | 19/50 [07:15<11:54, 23.05s/it]"
     ]
    },
    {
     "name": "stdout",
     "output_type": "stream",
     "text": [
      "epoch is: 19 accuracy over training/validation data set: 0.8970933333333333 / 0.84904  || running loss is: 3.827818010598421\n"
     ]
    },
    {
     "name": "stderr",
     "output_type": "stream",
     "text": [
      " 40%|████      | 20/50 [07:38<11:31, 23.04s/it]"
     ]
    },
    {
     "name": "stdout",
     "output_type": "stream",
     "text": [
      "epoch is: 20 accuracy over training/validation data set: 0.90536 / 0.8536  || running loss is: 3.7615902404487134\n"
     ]
    },
    {
     "name": "stderr",
     "output_type": "stream",
     "text": [
      " 42%|████▏     | 21/50 [08:01<11:10, 23.13s/it]"
     ]
    },
    {
     "name": "stdout",
     "output_type": "stream",
     "text": [
      "epoch is: 21 accuracy over training/validation data set: 0.91136 / 0.85576  || running loss is: 3.6845988728106023\n"
     ]
    },
    {
     "name": "stderr",
     "output_type": "stream",
     "text": [
      " 44%|████▍     | 22/50 [08:24<10:48, 23.15s/it]"
     ]
    },
    {
     "name": "stdout",
     "output_type": "stream",
     "text": [
      "epoch is: 22 accuracy over training/validation data set: 0.9080533333333334 / 0.84936  || running loss is: 3.6091520665585994\n"
     ]
    },
    {
     "name": "stderr",
     "output_type": "stream",
     "text": [
      " 46%|████▌     | 23/50 [08:47<10:19, 22.96s/it]"
     ]
    },
    {
     "name": "stdout",
     "output_type": "stream",
     "text": [
      "epoch is: 23 accuracy over training/validation data set: 0.9126666666666666 / 0.8492  || running loss is: 3.5371659648418428\n"
     ]
    },
    {
     "name": "stderr",
     "output_type": "stream",
     "text": [
      " 48%|████▊     | 24/50 [09:10<10:00, 23.11s/it]"
     ]
    },
    {
     "name": "stdout",
     "output_type": "stream",
     "text": [
      "epoch is: 24 accuracy over training/validation data set: 0.914 / 0.85104  || running loss is: 3.489830009043217\n"
     ]
    },
    {
     "name": "stderr",
     "output_type": "stream",
     "text": [
      " 50%|█████     | 25/50 [09:33<09:35, 23.01s/it]"
     ]
    },
    {
     "name": "stdout",
     "output_type": "stream",
     "text": [
      "epoch is: 25 accuracy over training/validation data set: 0.9193333333333333 / 0.85192  || running loss is: 3.400040256753564\n"
     ]
    },
    {
     "name": "stderr",
     "output_type": "stream",
     "text": [
      " 52%|█████▏    | 26/50 [09:56<09:13, 23.07s/it]"
     ]
    },
    {
     "name": "stdout",
     "output_type": "stream",
     "text": [
      "epoch is: 26 accuracy over training/validation data set: 0.9178933333333333 / 0.85344  || running loss is: 3.3125840279459955\n"
     ]
    },
    {
     "name": "stderr",
     "output_type": "stream",
     "text": [
      " 54%|█████▍    | 27/50 [10:19<08:51, 23.11s/it]"
     ]
    },
    {
     "name": "stdout",
     "output_type": "stream",
     "text": [
      "epoch is: 27 accuracy over training/validation data set: 0.9206133333333333 / 0.85016  || running loss is: 3.244708318337798\n"
     ]
    },
    {
     "name": "stderr",
     "output_type": "stream",
     "text": [
      " 56%|█████▌    | 28/50 [10:42<08:27, 23.08s/it]"
     ]
    },
    {
     "name": "stdout",
     "output_type": "stream",
     "text": [
      "epoch is: 28 accuracy over training/validation data set: 0.9281333333333334 / 0.85032  || running loss is: 3.152453096285462\n"
     ]
    },
    {
     "name": "stderr",
     "output_type": "stream",
     "text": [
      " 58%|█████▊    | 29/50 [11:05<08:03, 23.05s/it]"
     ]
    },
    {
     "name": "stdout",
     "output_type": "stream",
     "text": [
      "epoch is: 29 accuracy over training/validation data set: 0.9244266666666666 / 0.84784  || running loss is: 3.1081751154735686\n"
     ]
    },
    {
     "name": "stderr",
     "output_type": "stream",
     "text": [
      " 60%|██████    | 30/50 [11:28<07:38, 22.92s/it]"
     ]
    },
    {
     "name": "stdout",
     "output_type": "stream",
     "text": [
      "epoch is: 30 accuracy over training/validation data set: 0.9341066666666666 / 0.84624  || running loss is: 2.9788042146712543\n"
     ]
    },
    {
     "name": "stderr",
     "output_type": "stream",
     "text": [
      " 62%|██████▏   | 31/50 [11:51<07:16, 22.95s/it]"
     ]
    },
    {
     "name": "stdout",
     "output_type": "stream",
     "text": [
      "epoch is: 31 accuracy over training/validation data set: 0.9318666666666666 / 0.84608  || running loss is: 2.9038587780296803\n"
     ]
    },
    {
     "name": "stderr",
     "output_type": "stream",
     "text": [
      " 64%|██████▍   | 32/50 [12:14<06:53, 22.96s/it]"
     ]
    },
    {
     "name": "stdout",
     "output_type": "stream",
     "text": [
      "epoch is: 32 accuracy over training/validation data set: 0.9325066666666667 / 0.84192  || running loss is: 2.8179144617915153\n"
     ]
    },
    {
     "name": "stderr",
     "output_type": "stream",
     "text": [
      " 66%|██████▌   | 33/50 [12:37<06:31, 23.04s/it]"
     ]
    },
    {
     "name": "stdout",
     "output_type": "stream",
     "text": [
      "epoch is: 33 accuracy over training/validation data set: 0.9370133333333334 / 0.84536  || running loss is: 2.726950773522258\n"
     ]
    },
    {
     "name": "stderr",
     "output_type": "stream",
     "text": [
      " 68%|██████▊   | 34/50 [13:00<06:09, 23.10s/it]"
     ]
    },
    {
     "name": "stdout",
     "output_type": "stream",
     "text": [
      "epoch is: 34 accuracy over training/validation data set: 0.9444 / 0.84264  || running loss is: 2.6102680688351394\n"
     ]
    },
    {
     "name": "stderr",
     "output_type": "stream",
     "text": [
      " 70%|███████   | 35/50 [13:23<05:46, 23.09s/it]"
     ]
    },
    {
     "name": "stdout",
     "output_type": "stream",
     "text": [
      "epoch is: 35 accuracy over training/validation data set: 0.9476 / 0.84368  || running loss is: 2.554468710646033\n"
     ]
    },
    {
     "name": "stderr",
     "output_type": "stream",
     "text": [
      " 72%|███████▏  | 36/50 [13:46<05:22, 23.03s/it]"
     ]
    },
    {
     "name": "stdout",
     "output_type": "stream",
     "text": [
      "epoch is: 36 accuracy over training/validation data set: 0.95232 / 0.8444  || running loss is: 2.4295686548948288\n"
     ]
    },
    {
     "name": "stderr",
     "output_type": "stream",
     "text": [
      " 74%|███████▍  | 37/50 [14:09<04:59, 23.04s/it]"
     ]
    },
    {
     "name": "stdout",
     "output_type": "stream",
     "text": [
      "epoch is: 37 accuracy over training/validation data set: 0.95184 / 0.84392  || running loss is: 2.350712520703673\n"
     ]
    },
    {
     "name": "stderr",
     "output_type": "stream",
     "text": [
      " 76%|███████▌  | 38/50 [14:32<04:36, 23.04s/it]"
     ]
    },
    {
     "name": "stdout",
     "output_type": "stream",
     "text": [
      "epoch is: 38 accuracy over training/validation data set: 0.9525333333333333 / 0.84024  || running loss is: 2.2620395709946752\n"
     ]
    },
    {
     "name": "stderr",
     "output_type": "stream",
     "text": [
      " 78%|███████▊  | 39/50 [14:56<04:14, 23.11s/it]"
     ]
    },
    {
     "name": "stdout",
     "output_type": "stream",
     "text": [
      "epoch is: 39 accuracy over training/validation data set: 0.9610933333333334 / 0.8416  || running loss is: 2.1665623836964367\n"
     ]
    },
    {
     "name": "stderr",
     "output_type": "stream",
     "text": [
      " 80%|████████  | 40/50 [15:18<03:50, 23.01s/it]"
     ]
    },
    {
     "name": "stdout",
     "output_type": "stream",
     "text": [
      "epoch is: 40 accuracy over training/validation data set: 0.9592 / 0.84016  || running loss is: 2.0642725889384748\n"
     ]
    },
    {
     "name": "stderr",
     "output_type": "stream",
     "text": [
      " 82%|████████▏ | 41/50 [15:42<03:27, 23.07s/it]"
     ]
    },
    {
     "name": "stdout",
     "output_type": "stream",
     "text": [
      "epoch is: 41 accuracy over training/validation data set: 0.96296 / 0.84064  || running loss is: 1.9815823589637875\n"
     ]
    },
    {
     "name": "stderr",
     "output_type": "stream",
     "text": [
      " 84%|████████▍ | 42/50 [16:05<03:04, 23.09s/it]"
     ]
    },
    {
     "name": "stdout",
     "output_type": "stream",
     "text": [
      "epoch is: 42 accuracy over training/validation data set: 0.9259733333333333 / 0.82576  || running loss is: 1.9031144733540715\n"
     ]
    },
    {
     "name": "stderr",
     "output_type": "stream",
     "text": [
      " 86%|████████▌ | 43/50 [16:28<02:41, 23.12s/it]"
     ]
    },
    {
     "name": "stdout",
     "output_type": "stream",
     "text": [
      "epoch is: 43 accuracy over training/validation data set: 0.9653066666666666 / 0.83744  || running loss is: 1.821979302689433\n"
     ]
    },
    {
     "name": "stderr",
     "output_type": "stream",
     "text": [
      " 88%|████████▊ | 44/50 [16:51<02:18, 23.04s/it]"
     ]
    },
    {
     "name": "stdout",
     "output_type": "stream",
     "text": [
      "epoch is: 44 accuracy over training/validation data set: 0.9688266666666666 / 0.83928  || running loss is: 1.7108057578280569\n"
     ]
    },
    {
     "name": "stderr",
     "output_type": "stream",
     "text": [
      " 90%|█████████ | 45/50 [17:14<01:54, 22.99s/it]"
     ]
    },
    {
     "name": "stdout",
     "output_type": "stream",
     "text": [
      "epoch is: 45 accuracy over training/validation data set: 0.97384 / 0.8392  || running loss is: 1.605159076731652\n"
     ]
    },
    {
     "name": "stderr",
     "output_type": "stream",
     "text": [
      " 92%|█████████▏| 46/50 [17:37<01:31, 22.95s/it]"
     ]
    },
    {
     "name": "stdout",
     "output_type": "stream",
     "text": [
      "epoch is: 46 accuracy over training/validation data set: 0.9759466666666666 / 0.84008  || running loss is: 1.5369959501177073\n"
     ]
    },
    {
     "name": "stderr",
     "output_type": "stream",
     "text": [
      " 94%|█████████▍| 47/50 [18:00<01:09, 23.22s/it]"
     ]
    },
    {
     "name": "stdout",
     "output_type": "stream",
     "text": [
      "epoch is: 47 accuracy over training/validation data set: 0.9754933333333333 / 0.83792  || running loss is: 1.4653446259908378\n"
     ]
    },
    {
     "name": "stderr",
     "output_type": "stream",
     "text": [
      " 96%|█████████▌| 48/50 [18:24<00:46, 23.22s/it]"
     ]
    },
    {
     "name": "stdout",
     "output_type": "stream",
     "text": [
      "epoch is: 48 accuracy over training/validation data set: 0.97728 / 0.83472  || running loss is: 1.3913748512230812\n"
     ]
    },
    {
     "name": "stderr",
     "output_type": "stream",
     "text": [
      " 98%|█████████▊| 49/50 [18:47<00:23, 23.17s/it]"
     ]
    },
    {
     "name": "stdout",
     "output_type": "stream",
     "text": [
      "epoch is: 49 accuracy over training/validation data set: 0.9828 / 0.83824  || running loss is: 1.299982764981687\n"
     ]
    },
    {
     "name": "stderr",
     "output_type": "stream",
     "text": [
      "100%|██████████| 50/50 [19:10<00:00, 23.00s/it]"
     ]
    },
    {
     "name": "stdout",
     "output_type": "stream",
     "text": [
      "epoch is: 50 accuracy over training/validation data set: 0.9792266666666667 / 0.83744  || running loss is: 1.2081566234864294\n"
     ]
    },
    {
     "name": "stderr",
     "output_type": "stream",
     "text": [
      "\n"
     ]
    }
   ],
   "source": [
    "hidden_size=100\n",
    "output_size=1\n",
    "n_layers=5\n",
    "embedding_dim=64\n",
    "model=GRU(hidden_size,output_size,n_layers,embedding_dim).to(device)\n",
    "criterion =nn.BCELoss()\n",
    "lr=0.0001\n",
    "train_acc_list=[]\n",
    "valid_acc_list=[]\n",
    "loss_list=[]\n",
    "optimizer = torch.optim.Adam(model.parameters(), lr=lr)\n",
    "epochs=50\n",
    "num_epochs=tqdm(range(epochs))\n",
    "\n",
    "# n_epochs=tqdm(range(epochs))\n",
    "for epoch in num_epochs:\n",
    "\n",
    "    running_loss = 0\n",
    "\n",
    "    for i,(instances, labels) in enumerate(train_loader):\n",
    "\n",
    "        optimizer.zero_grad()\n",
    "\n",
    "        instances=instances.to(device)\n",
    "        labels=labels.reshape(len(labels),-1).to(device).to(torch.float32)\n",
    "        # print(instances.shape)\n",
    "        output = model(instances)\n",
    "\n",
    "        # print(labels.shape)\n",
    "        # print(output.shape)\n",
    "        # print(output)\n",
    "\n",
    "        # print(output.shape)\n",
    "        # print(labels.shape)\n",
    "        loss = criterion(output, labels)\n",
    "\n",
    "\n",
    "        loss.backward()\n",
    "        optimizer.step()\n",
    "\n",
    "        running_loss += loss.item()\n",
    "    loss_list.append(running_loss/batch_size)\n",
    "    a=train_acc(model)\n",
    "    train_acc_list.append(a)\n",
    "    \n",
    "    b=valid_acc(model)\n",
    "    \n",
    "    # print('accuracy over validation data set:',b)\n",
    "    valid_acc_list.append(b)\n",
    "    print('epoch is:',epoch+1,'accuracy over training/validation data set:',a,'/',b,' || running loss is:',running_loss/batch_size)\n",
    " \n"
   ]
  },
  {
   "cell_type": "code",
   "execution_count": 21,
   "metadata": {},
   "outputs": [
    {
     "data": {
      "image/png": "[encoded data removed]",
      "text/plain": [
       "<Figure size 640x480 with 1 Axes>"
      ]
     },
     "metadata": {},
     "output_type": "display_data"
    }
   ],
   "source": [
    "plt.plot(loss_list,label='loss in model',color='midnightblue')\n",
    "plt.xlabel('epoch')\n",
    "plt.ylabel('loss')\n",
    "plt.legend()\n",
    "plt.show()"
   ]
  },
  {
   "cell_type": "code",
   "execution_count": 22,
   "metadata": {},
   "outputs": [
    {
     "data": {
      "image/png": "[encoded data removed]",
      "text/plain": [
       "<Figure size 640x480 with 1 Axes>"
      ]
     },
     "metadata": {},
     "output_type": "display_data"
    }
   ],
   "source": [
    "plt.plot(train_acc_list,label='train_data',color='red')\n",
    "plt.plot(valid_acc_list,label='valid_data',color='midnightblue')\n",
    "plt.xlabel('epoch')\n",
    "plt.ylabel('accruacy')\n",
    "plt.legend()\n",
    "plt.show()"
   ]
  },
  {
   "cell_type": "markdown",
   "metadata": {},
   "source": [
    "$\\large \\text{Using differenet embedding dimensions:}$"
   ]
  },
  {
   "cell_type": "code",
   "execution_count": 34,
   "metadata": {},
   "outputs": [
    {
     "name": "stderr",
     "output_type": "stream",
     "text": [
      "  0%|          | 0/100 [00:00<?, ?it/s]  1%|          | 1/100 [00:22<37:36, 22.79s/it]"
     ]
    },
    {
     "name": "stdout",
     "output_type": "stream",
     "text": [
      "epoch is: 1 accuracy over training/validation data set: 0.6693866666666667 / 0.6656  || running loss is: 10.066012741327286\n"
     ]
    },
    {
     "name": "stderr",
     "output_type": "stream",
     "text": [
      "  2%|▏         | 2/100 [00:45<37:22, 22.89s/it]"
     ]
    },
    {
     "name": "stdout",
     "output_type": "stream",
     "text": [
      "epoch is: 2 accuracy over training/validation data set: 0.8081866666666667 / 0.79936  || running loss is: 7.491732774972916\n"
     ]
    },
    {
     "name": "stderr",
     "output_type": "stream",
     "text": [
      "  3%|▎         | 3/100 [01:01<31:53, 19.73s/it]"
     ]
    },
    {
     "name": "stdout",
     "output_type": "stream",
     "text": [
      "epoch is: 3 accuracy over training/validation data set: 0.82776 / 0.812  || running loss is: 6.4210525459051135\n"
     ]
    },
    {
     "name": "stderr",
     "output_type": "stream",
     "text": [
      "  4%|▍         | 4/100 [01:20<31:14, 19.53s/it]"
     ]
    },
    {
     "name": "stdout",
     "output_type": "stream",
     "text": [
      "epoch is: 4 accuracy over training/validation data set: 0.8345866666666667 / 0.8204  || running loss is: 5.885620776414871\n"
     ]
    },
    {
     "name": "stderr",
     "output_type": "stream",
     "text": [
      "  5%|▌         | 5/100 [01:39<30:17, 19.13s/it]"
     ]
    },
    {
     "name": "stdout",
     "output_type": "stream",
     "text": [
      "epoch is: 5 accuracy over training/validation data set: 0.8572266666666667 / 0.8328  || running loss is: 5.601426484882832\n"
     ]
    },
    {
     "name": "stderr",
     "output_type": "stream",
     "text": [
      "  6%|▌         | 6/100 [01:59<30:28, 19.45s/it]"
     ]
    },
    {
     "name": "stdout",
     "output_type": "stream",
     "text": [
      "epoch is: 6 accuracy over training/validation data set: 0.86216 / 0.8352  || running loss is: 5.246624541580677\n"
     ]
    },
    {
     "name": "stderr",
     "output_type": "stream",
     "text": [
      "  7%|▋         | 7/100 [02:18<30:09, 19.45s/it]"
     ]
    },
    {
     "name": "stdout",
     "output_type": "stream",
     "text": [
      "epoch is: 7 accuracy over training/validation data set: 0.8730933333333334 / 0.84224  || running loss is: 5.018111093342304\n"
     ]
    },
    {
     "name": "stderr",
     "output_type": "stream",
     "text": [
      "  8%|▊         | 8/100 [02:38<29:53, 19.50s/it]"
     ]
    },
    {
     "name": "stdout",
     "output_type": "stream",
     "text": [
      "epoch is: 8 accuracy over training/validation data set: 0.87856 / 0.84368  || running loss is: 4.817061221301556\n"
     ]
    },
    {
     "name": "stderr",
     "output_type": "stream",
     "text": [
      "  9%|▉         | 9/100 [02:57<29:13, 19.27s/it]"
     ]
    },
    {
     "name": "stdout",
     "output_type": "stream",
     "text": [
      "epoch is: 9 accuracy over training/validation data set: 0.8701066666666667 / 0.83704  || running loss is: 4.661580051928759\n"
     ]
    },
    {
     "name": "stderr",
     "output_type": "stream",
     "text": [
      " 10%|█         | 10/100 [03:12<27:14, 18.16s/it]"
     ]
    },
    {
     "name": "stdout",
     "output_type": "stream",
     "text": [
      "epoch is: 10 accuracy over training/validation data set: 0.88128 / 0.84192  || running loss is: 4.55867700740695\n"
     ]
    },
    {
     "name": "stderr",
     "output_type": "stream",
     "text": [
      " 11%|█         | 11/100 [03:29<26:01, 17.55s/it]"
     ]
    },
    {
     "name": "stdout",
     "output_type": "stream",
     "text": [
      "epoch is: 11 accuracy over training/validation data set: 0.8901866666666667 / 0.84672  || running loss is: 4.3890479063987735\n"
     ]
    },
    {
     "name": "stderr",
     "output_type": "stream",
     "text": [
      " 12%|█▏        | 12/100 [03:45<25:21, 17.30s/it]"
     ]
    },
    {
     "name": "stdout",
     "output_type": "stream",
     "text": [
      "epoch is: 12 accuracy over training/validation data set: 0.8898666666666667 / 0.84288  || running loss is: 4.222705011516809\n"
     ]
    },
    {
     "name": "stderr",
     "output_type": "stream",
     "text": [
      " 13%|█▎        | 13/100 [04:02<24:39, 17.01s/it]"
     ]
    },
    {
     "name": "stdout",
     "output_type": "stream",
     "text": [
      "epoch is: 13 accuracy over training/validation data set: 0.8944533333333333 / 0.84464  || running loss is: 4.164046566486359\n"
     ]
    },
    {
     "name": "stderr",
     "output_type": "stream",
     "text": [
      " 14%|█▍        | 14/100 [04:18<24:16, 16.94s/it]"
     ]
    },
    {
     "name": "stdout",
     "output_type": "stream",
     "text": [
      "epoch is: 14 accuracy over training/validation data set: 0.90384 / 0.84608  || running loss is: 4.024302639365196\n"
     ]
    },
    {
     "name": "stderr",
     "output_type": "stream",
     "text": [
      " 15%|█▌        | 15/100 [04:35<23:38, 16.69s/it]"
     ]
    },
    {
     "name": "stdout",
     "output_type": "stream",
     "text": [
      "epoch is: 15 accuracy over training/validation data set: 0.9053333333333333 / 0.84672  || running loss is: 3.899075242727995\n"
     ]
    },
    {
     "name": "stderr",
     "output_type": "stream",
     "text": [
      " 16%|█▌        | 16/100 [04:50<22:57, 16.40s/it]"
     ]
    },
    {
     "name": "stdout",
     "output_type": "stream",
     "text": [
      "epoch is: 16 accuracy over training/validation data set: 0.91216 / 0.84688  || running loss is: 3.8342296427488325\n"
     ]
    },
    {
     "name": "stderr",
     "output_type": "stream",
     "text": [
      " 17%|█▋        | 17/100 [05:07<22:47, 16.48s/it]"
     ]
    },
    {
     "name": "stdout",
     "output_type": "stream",
     "text": [
      "epoch is: 17 accuracy over training/validation data set: 0.9147733333333333 / 0.85024  || running loss is: 3.672472205162048\n"
     ]
    },
    {
     "name": "stderr",
     "output_type": "stream",
     "text": [
      " 18%|█▊        | 18/100 [05:23<22:18, 16.33s/it]"
     ]
    },
    {
     "name": "stdout",
     "output_type": "stream",
     "text": [
      "epoch is: 18 accuracy over training/validation data set: 0.9148266666666667 / 0.84488  || running loss is: 3.6172200940549373\n"
     ]
    },
    {
     "name": "stderr",
     "output_type": "stream",
     "text": [
      " 19%|█▉        | 19/100 [05:38<21:33, 15.97s/it]"
     ]
    },
    {
     "name": "stdout",
     "output_type": "stream",
     "text": [
      "epoch is: 19 accuracy over training/validation data set: 0.9204266666666666 / 0.84592  || running loss is: 3.4671839202195405\n"
     ]
    },
    {
     "name": "stderr",
     "output_type": "stream",
     "text": [
      " 20%|██        | 20/100 [05:53<20:47, 15.60s/it]"
     ]
    },
    {
     "name": "stdout",
     "output_type": "stream",
     "text": [
      "epoch is: 20 accuracy over training/validation data set: 0.9249333333333334 / 0.84904  || running loss is: 3.3740525844693185\n"
     ]
    },
    {
     "name": "stderr",
     "output_type": "stream",
     "text": [
      " 21%|██        | 21/100 [06:11<21:33, 16.38s/it]"
     ]
    },
    {
     "name": "stdout",
     "output_type": "stream",
     "text": [
      "epoch is: 21 accuracy over training/validation data set: 0.9282666666666667 / 0.84776  || running loss is: 3.240683104619384\n"
     ]
    },
    {
     "name": "stderr",
     "output_type": "stream",
     "text": [
      " 22%|██▏       | 22/100 [06:28<21:25, 16.49s/it]"
     ]
    },
    {
     "name": "stdout",
     "output_type": "stream",
     "text": [
      "epoch is: 22 accuracy over training/validation data set: 0.9270666666666667 / 0.8456  || running loss is: 3.163267461359501\n"
     ]
    },
    {
     "name": "stderr",
     "output_type": "stream",
     "text": [
      " 23%|██▎       | 23/100 [06:44<21:12, 16.53s/it]"
     ]
    },
    {
     "name": "stdout",
     "output_type": "stream",
     "text": [
      "epoch is: 23 accuracy over training/validation data set: 0.93544 / 0.84704  || running loss is: 3.1231624978780745\n"
     ]
    },
    {
     "name": "stderr",
     "output_type": "stream",
     "text": [
      " 24%|██▍       | 24/100 [07:00<20:32, 16.22s/it]"
     ]
    },
    {
     "name": "stdout",
     "output_type": "stream",
     "text": [
      "epoch is: 24 accuracy over training/validation data set: 0.9325866666666667 / 0.8444  || running loss is: 2.944190749078989\n"
     ]
    },
    {
     "name": "stderr",
     "output_type": "stream",
     "text": [
      " 25%|██▌       | 25/100 [07:15<19:58, 15.98s/it]"
     ]
    },
    {
     "name": "stdout",
     "output_type": "stream",
     "text": [
      "epoch is: 25 accuracy over training/validation data set: 0.94032 / 0.84536  || running loss is: 2.8288445819914343\n"
     ]
    },
    {
     "name": "stderr",
     "output_type": "stream",
     "text": [
      " 26%|██▌       | 26/100 [07:30<19:16, 15.63s/it]"
     ]
    },
    {
     "name": "stdout",
     "output_type": "stream",
     "text": [
      "epoch is: 26 accuracy over training/validation data set: 0.9389333333333333 / 0.84  || running loss is: 2.732037902623415\n"
     ]
    },
    {
     "name": "stderr",
     "output_type": "stream",
     "text": [
      " 27%|██▋       | 27/100 [07:46<19:03, 15.67s/it]"
     ]
    },
    {
     "name": "stdout",
     "output_type": "stream",
     "text": [
      "epoch is: 27 accuracy over training/validation data set: 0.94408 / 0.84416  || running loss is: 2.651141314357519\n"
     ]
    },
    {
     "name": "stderr",
     "output_type": "stream",
     "text": [
      " 28%|██▊       | 28/100 [08:01<18:47, 15.66s/it]"
     ]
    },
    {
     "name": "stdout",
     "output_type": "stream",
     "text": [
      "epoch is: 28 accuracy over training/validation data set: 0.9487466666666666 / 0.84432  || running loss is: 2.559953017421067\n"
     ]
    },
    {
     "name": "stderr",
     "output_type": "stream",
     "text": [
      " 29%|██▉       | 29/100 [08:17<18:23, 15.55s/it]"
     ]
    },
    {
     "name": "stdout",
     "output_type": "stream",
     "text": [
      "epoch is: 29 accuracy over training/validation data set: 0.9488266666666667 / 0.8416  || running loss is: 2.4228275536000727\n"
     ]
    },
    {
     "name": "stderr",
     "output_type": "stream",
     "text": [
      " 30%|███       | 30/100 [08:32<18:08, 15.54s/it]"
     ]
    },
    {
     "name": "stdout",
     "output_type": "stream",
     "text": [
      "epoch is: 30 accuracy over training/validation data set: 0.9536533333333334 / 0.8444  || running loss is: 2.355059837885201\n"
     ]
    },
    {
     "name": "stderr",
     "output_type": "stream",
     "text": [
      " 31%|███       | 31/100 [08:49<18:18, 15.92s/it]"
     ]
    },
    {
     "name": "stdout",
     "output_type": "stream",
     "text": [
      "epoch is: 31 accuracy over training/validation data set: 0.9589333333333333 / 0.84504  || running loss is: 2.239524732083082\n"
     ]
    },
    {
     "name": "stderr",
     "output_type": "stream",
     "text": [
      " 32%|███▏      | 32/100 [09:06<18:28, 16.30s/it]"
     ]
    },
    {
     "name": "stdout",
     "output_type": "stream",
     "text": [
      "epoch is: 32 accuracy over training/validation data set: 0.9544266666666666 / 0.83752  || running loss is: 2.1631790605932473\n"
     ]
    },
    {
     "name": "stderr",
     "output_type": "stream",
     "text": [
      " 33%|███▎      | 33/100 [09:27<19:43, 17.67s/it]"
     ]
    },
    {
     "name": "stdout",
     "output_type": "stream",
     "text": [
      "epoch is: 33 accuracy over training/validation data set: 0.9605866666666667 / 0.83848  || running loss is: 2.0178789291903376\n"
     ]
    },
    {
     "name": "stderr",
     "output_type": "stream",
     "text": [
      " 34%|███▍      | 34/100 [09:49<20:55, 19.03s/it]"
     ]
    },
    {
     "name": "stdout",
     "output_type": "stream",
     "text": [
      "epoch is: 34 accuracy over training/validation data set: 0.9574933333333333 / 0.83512  || running loss is: 1.9237614971399308\n"
     ]
    },
    {
     "name": "stderr",
     "output_type": "stream",
     "text": [
      " 35%|███▌      | 35/100 [10:11<21:34, 19.91s/it]"
     ]
    },
    {
     "name": "stdout",
     "output_type": "stream",
     "text": [
      "epoch is: 35 accuracy over training/validation data set: 0.9618666666666666 / 0.83832  || running loss is: 1.897149666044861\n"
     ]
    },
    {
     "name": "stderr",
     "output_type": "stream",
     "text": [
      " 36%|███▌      | 36/100 [10:31<21:08, 19.82s/it]"
     ]
    },
    {
     "name": "stdout",
     "output_type": "stream",
     "text": [
      "epoch is: 36 accuracy over training/validation data set: 0.97088 / 0.83928  || running loss is: 1.8031639767251908\n"
     ]
    },
    {
     "name": "stderr",
     "output_type": "stream",
     "text": [
      " 37%|███▋      | 37/100 [10:51<20:49, 19.83s/it]"
     ]
    },
    {
     "name": "stdout",
     "output_type": "stream",
     "text": [
      "epoch is: 37 accuracy over training/validation data set: 0.9718933333333334 / 0.8368  || running loss is: 1.7571734166517854\n"
     ]
    },
    {
     "name": "stderr",
     "output_type": "stream",
     "text": [
      " 38%|███▊      | 38/100 [11:11<20:34, 19.91s/it]"
     ]
    },
    {
     "name": "stdout",
     "output_type": "stream",
     "text": [
      "epoch is: 38 accuracy over training/validation data set: 0.9686666666666667 / 0.838  || running loss is: 1.607037098724395\n"
     ]
    },
    {
     "name": "stderr",
     "output_type": "stream",
     "text": [
      " 39%|███▉      | 39/100 [11:31<20:14, 19.91s/it]"
     ]
    },
    {
     "name": "stdout",
     "output_type": "stream",
     "text": [
      "epoch is: 39 accuracy over training/validation data set: 0.97472 / 0.83616  || running loss is: 1.55529150377959\n"
     ]
    },
    {
     "name": "stderr",
     "output_type": "stream",
     "text": [
      " 40%|████      | 40/100 [11:47<18:42, 18.71s/it]"
     ]
    },
    {
     "name": "stdout",
     "output_type": "stream",
     "text": [
      "epoch is: 40 accuracy over training/validation data set: 0.9733866666666666 / 0.83528  || running loss is: 1.427549519110471\n"
     ]
    },
    {
     "name": "stderr",
     "output_type": "stream",
     "text": [
      " 41%|████      | 41/100 [12:05<18:17, 18.61s/it]"
     ]
    },
    {
     "name": "stdout",
     "output_type": "stream",
     "text": [
      "epoch is: 41 accuracy over training/validation data set: 0.9773066666666667 / 0.8352  || running loss is: 1.4459717707894741\n"
     ]
    },
    {
     "name": "stderr",
     "output_type": "stream",
     "text": [
      " 42%|████▏     | 42/100 [12:23<17:41, 18.31s/it]"
     ]
    },
    {
     "name": "stdout",
     "output_type": "stream",
     "text": [
      "epoch is: 42 accuracy over training/validation data set: 0.9826666666666667 / 0.83584  || running loss is: 1.2869462365284563\n"
     ]
    },
    {
     "name": "stderr",
     "output_type": "stream",
     "text": [
      " 43%|████▎     | 43/100 [12:40<16:59, 17.88s/it]"
     ]
    },
    {
     "name": "stdout",
     "output_type": "stream",
     "text": [
      "epoch is: 43 accuracy over training/validation data set: 0.9828266666666666 / 0.8376  || running loss is: 1.3436305144429206\n"
     ]
    },
    {
     "name": "stderr",
     "output_type": "stream",
     "text": [
      " 44%|████▍     | 44/100 [12:56<16:09, 17.32s/it]"
     ]
    },
    {
     "name": "stdout",
     "output_type": "stream",
     "text": [
      "epoch is: 44 accuracy over training/validation data set: 0.98368 / 0.83312  || running loss is: 1.1439619356021284\n"
     ]
    },
    {
     "name": "stderr",
     "output_type": "stream",
     "text": [
      " 45%|████▌     | 45/100 [13:08<14:39, 15.99s/it]"
     ]
    },
    {
     "name": "stdout",
     "output_type": "stream",
     "text": [
      "epoch is: 45 accuracy over training/validation data set: 0.9868533333333334 / 0.83712  || running loss is: 1.0747927985806018\n"
     ]
    },
    {
     "name": "stderr",
     "output_type": "stream",
     "text": [
      " 46%|████▌     | 46/100 [13:24<14:15, 15.84s/it]"
     ]
    },
    {
     "name": "stdout",
     "output_type": "stream",
     "text": [
      "epoch is: 46 accuracy over training/validation data set: 0.9768533333333334 / 0.83112  || running loss is: 1.0710039696469904\n"
     ]
    },
    {
     "name": "stderr",
     "output_type": "stream",
     "text": [
      " 47%|████▋     | 47/100 [13:41<14:16, 16.16s/it]"
     ]
    },
    {
     "name": "stdout",
     "output_type": "stream",
     "text": [
      "epoch is: 47 accuracy over training/validation data set: 0.9869066666666667 / 0.8344  || running loss is: 1.104456798620522\n"
     ]
    },
    {
     "name": "stderr",
     "output_type": "stream",
     "text": [
      " 48%|████▊     | 48/100 [14:00<14:40, 16.93s/it]"
     ]
    },
    {
     "name": "stdout",
     "output_type": "stream",
     "text": [
      "epoch is: 48 accuracy over training/validation data set: 0.98784 / 0.83416  || running loss is: 1.054111470365897\n"
     ]
    },
    {
     "name": "stderr",
     "output_type": "stream",
     "text": [
      " 49%|████▉     | 49/100 [14:17<14:36, 17.19s/it]"
     ]
    },
    {
     "name": "stdout",
     "output_type": "stream",
     "text": [
      "epoch is: 49 accuracy over training/validation data set: 0.9771733333333333 / 0.83016  || running loss is: 0.938845884213224\n"
     ]
    },
    {
     "name": "stderr",
     "output_type": "stream",
     "text": [
      " 50%|█████     | 50/100 [14:34<14:15, 17.11s/it]"
     ]
    },
    {
     "name": "stdout",
     "output_type": "stream",
     "text": [
      "epoch is: 50 accuracy over training/validation data set: 0.9884 / 0.83144  || running loss is: 0.9141146758571267\n"
     ]
    },
    {
     "name": "stderr",
     "output_type": "stream",
     "text": [
      " 51%|█████     | 51/100 [14:51<13:56, 17.08s/it]"
     ]
    },
    {
     "name": "stdout",
     "output_type": "stream",
     "text": [
      "epoch is: 51 accuracy over training/validation data set: 0.98784 / 0.83216  || running loss is: 0.8830020931269974\n"
     ]
    },
    {
     "name": "stderr",
     "output_type": "stream",
     "text": [
      " 52%|█████▏    | 52/100 [15:08<13:38, 17.05s/it]"
     ]
    },
    {
     "name": "stdout",
     "output_type": "stream",
     "text": [
      "epoch is: 52 accuracy over training/validation data set: 0.9807733333333334 / 0.82688  || running loss is: 0.7631363445380702\n"
     ]
    },
    {
     "name": "stderr",
     "output_type": "stream",
     "text": [
      " 53%|█████▎    | 53/100 [15:24<13:07, 16.75s/it]"
     ]
    },
    {
     "name": "stdout",
     "output_type": "stream",
     "text": [
      "epoch is: 53 accuracy over training/validation data set: 0.9925866666666666 / 0.83064  || running loss is: 0.6904443453857675\n"
     ]
    },
    {
     "name": "stderr",
     "output_type": "stream",
     "text": [
      " 54%|█████▍    | 54/100 [15:40<12:32, 16.36s/it]"
     ]
    },
    {
     "name": "stdout",
     "output_type": "stream",
     "text": [
      "epoch is: 54 accuracy over training/validation data set: 0.9922133333333333 / 0.83008  || running loss is: 0.7488117137830704\n"
     ]
    },
    {
     "name": "stderr",
     "output_type": "stream",
     "text": [
      " 55%|█████▌    | 55/100 [15:55<12:05, 16.12s/it]"
     ]
    },
    {
     "name": "stdout",
     "output_type": "stream",
     "text": [
      "epoch is: 55 accuracy over training/validation data set: 0.9912533333333333 / 0.83376  || running loss is: 0.7525154723366723\n"
     ]
    },
    {
     "name": "stderr",
     "output_type": "stream",
     "text": [
      " 56%|█████▌    | 56/100 [16:13<12:04, 16.46s/it]"
     ]
    },
    {
     "name": "stdout",
     "output_type": "stream",
     "text": [
      "epoch is: 56 accuracy over training/validation data set: 0.9894933333333333 / 0.83328  || running loss is: 0.8155476125376299\n"
     ]
    },
    {
     "name": "stderr",
     "output_type": "stream",
     "text": [
      " 57%|█████▋    | 57/100 [16:26<11:04, 15.46s/it]"
     ]
    },
    {
     "name": "stdout",
     "output_type": "stream",
     "text": [
      "epoch is: 57 accuracy over training/validation data set: 0.9950933333333334 / 0.83416  || running loss is: 0.7228350650146603\n"
     ]
    },
    {
     "name": "stderr",
     "output_type": "stream",
     "text": [
      " 58%|█████▊    | 58/100 [16:41<10:41, 15.28s/it]"
     ]
    },
    {
     "name": "stdout",
     "output_type": "stream",
     "text": [
      "epoch is: 58 accuracy over training/validation data set: 0.99104 / 0.83184  || running loss is: 0.5087050055200234\n"
     ]
    },
    {
     "name": "stderr",
     "output_type": "stream",
     "text": [
      " 59%|█████▉    | 59/100 [16:56<10:24, 15.24s/it]"
     ]
    },
    {
     "name": "stdout",
     "output_type": "stream",
     "text": [
      "epoch is: 59 accuracy over training/validation data set: 0.9959733333333334 / 0.8304  || running loss is: 0.4734015908325091\n"
     ]
    },
    {
     "name": "stderr",
     "output_type": "stream",
     "text": [
      " 60%|██████    | 60/100 [17:10<09:57, 14.95s/it]"
     ]
    },
    {
     "name": "stdout",
     "output_type": "stream",
     "text": [
      "epoch is: 60 accuracy over training/validation data set: 0.9918666666666667 / 0.83096  || running loss is: 0.629803338474594\n"
     ]
    },
    {
     "name": "stderr",
     "output_type": "stream",
     "text": [
      " 61%|██████    | 61/100 [17:24<09:34, 14.73s/it]"
     ]
    },
    {
     "name": "stdout",
     "output_type": "stream",
     "text": [
      "epoch is: 61 accuracy over training/validation data set: 0.99568 / 0.82624  || running loss is: 0.35904682368272917\n"
     ]
    },
    {
     "name": "stderr",
     "output_type": "stream",
     "text": [
      " 62%|██████▏   | 62/100 [17:39<09:22, 14.80s/it]"
     ]
    },
    {
     "name": "stdout",
     "output_type": "stream",
     "text": [
      "epoch is: 62 accuracy over training/validation data set: 0.8737333333333334 / 0.77144  || running loss is: 0.960321117984131\n"
     ]
    },
    {
     "name": "stderr",
     "output_type": "stream",
     "text": [
      " 63%|██████▎   | 63/100 [17:55<09:14, 14.98s/it]"
     ]
    },
    {
     "name": "stdout",
     "output_type": "stream",
     "text": [
      "epoch is: 63 accuracy over training/validation data set: 0.9967733333333333 / 0.83176  || running loss is: 0.8531340686720796\n"
     ]
    },
    {
     "name": "stderr",
     "output_type": "stream",
     "text": [
      " 64%|██████▍   | 64/100 [18:08<08:46, 14.62s/it]"
     ]
    },
    {
     "name": "stdout",
     "output_type": "stream",
     "text": [
      "epoch is: 64 accuracy over training/validation data set: 0.9977066666666666 / 0.82944  || running loss is: 0.3345585822477005\n"
     ]
    },
    {
     "name": "stderr",
     "output_type": "stream",
     "text": [
      " 65%|██████▌   | 65/100 [18:23<08:31, 14.62s/it]"
     ]
    },
    {
     "name": "stdout",
     "output_type": "stream",
     "text": [
      "epoch is: 65 accuracy over training/validation data set: 0.9803466666666667 / 0.82832  || running loss is: 0.33876544212922455\n"
     ]
    },
    {
     "name": "stderr",
     "output_type": "stream",
     "text": [
      " 66%|██████▌   | 66/100 [18:38<08:19, 14.68s/it]"
     ]
    },
    {
     "name": "stdout",
     "output_type": "stream",
     "text": [
      "epoch is: 66 accuracy over training/validation data set: 0.9976 / 0.83208  || running loss is: 0.6085723840934224\n"
     ]
    },
    {
     "name": "stderr",
     "output_type": "stream",
     "text": [
      " 67%|██████▋   | 67/100 [18:54<08:22, 15.23s/it]"
     ]
    },
    {
     "name": "stdout",
     "output_type": "stream",
     "text": [
      "epoch is: 67 accuracy over training/validation data set: 0.99776 / 0.83248  || running loss is: 0.24998001736938022\n"
     ]
    },
    {
     "name": "stderr",
     "output_type": "stream",
     "text": [
      " 68%|██████▊   | 68/100 [19:13<08:43, 16.35s/it]"
     ]
    },
    {
     "name": "stdout",
     "output_type": "stream",
     "text": [
      "epoch is: 68 accuracy over training/validation data set: 0.99544 / 0.82896  || running loss is: 0.7539197372226044\n"
     ]
    },
    {
     "name": "stderr",
     "output_type": "stream",
     "text": [
      " 69%|██████▉   | 69/100 [19:32<08:52, 17.17s/it]"
     ]
    },
    {
     "name": "stdout",
     "output_type": "stream",
     "text": [
      "epoch is: 69 accuracy over training/validation data set: 0.9984 / 0.83016  || running loss is: 0.27505120771122166\n"
     ]
    },
    {
     "name": "stderr",
     "output_type": "stream",
     "text": [
      " 70%|███████   | 70/100 [19:51<08:48, 17.63s/it]"
     ]
    },
    {
     "name": "stdout",
     "output_type": "stream",
     "text": [
      "epoch is: 70 accuracy over training/validation data set: 0.9875733333333333 / 0.82824  || running loss is: 0.2820190617570188\n"
     ]
    },
    {
     "name": "stderr",
     "output_type": "stream",
     "text": [
      " 71%|███████   | 71/100 [20:10<08:41, 17.99s/it]"
     ]
    },
    {
     "name": "stdout",
     "output_type": "stream",
     "text": [
      "epoch is: 71 accuracy over training/validation data set: 0.9964 / 0.83072  || running loss is: 0.7603485840803478\n"
     ]
    },
    {
     "name": "stderr",
     "output_type": "stream",
     "text": [
      " 72%|███████▏  | 72/100 [20:29<08:34, 18.37s/it]"
     ]
    },
    {
     "name": "stdout",
     "output_type": "stream",
     "text": [
      "epoch is: 72 accuracy over training/validation data set: 0.9984533333333333 / 0.83024  || running loss is: 0.3058292822726071\n"
     ]
    },
    {
     "name": "stderr",
     "output_type": "stream",
     "text": [
      " 73%|███████▎  | 73/100 [20:45<07:58, 17.70s/it]"
     ]
    },
    {
     "name": "stdout",
     "output_type": "stream",
     "text": [
      "epoch is: 73 accuracy over training/validation data set: 0.9987466666666667 / 0.83192  || running loss is: 0.1810534304671455\n"
     ]
    },
    {
     "name": "stderr",
     "output_type": "stream",
     "text": [
      " 74%|███████▍  | 74/100 [21:02<07:32, 17.39s/it]"
     ]
    },
    {
     "name": "stdout",
     "output_type": "stream",
     "text": [
      "epoch is: 74 accuracy over training/validation data set: 0.99016 / 0.82256  || running loss is: 0.37175766528351234\n"
     ]
    },
    {
     "name": "stderr",
     "output_type": "stream",
     "text": [
      " 75%|███████▌  | 75/100 [21:20<07:18, 17.56s/it]"
     ]
    },
    {
     "name": "stdout",
     "output_type": "stream",
     "text": [
      "epoch is: 75 accuracy over training/validation data set: 0.9937333333333334 / 0.82672  || running loss is: 0.4110607928643003\n"
     ]
    },
    {
     "name": "stderr",
     "output_type": "stream",
     "text": [
      " 76%|███████▌  | 76/100 [21:34<06:38, 16.62s/it]"
     ]
    },
    {
     "name": "stdout",
     "output_type": "stream",
     "text": [
      "epoch is: 76 accuracy over training/validation data set: 0.9981333333333333 / 0.82712  || running loss is: 0.3340876482659951\n"
     ]
    },
    {
     "name": "stderr",
     "output_type": "stream",
     "text": [
      " 77%|███████▋  | 77/100 [21:51<06:20, 16.56s/it]"
     ]
    },
    {
     "name": "stdout",
     "output_type": "stream",
     "text": [
      "epoch is: 77 accuracy over training/validation data set: 0.9990133333333333 / 0.82936  || running loss is: 0.330062022160273\n"
     ]
    },
    {
     "name": "stderr",
     "output_type": "stream",
     "text": [
      " 78%|███████▊  | 78/100 [22:09<06:17, 17.15s/it]"
     ]
    },
    {
     "name": "stdout",
     "output_type": "stream",
     "text": [
      "epoch is: 78 accuracy over training/validation data set: 0.99872 / 0.82784  || running loss is: 0.14379373156873043\n"
     ]
    },
    {
     "name": "stderr",
     "output_type": "stream",
     "text": [
      " 79%|███████▉  | 79/100 [22:25<05:51, 16.75s/it]"
     ]
    },
    {
     "name": "stdout",
     "output_type": "stream",
     "text": [
      "epoch is: 79 accuracy over training/validation data set: 0.97912 / 0.82632  || running loss is: 0.5192445533862338\n"
     ]
    },
    {
     "name": "stderr",
     "output_type": "stream",
     "text": [
      " 80%|████████  | 80/100 [22:42<05:35, 16.77s/it]"
     ]
    },
    {
     "name": "stdout",
     "output_type": "stream",
     "text": [
      "epoch is: 80 accuracy over training/validation data set: 0.9922666666666666 / 0.82856  || running loss is: 0.3236275753960945\n"
     ]
    },
    {
     "name": "stderr",
     "output_type": "stream",
     "text": [
      " 81%|████████  | 81/100 [22:58<05:16, 16.65s/it]"
     ]
    },
    {
     "name": "stdout",
     "output_type": "stream",
     "text": [
      "epoch is: 81 accuracy over training/validation data set: 0.9991733333333334 / 0.83208  || running loss is: 0.5304105503996834\n"
     ]
    },
    {
     "name": "stderr",
     "output_type": "stream",
     "text": [
      " 82%|████████▏ | 82/100 [23:15<04:58, 16.61s/it]"
     ]
    },
    {
     "name": "stdout",
     "output_type": "stream",
     "text": [
      "epoch is: 82 accuracy over training/validation data set: 0.9994933333333333 / 0.8312  || running loss is: 0.11121761838789097\n"
     ]
    },
    {
     "name": "stderr",
     "output_type": "stream",
     "text": [
      " 83%|████████▎ | 83/100 [23:32<04:44, 16.75s/it]"
     ]
    },
    {
     "name": "stdout",
     "output_type": "stream",
     "text": [
      "epoch is: 83 accuracy over training/validation data set: 0.9985866666666666 / 0.83072  || running loss is: 0.4640619087015512\n"
     ]
    },
    {
     "name": "stderr",
     "output_type": "stream",
     "text": [
      " 84%|████████▍ | 84/100 [23:51<04:38, 17.40s/it]"
     ]
    },
    {
     "name": "stdout",
     "output_type": "stream",
     "text": [
      "epoch is: 84 accuracy over training/validation data set: 0.99936 / 0.83136  || running loss is: 0.19777344089001417\n"
     ]
    },
    {
     "name": "stderr",
     "output_type": "stream",
     "text": [
      " 85%|████████▌ | 85/100 [24:10<04:28, 17.89s/it]"
     ]
    },
    {
     "name": "stdout",
     "output_type": "stream",
     "text": [
      "epoch is: 85 accuracy over training/validation data set: 0.9926666666666667 / 0.8272  || running loss is: 0.2301643709803466\n"
     ]
    },
    {
     "name": "stderr",
     "output_type": "stream",
     "text": [
      " 86%|████████▌ | 86/100 [24:29<04:15, 18.25s/it]"
     ]
    },
    {
     "name": "stdout",
     "output_type": "stream",
     "text": [
      "epoch is: 86 accuracy over training/validation data set: 0.9874666666666667 / 0.82208  || running loss is: 0.26767983403697143\n"
     ]
    },
    {
     "name": "stderr",
     "output_type": "stream",
     "text": [
      " 87%|████████▋ | 87/100 [24:46<03:52, 17.88s/it]"
     ]
    },
    {
     "name": "stdout",
     "output_type": "stream",
     "text": [
      "epoch is: 87 accuracy over training/validation data set: 0.99944 / 0.83128  || running loss is: 0.3868669461290119\n"
     ]
    },
    {
     "name": "stderr",
     "output_type": "stream",
     "text": [
      " 88%|████████▊ | 88/100 [25:04<03:36, 18.08s/it]"
     ]
    },
    {
     "name": "stdout",
     "output_type": "stream",
     "text": [
      "epoch is: 88 accuracy over training/validation data set: 0.9997066666666666 / 0.82984  || running loss is: 0.08170756879728287\n"
     ]
    },
    {
     "name": "stderr",
     "output_type": "stream",
     "text": [
      " 89%|████████▉ | 89/100 [25:20<03:10, 17.32s/it]"
     ]
    },
    {
     "name": "stdout",
     "output_type": "stream",
     "text": [
      "epoch is: 89 accuracy over training/validation data set: 0.9998133333333333 / 0.82944  || running loss is: 0.05970468103099847\n"
     ]
    },
    {
     "name": "stderr",
     "output_type": "stream",
     "text": [
      " 90%|█████████ | 90/100 [25:36<02:50, 17.05s/it]"
     ]
    },
    {
     "name": "stdout",
     "output_type": "stream",
     "text": [
      "epoch is: 90 accuracy over training/validation data set: 0.9933333333333333 / 0.82792  || running loss is: 0.370689543405897\n"
     ]
    },
    {
     "name": "stderr",
     "output_type": "stream",
     "text": [
      " 91%|█████████ | 91/100 [25:53<02:32, 16.95s/it]"
     ]
    },
    {
     "name": "stdout",
     "output_type": "stream",
     "text": [
      "epoch is: 91 accuracy over training/validation data set: 0.9872 / 0.822  || running loss is: 0.16838354702456854\n"
     ]
    },
    {
     "name": "stderr",
     "output_type": "stream",
     "text": [
      " 92%|█████████▏| 92/100 [26:10<02:14, 16.81s/it]"
     ]
    },
    {
     "name": "stdout",
     "output_type": "stream",
     "text": [
      "epoch is: 92 accuracy over training/validation data set: 0.9989333333333333 / 0.8308  || running loss is: 0.5740813626453746\n"
     ]
    },
    {
     "name": "stderr",
     "output_type": "stream",
     "text": [
      " 93%|█████████▎| 93/100 [26:28<01:59, 17.12s/it]"
     ]
    },
    {
     "name": "stdout",
     "output_type": "stream",
     "text": [
      "epoch is: 93 accuracy over training/validation data set: 0.9997066666666666 / 0.82872  || running loss is: 0.09236464059562423\n"
     ]
    },
    {
     "name": "stderr",
     "output_type": "stream",
     "text": [
      " 94%|█████████▍| 94/100 [26:43<01:38, 16.49s/it]"
     ]
    },
    {
     "name": "stdout",
     "output_type": "stream",
     "text": [
      "epoch is: 94 accuracy over training/validation data set: 0.9998133333333333 / 0.82944  || running loss is: 0.06135615126520861\n"
     ]
    },
    {
     "name": "stderr",
     "output_type": "stream",
     "text": [
      " 95%|█████████▌| 95/100 [26:58<01:20, 16.05s/it]"
     ]
    },
    {
     "name": "stdout",
     "output_type": "stream",
     "text": [
      "epoch is: 95 accuracy over training/validation data set: 0.9998933333333333 / 0.82856  || running loss is: 0.04295150276011554\n"
     ]
    },
    {
     "name": "stderr",
     "output_type": "stream",
     "text": [
      " 96%|█████████▌| 96/100 [27:16<01:07, 16.77s/it]"
     ]
    },
    {
     "name": "stdout",
     "output_type": "stream",
     "text": [
      "epoch is: 96 accuracy over training/validation data set: 0.9832 / 0.82112  || running loss is: 0.7279835092634311\n"
     ]
    },
    {
     "name": "stderr",
     "output_type": "stream",
     "text": [
      " 97%|█████████▋| 97/100 [27:31<00:48, 16.17s/it]"
     ]
    },
    {
     "name": "stdout",
     "output_type": "stream",
     "text": [
      "epoch is: 97 accuracy over training/validation data set: 0.9952 / 0.82584  || running loss is: 0.2663842077145819\n"
     ]
    },
    {
     "name": "stderr",
     "output_type": "stream",
     "text": [
      " 98%|█████████▊| 98/100 [27:50<00:34, 17.18s/it]"
     ]
    },
    {
     "name": "stdout",
     "output_type": "stream",
     "text": [
      "epoch is: 98 accuracy over training/validation data set: 0.9995466666666667 / 0.83048  || running loss is: 0.42276424273033625\n"
     ]
    },
    {
     "name": "stderr",
     "output_type": "stream",
     "text": [
      " 99%|█████████▉| 99/100 [28:02<00:15, 15.60s/it]"
     ]
    },
    {
     "name": "stdout",
     "output_type": "stream",
     "text": [
      "epoch is: 99 accuracy over training/validation data set: 0.99984 / 0.83136  || running loss is: 0.06888671380118466\n"
     ]
    },
    {
     "name": "stderr",
     "output_type": "stream",
     "text": [
      "100%|██████████| 100/100 [28:17<00:00, 16.97s/it]"
     ]
    },
    {
     "name": "stdout",
     "output_type": "stream",
     "text": [
      "epoch is: 100 accuracy over training/validation data set: 0.9999466666666667 / 0.8304  || running loss is: 0.04185342356446199\n"
     ]
    },
    {
     "name": "stderr",
     "output_type": "stream",
     "text": [
      "\n"
     ]
    }
   ],
   "source": [
    "hidden_size=100\n",
    "output_size=1\n",
    "n_layers=1\n",
    "embedding_dim=256\n",
    "model=GRU(hidden_size,output_size,n_layers,embedding_dim).to(device)\n",
    "criterion =nn.BCELoss()\n",
    "lr=0.0001\n",
    "train_acc_list=[]\n",
    "valid_acc_list=[]\n",
    "loss_list=[]\n",
    "optimizer = torch.optim.Adam(model.parameters(), lr=lr)\n",
    "epochs=100\n",
    "num_epochs=tqdm(range(epochs))\n",
    "\n",
    "# n_epochs=tqdm(range(epochs))\n",
    "for epoch in num_epochs:\n",
    "\n",
    "    running_loss = 0\n",
    "\n",
    "    for i,(instances, labels) in enumerate(train_loader):\n",
    "\n",
    "        optimizer.zero_grad()\n",
    "\n",
    "        instances=instances.to(device)\n",
    "        labels=labels.reshape(len(labels),-1).to(device).to(torch.float32)\n",
    "        # print(instances.shape)\n",
    "        output = model(instances)\n",
    "\n",
    "        # print(labels.shape)\n",
    "        # print(output.shape)\n",
    "        # print(output)\n",
    "\n",
    "        # print(output.shape)\n",
    "        # print(labels.shape)\n",
    "        loss = criterion(output, labels)\n",
    "\n",
    "\n",
    "        loss.backward()\n",
    "        optimizer.step()\n",
    "\n",
    "        running_loss += loss.item()\n",
    "    loss_list.append(running_loss/batch_size)\n",
    "    a=train_acc(model)\n",
    "    train_acc_list.append(a)\n",
    "    \n",
    "    b=valid_acc(model)\n",
    "    \n",
    "    # print('accuracy over validation data set:',b)\n",
    "    valid_acc_list.append(b)\n",
    "    print('epoch is:',epoch+1,'accuracy over training/validation data set:',a,'/',b,' || running loss is:',running_loss/batch_size)\n",
    " \n"
   ]
  },
  {
   "cell_type": "code",
   "execution_count": 35,
   "metadata": {},
   "outputs": [
    {
     "data": {
      "image/png": "[encoded data removed]",
      "text/plain": [
       "<Figure size 640x480 with 1 Axes>"
      ]
     },
     "metadata": {},
     "output_type": "display_data"
    }
   ],
   "source": [
    "plt.plot(loss_list,label='loss in model',color='midnightblue')\n",
    "plt.xlabel('epoch')\n",
    "plt.ylabel('loss')\n",
    "plt.legend()\n",
    "plt.show()"
   ]
  },
  {
   "cell_type": "code",
   "execution_count": 36,
   "metadata": {},
   "outputs": [
    {
     "data": {
      "image/png": "[encoded data removed]",
      "text/plain": [
       "<Figure size 640x480 with 1 Axes>"
      ]
     },
     "metadata": {},
     "output_type": "display_data"
    }
   ],
   "source": [
    "plt.plot(train_acc_list,label='train_data',color='red')\n",
    "plt.plot(valid_acc_list,label='valid_data',color='midnightblue')\n",
    "plt.xlabel('epoch')\n",
    "plt.ylabel('accruacy')\n",
    "plt.legend()\n",
    "plt.show()"
   ]
  },
  {
   "cell_type": "markdown",
   "metadata": {},
   "source": [
    "$\\large \\text{Hence we can see that our model is clearly overfitting in each variant so now we try regularization and other variants:}$"
   ]
  },
  {
   "cell_type": "markdown",
   "metadata": {},
   "source": [
    "$\\huge \\text{Weight Initialization with normal 0,1}$"
   ]
  },
  {
   "cell_type": "code",
   "execution_count": 15,
   "metadata": {},
   "outputs": [],
   "source": [
    "# Define the RNN model\n",
    "class GRU(nn.Module):\n",
    "    def __init__(self, hidden_size, output_size,n_layers,embedding_dim):\n",
    "        super(GRU, self).__init__()\n",
    "        self.hidden_size = hidden_size\n",
    "        self.n_layers=n_layers\n",
    "        #lstm\n",
    "        self.gru = nn.GRU(input_size=embedding_dim,hidden_size=self.hidden_size,\n",
    "                           num_layers=self.n_layers, batch_first=True)\n",
    "        self.fc = nn.Linear(hidden_size, output_size)\n",
    "        self.relu=nn.ReLU()\n",
    "        self.sigmoid=nn.Sigmoid()\n",
    "        self.tanh=nn.Tanh()\n",
    "        self.embed=nn.Embedding(len(vocab)+1,embedding_dim=embedding_dim)\n",
    "    def forward(self, x):\n",
    "       \n",
    "        batch_size = x.size(0)\n",
    "        # embeddings and lstm_out\n",
    "        embeds = self.embed(x)\n",
    "        # pass in the rnn layer\n",
    "        output,hidden=self.gru(embeds)\n",
    "        \n",
    "        \n",
    "        output=output.contiguous().view(-1,self.hidden_size)\n",
    "        \n",
    "        output = self.sigmoid(self.fc(output))\n",
    "        output=output.view(batch_size,-1)\n",
    "        \n",
    "        output=output[:,-1].view(batch_size,-1)\n",
    "        \n",
    "        return output\n",
    "\n",
    "    def init_hidden(self,batch_size):\n",
    "        hidden=torch.zeros(self.n_layers,batch_size,self.hidden_size).to(device)\n",
    "        return hidden\n",
    "    def _init_weights(self, module):\n",
    "        if isinstance(module, nn.Linear):\n",
    "            module.weight.data.normal_(mean=0.0, std=1.0)\n",
    "            if module.bias is not None:\n",
    "                module.bias.data.zero_()"
   ]
  },
  {
   "cell_type": "code",
   "execution_count": 38,
   "metadata": {},
   "outputs": [
    {
     "name": "stderr",
     "output_type": "stream",
     "text": [
      "  1%|          | 1/100 [00:16<27:27, 16.64s/it]"
     ]
    },
    {
     "name": "stdout",
     "output_type": "stream",
     "text": [
      "epoch is: 1 accuracy over training/validation data set: 0.6884533333333334 / 0.68912  || running loss is: 9.820736492872237\n"
     ]
    },
    {
     "name": "stderr",
     "output_type": "stream",
     "text": [
      "  2%|▏         | 2/100 [00:33<26:59, 16.53s/it]"
     ]
    },
    {
     "name": "stdout",
     "output_type": "stream",
     "text": [
      "epoch is: 2 accuracy over training/validation data set: 0.7340266666666667 / 0.72968  || running loss is: 8.40735701560974\n"
     ]
    },
    {
     "name": "stderr",
     "output_type": "stream",
     "text": [
      "  3%|▎         | 3/100 [00:50<27:00, 16.71s/it]"
     ]
    },
    {
     "name": "stdout",
     "output_type": "stream",
     "text": [
      "epoch is: 3 accuracy over training/validation data set: 0.76416 / 0.75608  || running loss is: 7.818822673559189\n"
     ]
    },
    {
     "name": "stderr",
     "output_type": "stream",
     "text": [
      "  4%|▍         | 4/100 [01:10<29:24, 18.38s/it]"
     ]
    },
    {
     "name": "stdout",
     "output_type": "stream",
     "text": [
      "epoch is: 4 accuracy over training/validation data set: 0.7803466666666666 / 0.77168  || running loss is: 7.368846656680107\n"
     ]
    },
    {
     "name": "stderr",
     "output_type": "stream",
     "text": [
      "  5%|▌         | 5/100 [01:31<30:22, 19.18s/it]"
     ]
    },
    {
     "name": "stdout",
     "output_type": "stream",
     "text": [
      "epoch is: 5 accuracy over training/validation data set: 0.79704 / 0.79056  || running loss is: 6.9390224140882495\n"
     ]
    },
    {
     "name": "stderr",
     "output_type": "stream",
     "text": [
      "  6%|▌         | 6/100 [01:53<31:17, 19.97s/it]"
     ]
    },
    {
     "name": "stdout",
     "output_type": "stream",
     "text": [
      "epoch is: 6 accuracy over training/validation data set: 0.8097066666666667 / 0.79928  || running loss is: 6.567487864792347\n"
     ]
    },
    {
     "name": "stderr",
     "output_type": "stream",
     "text": [
      "  7%|▋         | 7/100 [02:14<31:52, 20.56s/it]"
     ]
    },
    {
     "name": "stdout",
     "output_type": "stream",
     "text": [
      "epoch is: 7 accuracy over training/validation data set: 0.8212 / 0.80728  || running loss is: 6.2442991176247595\n"
     ]
    },
    {
     "name": "stderr",
     "output_type": "stream",
     "text": [
      "  8%|▊         | 8/100 [02:35<31:26, 20.50s/it]"
     ]
    },
    {
     "name": "stdout",
     "output_type": "stream",
     "text": [
      "epoch is: 8 accuracy over training/validation data set: 0.8334666666666667 / 0.81928  || running loss is: 5.989584613144398\n"
     ]
    },
    {
     "name": "stderr",
     "output_type": "stream",
     "text": [
      "  9%|▉         | 9/100 [02:55<30:56, 20.40s/it]"
     ]
    },
    {
     "name": "stdout",
     "output_type": "stream",
     "text": [
      "epoch is: 9 accuracy over training/validation data set: 0.8348266666666667 / 0.82216  || running loss is: 5.791787004470825\n"
     ]
    },
    {
     "name": "stderr",
     "output_type": "stream",
     "text": [
      " 10%|█         | 10/100 [03:15<30:38, 20.43s/it]"
     ]
    },
    {
     "name": "stdout",
     "output_type": "stream",
     "text": [
      "epoch is: 10 accuracy over training/validation data set: 0.8489066666666667 / 0.82968  || running loss is: 5.627144358754158\n"
     ]
    },
    {
     "name": "stderr",
     "output_type": "stream",
     "text": [
      " 11%|█         | 11/100 [03:33<28:50, 19.44s/it]"
     ]
    },
    {
     "name": "stdout",
     "output_type": "stream",
     "text": [
      "epoch is: 11 accuracy over training/validation data set: 0.84968 / 0.83184  || running loss is: 5.464325394034386\n"
     ]
    },
    {
     "name": "stderr",
     "output_type": "stream",
     "text": [
      " 12%|█▏        | 12/100 [03:50<27:26, 18.71s/it]"
     ]
    },
    {
     "name": "stdout",
     "output_type": "stream",
     "text": [
      "epoch is: 12 accuracy over training/validation data set: 0.8556266666666666 / 0.83568  || running loss is: 5.31980765581131\n"
     ]
    },
    {
     "name": "stderr",
     "output_type": "stream",
     "text": [
      " 13%|█▎        | 13/100 [04:07<26:45, 18.45s/it]"
     ]
    },
    {
     "name": "stdout",
     "output_type": "stream",
     "text": [
      "epoch is: 13 accuracy over training/validation data set: 0.8565866666666667 / 0.83432  || running loss is: 5.205715077519417\n"
     ]
    },
    {
     "name": "stderr",
     "output_type": "stream",
     "text": [
      " 14%|█▍        | 14/100 [04:25<25:54, 18.08s/it]"
     ]
    },
    {
     "name": "stdout",
     "output_type": "stream",
     "text": [
      "epoch is: 14 accuracy over training/validation data set: 0.85816 / 0.83512  || running loss is: 5.096784709692002\n"
     ]
    },
    {
     "name": "stderr",
     "output_type": "stream",
     "text": [
      " 15%|█▌        | 15/100 [04:42<25:04, 17.70s/it]"
     ]
    },
    {
     "name": "stdout",
     "output_type": "stream",
     "text": [
      "epoch is: 15 accuracy over training/validation data set: 0.8589066666666667 / 0.83392  || running loss is: 5.013445341587067\n"
     ]
    },
    {
     "name": "stderr",
     "output_type": "stream",
     "text": [
      " 16%|█▌        | 16/100 [04:58<24:15, 17.33s/it]"
     ]
    },
    {
     "name": "stdout",
     "output_type": "stream",
     "text": [
      "epoch is: 16 accuracy over training/validation data set: 0.8664 / 0.84584  || running loss is: 4.919913404583931\n"
     ]
    },
    {
     "name": "stderr",
     "output_type": "stream",
     "text": [
      " 17%|█▋        | 17/100 [05:14<23:27, 16.96s/it]"
     ]
    },
    {
     "name": "stdout",
     "output_type": "stream",
     "text": [
      "epoch is: 17 accuracy over training/validation data set: 0.8568533333333334 / 0.83616  || running loss is: 4.845962291061878\n"
     ]
    },
    {
     "name": "stderr",
     "output_type": "stream",
     "text": [
      " 18%|█▊        | 18/100 [05:30<22:47, 16.68s/it]"
     ]
    },
    {
     "name": "stdout",
     "output_type": "stream",
     "text": [
      "epoch is: 18 accuracy over training/validation data set: 0.8729866666666667 / 0.84504  || running loss is: 4.790952251851559\n"
     ]
    },
    {
     "name": "stderr",
     "output_type": "stream",
     "text": [
      " 19%|█▉        | 19/100 [05:47<22:44, 16.85s/it]"
     ]
    },
    {
     "name": "stdout",
     "output_type": "stream",
     "text": [
      "epoch is: 19 accuracy over training/validation data set: 0.8767733333333333 / 0.84952  || running loss is: 4.7100686359405515\n"
     ]
    },
    {
     "name": "stderr",
     "output_type": "stream",
     "text": [
      " 20%|██        | 20/100 [06:06<23:06, 17.33s/it]"
     ]
    },
    {
     "name": "stdout",
     "output_type": "stream",
     "text": [
      "epoch is: 20 accuracy over training/validation data set: 0.87528 / 0.8488  || running loss is: 4.619497797042132\n"
     ]
    },
    {
     "name": "stderr",
     "output_type": "stream",
     "text": [
      " 21%|██        | 21/100 [06:21<22:00, 16.71s/it]"
     ]
    },
    {
     "name": "stdout",
     "output_type": "stream",
     "text": [
      "epoch is: 21 accuracy over training/validation data set: 0.8713333333333333 / 0.84424  || running loss is: 4.573229011595249\n"
     ]
    },
    {
     "name": "stderr",
     "output_type": "stream",
     "text": [
      " 22%|██▏       | 22/100 [06:37<21:15, 16.36s/it]"
     ]
    },
    {
     "name": "stdout",
     "output_type": "stream",
     "text": [
      "epoch is: 22 accuracy over training/validation data set: 0.8813866666666667 / 0.84832  || running loss is: 4.532556772083044\n"
     ]
    },
    {
     "name": "stderr",
     "output_type": "stream",
     "text": [
      " 23%|██▎       | 23/100 [06:52<20:37, 16.07s/it]"
     ]
    },
    {
     "name": "stdout",
     "output_type": "stream",
     "text": [
      "epoch is: 23 accuracy over training/validation data set: 0.8711466666666666 / 0.8396  || running loss is: 4.426993297487497\n"
     ]
    },
    {
     "name": "stderr",
     "output_type": "stream",
     "text": [
      " 24%|██▍       | 24/100 [07:11<21:23, 16.88s/it]"
     ]
    },
    {
     "name": "stdout",
     "output_type": "stream",
     "text": [
      "epoch is: 24 accuracy over training/validation data set: 0.88624 / 0.8512  || running loss is: 4.399276097416878\n"
     ]
    },
    {
     "name": "stderr",
     "output_type": "stream",
     "text": [
      " 25%|██▌       | 25/100 [07:25<20:03, 16.04s/it]"
     ]
    },
    {
     "name": "stdout",
     "output_type": "stream",
     "text": [
      "epoch is: 25 accuracy over training/validation data set: 0.8873333333333333 / 0.85016  || running loss is: 4.356388408094644\n"
     ]
    },
    {
     "name": "stderr",
     "output_type": "stream",
     "text": [
      " 26%|██▌       | 26/100 [07:39<19:08, 15.52s/it]"
     ]
    },
    {
     "name": "stdout",
     "output_type": "stream",
     "text": [
      "epoch is: 26 accuracy over training/validation data set: 0.88808 / 0.85016  || running loss is: 4.2601635658741\n"
     ]
    },
    {
     "name": "stderr",
     "output_type": "stream",
     "text": [
      " 27%|██▋       | 27/100 [07:56<19:15, 15.83s/it]"
     ]
    },
    {
     "name": "stdout",
     "output_type": "stream",
     "text": [
      "epoch is: 27 accuracy over training/validation data set: 0.88992 / 0.85064  || running loss is: 4.239754689186811\n"
     ]
    },
    {
     "name": "stderr",
     "output_type": "stream",
     "text": [
      " 28%|██▊       | 28/100 [08:10<18:21, 15.30s/it]"
     ]
    },
    {
     "name": "stdout",
     "output_type": "stream",
     "text": [
      "epoch is: 28 accuracy over training/validation data set: 0.8894133333333333 / 0.84792  || running loss is: 4.177097730636596\n"
     ]
    },
    {
     "name": "stderr",
     "output_type": "stream",
     "text": [
      " 29%|██▉       | 29/100 [08:28<19:16, 16.29s/it]"
     ]
    },
    {
     "name": "stdout",
     "output_type": "stream",
     "text": [
      "epoch is: 29 accuracy over training/validation data set: 0.8913066666666667 / 0.8508  || running loss is: 4.143286980837583\n"
     ]
    },
    {
     "name": "stderr",
     "output_type": "stream",
     "text": [
      " 30%|███       | 30/100 [08:45<19:12, 16.47s/it]"
     ]
    },
    {
     "name": "stdout",
     "output_type": "stream",
     "text": [
      "epoch is: 30 accuracy over training/validation data set: 0.89368 / 0.84736  || running loss is: 4.059037061184645\n"
     ]
    },
    {
     "name": "stderr",
     "output_type": "stream",
     "text": [
      " 31%|███       | 31/100 [09:01<18:44, 16.30s/it]"
     ]
    },
    {
     "name": "stdout",
     "output_type": "stream",
     "text": [
      "epoch is: 31 accuracy over training/validation data set: 0.8973866666666667 / 0.85144  || running loss is: 4.0434690608084205\n"
     ]
    },
    {
     "name": "stderr",
     "output_type": "stream",
     "text": [
      " 32%|███▏      | 32/100 [09:15<17:46, 15.69s/it]"
     ]
    },
    {
     "name": "stdout",
     "output_type": "stream",
     "text": [
      "epoch is: 32 accuracy over training/validation data set: 0.8976266666666667 / 0.84904  || running loss is: 3.985449144393206\n"
     ]
    },
    {
     "name": "stderr",
     "output_type": "stream",
     "text": [
      " 33%|███▎      | 33/100 [09:31<17:27, 15.63s/it]"
     ]
    },
    {
     "name": "stdout",
     "output_type": "stream",
     "text": [
      "epoch is: 33 accuracy over training/validation data set: 0.9012533333333334 / 0.85424  || running loss is: 3.923003833889961\n"
     ]
    },
    {
     "name": "stderr",
     "output_type": "stream",
     "text": [
      " 34%|███▍      | 34/100 [09:47<17:22, 15.80s/it]"
     ]
    },
    {
     "name": "stdout",
     "output_type": "stream",
     "text": [
      "epoch is: 34 accuracy over training/validation data set: 0.8848 / 0.83968  || running loss is: 3.8723244699835777\n"
     ]
    },
    {
     "name": "stderr",
     "output_type": "stream",
     "text": [
      " 35%|███▌      | 35/100 [10:02<16:56, 15.64s/it]"
     ]
    },
    {
     "name": "stdout",
     "output_type": "stream",
     "text": [
      "epoch is: 35 accuracy over training/validation data set: 0.90552 / 0.85216  || running loss is: 3.829344333857298\n"
     ]
    },
    {
     "name": "stderr",
     "output_type": "stream",
     "text": [
      " 36%|███▌      | 36/100 [10:17<16:11, 15.18s/it]"
     ]
    },
    {
     "name": "stdout",
     "output_type": "stream",
     "text": [
      "epoch is: 36 accuracy over training/validation data set: 0.9046133333333334 / 0.85056  || running loss is: 3.764442325681448\n"
     ]
    },
    {
     "name": "stderr",
     "output_type": "stream",
     "text": [
      " 37%|███▋      | 37/100 [10:31<15:49, 15.07s/it]"
     ]
    },
    {
     "name": "stdout",
     "output_type": "stream",
     "text": [
      "epoch is: 37 accuracy over training/validation data set: 0.9064 / 0.8528  || running loss is: 3.8041518957912923\n"
     ]
    },
    {
     "name": "stderr",
     "output_type": "stream",
     "text": [
      " 38%|███▊      | 38/100 [10:48<16:01, 15.50s/it]"
     ]
    },
    {
     "name": "stdout",
     "output_type": "stream",
     "text": [
      "epoch is: 38 accuracy over training/validation data set: 0.8972533333333333 / 0.84496  || running loss is: 3.662806267440319\n"
     ]
    },
    {
     "name": "stderr",
     "output_type": "stream",
     "text": [
      " 39%|███▉      | 39/100 [11:04<16:04, 15.82s/it]"
     ]
    },
    {
     "name": "stdout",
     "output_type": "stream",
     "text": [
      "epoch is: 39 accuracy over training/validation data set: 0.9059733333333333 / 0.84752  || running loss is: 3.6458109350502492\n"
     ]
    },
    {
     "name": "stderr",
     "output_type": "stream",
     "text": [
      " 40%|████      | 40/100 [11:21<15:54, 15.91s/it]"
     ]
    },
    {
     "name": "stdout",
     "output_type": "stream",
     "text": [
      "epoch is: 40 accuracy over training/validation data set: 0.9074933333333334 / 0.84808  || running loss is: 3.5934723576903345\n"
     ]
    },
    {
     "name": "stderr",
     "output_type": "stream",
     "text": [
      " 41%|████      | 41/100 [11:39<16:26, 16.71s/it]"
     ]
    },
    {
     "name": "stdout",
     "output_type": "stream",
     "text": [
      "epoch is: 41 accuracy over training/validation data set: 0.9112533333333334 / 0.84864  || running loss is: 3.5256830728054047\n"
     ]
    },
    {
     "name": "stderr",
     "output_type": "stream",
     "text": [
      " 42%|████▏     | 42/100 [11:58<16:45, 17.33s/it]"
     ]
    },
    {
     "name": "stdout",
     "output_type": "stream",
     "text": [
      "epoch is: 42 accuracy over training/validation data set: 0.9157333333333333 / 0.85072  || running loss is: 3.4845777615904807\n"
     ]
    },
    {
     "name": "stderr",
     "output_type": "stream",
     "text": [
      " 43%|████▎     | 43/100 [12:16<16:46, 17.65s/it]"
     ]
    },
    {
     "name": "stdout",
     "output_type": "stream",
     "text": [
      "epoch is: 43 accuracy over training/validation data set: 0.9171733333333333 / 0.85216  || running loss is: 3.4191126994788648\n"
     ]
    },
    {
     "name": "stderr",
     "output_type": "stream",
     "text": [
      " 44%|████▍     | 44/100 [12:35<16:54, 18.12s/it]"
     ]
    },
    {
     "name": "stdout",
     "output_type": "stream",
     "text": [
      "epoch is: 44 accuracy over training/validation data set: 0.91344 / 0.84856  || running loss is: 3.351665318980813\n"
     ]
    },
    {
     "name": "stderr",
     "output_type": "stream",
     "text": [
      " 45%|████▌     | 45/100 [12:55<17:04, 18.62s/it]"
     ]
    },
    {
     "name": "stdout",
     "output_type": "stream",
     "text": [
      "epoch is: 45 accuracy over training/validation data set: 0.9198933333333333 / 0.84592  || running loss is: 3.347314484715462\n"
     ]
    },
    {
     "name": "stderr",
     "output_type": "stream",
     "text": [
      " 46%|████▌     | 46/100 [13:14<16:53, 18.77s/it]"
     ]
    },
    {
     "name": "stdout",
     "output_type": "stream",
     "text": [
      "epoch is: 46 accuracy over training/validation data set: 0.9151466666666667 / 0.844  || running loss is: 3.2984372897446157\n"
     ]
    },
    {
     "name": "stderr",
     "output_type": "stream",
     "text": [
      " 47%|████▋     | 47/100 [13:34<16:42, 18.91s/it]"
     ]
    },
    {
     "name": "stdout",
     "output_type": "stream",
     "text": [
      "epoch is: 47 accuracy over training/validation data set: 0.92448 / 0.84752  || running loss is: 3.2536695527285335\n"
     ]
    },
    {
     "name": "stderr",
     "output_type": "stream",
     "text": [
      " 48%|████▊     | 48/100 [13:52<16:07, 18.61s/it]"
     ]
    },
    {
     "name": "stdout",
     "output_type": "stream",
     "text": [
      "epoch is: 48 accuracy over training/validation data set: 0.9204266666666666 / 0.846  || running loss is: 3.1722893378138544\n"
     ]
    },
    {
     "name": "stderr",
     "output_type": "stream",
     "text": [
      " 49%|████▉     | 49/100 [14:09<15:36, 18.36s/it]"
     ]
    },
    {
     "name": "stdout",
     "output_type": "stream",
     "text": [
      "epoch is: 49 accuracy over training/validation data set: 0.9201866666666667 / 0.84464  || running loss is: 3.1074812500178814\n"
     ]
    },
    {
     "name": "stderr",
     "output_type": "stream",
     "text": [
      " 50%|█████     | 50/100 [14:27<15:05, 18.11s/it]"
     ]
    },
    {
     "name": "stdout",
     "output_type": "stream",
     "text": [
      "epoch is: 50 accuracy over training/validation data set: 0.92272 / 0.84472  || running loss is: 3.07280865162611\n"
     ]
    },
    {
     "name": "stderr",
     "output_type": "stream",
     "text": [
      " 51%|█████     | 51/100 [14:47<15:18, 18.75s/it]"
     ]
    },
    {
     "name": "stdout",
     "output_type": "stream",
     "text": [
      "epoch is: 51 accuracy over training/validation data set: 0.9252533333333334 / 0.8436  || running loss is: 3.0381148698925973\n"
     ]
    },
    {
     "name": "stderr",
     "output_type": "stream",
     "text": [
      " 52%|█████▏    | 52/100 [15:07<15:21, 19.21s/it]"
     ]
    },
    {
     "name": "stdout",
     "output_type": "stream",
     "text": [
      "epoch is: 52 accuracy over training/validation data set: 0.92288 / 0.84184  || running loss is: 3.000710171610117\n"
     ]
    },
    {
     "name": "stderr",
     "output_type": "stream",
     "text": [
      " 53%|█████▎    | 53/100 [15:28<15:16, 19.50s/it]"
     ]
    },
    {
     "name": "stdout",
     "output_type": "stream",
     "text": [
      "epoch is: 53 accuracy over training/validation data set: 0.9328533333333333 / 0.846  || running loss is: 2.927133712768555\n"
     ]
    },
    {
     "name": "stderr",
     "output_type": "stream",
     "text": [
      " 54%|█████▍    | 54/100 [15:48<15:09, 19.78s/it]"
     ]
    },
    {
     "name": "stdout",
     "output_type": "stream",
     "text": [
      "epoch is: 54 accuracy over training/validation data set: 0.9285333333333333 / 0.8396  || running loss is: 2.848287508264184\n"
     ]
    },
    {
     "name": "stderr",
     "output_type": "stream",
     "text": [
      " 55%|█████▌    | 55/100 [16:08<14:51, 19.81s/it]"
     ]
    },
    {
     "name": "stdout",
     "output_type": "stream",
     "text": [
      "epoch is: 55 accuracy over training/validation data set: 0.9377866666666667 / 0.84192  || running loss is: 2.7990135588496923\n"
     ]
    },
    {
     "name": "stderr",
     "output_type": "stream",
     "text": [
      " 56%|█████▌    | 56/100 [16:28<14:33, 19.85s/it]"
     ]
    },
    {
     "name": "stdout",
     "output_type": "stream",
     "text": [
      "epoch is: 56 accuracy over training/validation data set: 0.9342133333333333 / 0.84376  || running loss is: 2.784156304374337\n"
     ]
    },
    {
     "name": "stderr",
     "output_type": "stream",
     "text": [
      " 57%|█████▋    | 57/100 [16:48<14:19, 20.00s/it]"
     ]
    },
    {
     "name": "stdout",
     "output_type": "stream",
     "text": [
      "epoch is: 57 accuracy over training/validation data set: 0.9401866666666666 / 0.8428  || running loss is: 2.704245786443353\n"
     ]
    },
    {
     "name": "stderr",
     "output_type": "stream",
     "text": [
      " 58%|█████▊    | 58/100 [17:09<14:10, 20.26s/it]"
     ]
    },
    {
     "name": "stdout",
     "output_type": "stream",
     "text": [
      "epoch is: 58 accuracy over training/validation data set: 0.9418133333333333 / 0.84048  || running loss is: 2.6582875975966456\n"
     ]
    },
    {
     "name": "stderr",
     "output_type": "stream",
     "text": [
      " 59%|█████▉    | 59/100 [17:29<13:41, 20.05s/it]"
     ]
    },
    {
     "name": "stdout",
     "output_type": "stream",
     "text": [
      "epoch is: 59 accuracy over training/validation data set: 0.9410666666666667 / 0.84072  || running loss is: 2.5952143570780755\n"
     ]
    },
    {
     "name": "stderr",
     "output_type": "stream",
     "text": [
      " 60%|██████    | 60/100 [17:48<13:13, 19.84s/it]"
     ]
    },
    {
     "name": "stdout",
     "output_type": "stream",
     "text": [
      "epoch is: 60 accuracy over training/validation data set: 0.9370133333333334 / 0.8368  || running loss is: 2.576757870838046\n"
     ]
    },
    {
     "name": "stderr",
     "output_type": "stream",
     "text": [
      " 61%|██████    | 61/100 [18:05<12:20, 19.00s/it]"
     ]
    },
    {
     "name": "stdout",
     "output_type": "stream",
     "text": [
      "epoch is: 61 accuracy over training/validation data set: 0.94384 / 0.83648  || running loss is: 2.491496399343014\n"
     ]
    },
    {
     "name": "stderr",
     "output_type": "stream",
     "text": [
      " 62%|██████▏   | 62/100 [18:23<11:51, 18.71s/it]"
     ]
    },
    {
     "name": "stdout",
     "output_type": "stream",
     "text": [
      "epoch is: 62 accuracy over training/validation data set: 0.9478933333333334 / 0.84008  || running loss is: 2.423158386349678\n"
     ]
    },
    {
     "name": "stderr",
     "output_type": "stream",
     "text": [
      " 63%|██████▎   | 63/100 [18:41<11:25, 18.53s/it]"
     ]
    },
    {
     "name": "stdout",
     "output_type": "stream",
     "text": [
      "epoch is: 63 accuracy over training/validation data set: 0.94736 / 0.83808  || running loss is: 2.3926535922288896\n"
     ]
    },
    {
     "name": "stderr",
     "output_type": "stream",
     "text": [
      " 64%|██████▍   | 64/100 [18:59<11:01, 18.38s/it]"
     ]
    },
    {
     "name": "stdout",
     "output_type": "stream",
     "text": [
      "epoch is: 64 accuracy over training/validation data set: 0.94712 / 0.83752  || running loss is: 2.328243474327028\n"
     ]
    },
    {
     "name": "stderr",
     "output_type": "stream",
     "text": [
      " 65%|██████▌   | 65/100 [19:18<10:46, 18.46s/it]"
     ]
    },
    {
     "name": "stdout",
     "output_type": "stream",
     "text": [
      "epoch is: 65 accuracy over training/validation data set: 0.9450933333333333 / 0.83944  || running loss is: 2.2996945683285595\n"
     ]
    },
    {
     "name": "stderr",
     "output_type": "stream",
     "text": [
      " 66%|██████▌   | 66/100 [19:32<09:41, 17.12s/it]"
     ]
    },
    {
     "name": "stdout",
     "output_type": "stream",
     "text": [
      "epoch is: 66 accuracy over training/validation data set: 0.9407733333333334 / 0.83352  || running loss is: 2.177574713602662\n"
     ]
    },
    {
     "name": "stderr",
     "output_type": "stream",
     "text": [
      " 67%|██████▋   | 67/100 [19:49<09:21, 17.03s/it]"
     ]
    },
    {
     "name": "stdout",
     "output_type": "stream",
     "text": [
      "epoch is: 67 accuracy over training/validation data set: 0.954 / 0.83632  || running loss is: 2.1796682293340566\n"
     ]
    },
    {
     "name": "stderr",
     "output_type": "stream",
     "text": [
      " 68%|██████▊   | 68/100 [20:03<08:42, 16.33s/it]"
     ]
    },
    {
     "name": "stdout",
     "output_type": "stream",
     "text": [
      "epoch is: 68 accuracy over training/validation data set: 0.95672 / 0.83672  || running loss is: 2.1589574889466165\n"
     ]
    },
    {
     "name": "stderr",
     "output_type": "stream",
     "text": [
      " 69%|██████▉   | 69/100 [20:22<08:46, 17.00s/it]"
     ]
    },
    {
     "name": "stdout",
     "output_type": "stream",
     "text": [
      "epoch is: 69 accuracy over training/validation data set: 0.9512533333333333 / 0.8348  || running loss is: 2.1102231146395205\n"
     ]
    },
    {
     "name": "stderr",
     "output_type": "stream",
     "text": [
      " 70%|███████   | 70/100 [20:40<08:37, 17.24s/it]"
     ]
    },
    {
     "name": "stdout",
     "output_type": "stream",
     "text": [
      "epoch is: 70 accuracy over training/validation data set: 0.9466133333333333 / 0.83248  || running loss is: 2.042807772085071\n"
     ]
    },
    {
     "name": "stderr",
     "output_type": "stream",
     "text": [
      " 71%|███████   | 71/100 [20:57<08:22, 17.33s/it]"
     ]
    },
    {
     "name": "stdout",
     "output_type": "stream",
     "text": [
      "epoch is: 71 accuracy over training/validation data set: 0.9604 / 0.83592  || running loss is: 1.9866589054837822\n"
     ]
    },
    {
     "name": "stderr",
     "output_type": "stream",
     "text": [
      " 72%|███████▏  | 72/100 [21:15<08:06, 17.37s/it]"
     ]
    },
    {
     "name": "stdout",
     "output_type": "stream",
     "text": [
      "epoch is: 72 accuracy over training/validation data set: 0.9639733333333333 / 0.83624  || running loss is: 1.9266596771404148\n"
     ]
    },
    {
     "name": "stderr",
     "output_type": "stream",
     "text": [
      " 73%|███████▎  | 73/100 [21:32<07:49, 17.38s/it]"
     ]
    },
    {
     "name": "stdout",
     "output_type": "stream",
     "text": [
      "epoch is: 73 accuracy over training/validation data set: 0.9637066666666667 / 0.83336  || running loss is: 1.8758939565718173\n"
     ]
    },
    {
     "name": "stderr",
     "output_type": "stream",
     "text": [
      " 74%|███████▍  | 74/100 [21:49<07:30, 17.33s/it]"
     ]
    },
    {
     "name": "stdout",
     "output_type": "stream",
     "text": [
      "epoch is: 74 accuracy over training/validation data set: 0.96088 / 0.83392  || running loss is: 1.8581787602230906\n"
     ]
    },
    {
     "name": "stderr",
     "output_type": "stream",
     "text": [
      " 75%|███████▌  | 75/100 [22:06<07:10, 17.24s/it]"
     ]
    },
    {
     "name": "stdout",
     "output_type": "stream",
     "text": [
      "epoch is: 75 accuracy over training/validation data set: 0.96744 / 0.83624  || running loss is: 1.8690457188151777\n"
     ]
    },
    {
     "name": "stderr",
     "output_type": "stream",
     "text": [
      " 76%|███████▌  | 76/100 [22:23<06:53, 17.21s/it]"
     ]
    },
    {
     "name": "stdout",
     "output_type": "stream",
     "text": [
      "epoch is: 76 accuracy over training/validation data set: 0.9708266666666666 / 0.83544  || running loss is: 1.7761038756929337\n"
     ]
    },
    {
     "name": "stderr",
     "output_type": "stream",
     "text": [
      " 77%|███████▋  | 77/100 [22:44<06:57, 18.15s/it]"
     ]
    },
    {
     "name": "stdout",
     "output_type": "stream",
     "text": [
      "epoch is: 77 accuracy over training/validation data set: 0.9690933333333334 / 0.83216  || running loss is: 1.664968114513904\n"
     ]
    },
    {
     "name": "stderr",
     "output_type": "stream",
     "text": [
      " 78%|███████▊  | 78/100 [23:02<06:41, 18.25s/it]"
     ]
    },
    {
     "name": "stdout",
     "output_type": "stream",
     "text": [
      "epoch is: 78 accuracy over training/validation data set: 0.9703733333333333 / 0.82848  || running loss is: 1.642216526288539\n"
     ]
    },
    {
     "name": "stderr",
     "output_type": "stream",
     "text": [
      " 79%|███████▉  | 79/100 [23:21<06:26, 18.38s/it]"
     ]
    },
    {
     "name": "stdout",
     "output_type": "stream",
     "text": [
      "epoch is: 79 accuracy over training/validation data set: 0.9686933333333333 / 0.82992  || running loss is: 1.5807494732737541\n"
     ]
    },
    {
     "name": "stderr",
     "output_type": "stream",
     "text": [
      " 80%|████████  | 80/100 [23:40<06:10, 18.53s/it]"
     ]
    },
    {
     "name": "stdout",
     "output_type": "stream",
     "text": [
      "epoch is: 80 accuracy over training/validation data set: 0.9741066666666667 / 0.83128  || running loss is: 1.53731111433357\n"
     ]
    },
    {
     "name": "stderr",
     "output_type": "stream",
     "text": [
      " 81%|████████  | 81/100 [23:59<05:54, 18.66s/it]"
     ]
    },
    {
     "name": "stdout",
     "output_type": "stream",
     "text": [
      "epoch is: 81 accuracy over training/validation data set: 0.96216 / 0.8276  || running loss is: 1.5346109056286514\n"
     ]
    },
    {
     "name": "stderr",
     "output_type": "stream",
     "text": [
      " 82%|████████▏ | 82/100 [24:15<05:24, 18.02s/it]"
     ]
    },
    {
     "name": "stdout",
     "output_type": "stream",
     "text": [
      "epoch is: 82 accuracy over training/validation data set: 0.97416 / 0.83368  || running loss is: 1.4954363757930695\n"
     ]
    },
    {
     "name": "stderr",
     "output_type": "stream",
     "text": [
      " 83%|████████▎ | 83/100 [24:33<05:06, 18.06s/it]"
     ]
    },
    {
     "name": "stdout",
     "output_type": "stream",
     "text": [
      "epoch is: 83 accuracy over training/validation data set: 0.9733066666666667 / 0.82936  || running loss is: 1.5795583616942168\n"
     ]
    },
    {
     "name": "stderr",
     "output_type": "stream",
     "text": [
      " 84%|████████▍ | 84/100 [24:49<04:36, 17.31s/it]"
     ]
    },
    {
     "name": "stdout",
     "output_type": "stream",
     "text": [
      "epoch is: 84 accuracy over training/validation data set: 0.95712 / 0.82832  || running loss is: 1.3916574198193847\n"
     ]
    },
    {
     "name": "stderr",
     "output_type": "stream",
     "text": [
      " 85%|████████▌ | 85/100 [25:03<04:06, 16.41s/it]"
     ]
    },
    {
     "name": "stdout",
     "output_type": "stream",
     "text": [
      "epoch is: 85 accuracy over training/validation data set: 0.9799733333333334 / 0.83168  || running loss is: 1.3475552172213794\n"
     ]
    },
    {
     "name": "stderr",
     "output_type": "stream",
     "text": [
      " 86%|████████▌ | 86/100 [25:20<03:53, 16.65s/it]"
     ]
    },
    {
     "name": "stdout",
     "output_type": "stream",
     "text": [
      "epoch is: 86 accuracy over training/validation data set: 0.95304 / 0.82576  || running loss is: 1.3589539968594908\n"
     ]
    },
    {
     "name": "stderr",
     "output_type": "stream",
     "text": [
      " 87%|████████▋ | 87/100 [25:35<03:28, 16.05s/it]"
     ]
    },
    {
     "name": "stdout",
     "output_type": "stream",
     "text": [
      "epoch is: 87 accuracy over training/validation data set: 0.97544 / 0.82624  || running loss is: 1.2577451474033297\n"
     ]
    },
    {
     "name": "stderr",
     "output_type": "stream",
     "text": [
      " 88%|████████▊ | 88/100 [25:50<03:07, 15.61s/it]"
     ]
    },
    {
     "name": "stdout",
     "output_type": "stream",
     "text": [
      "epoch is: 88 accuracy over training/validation data set: 0.9801333333333333 / 0.82912  || running loss is: 1.2847298444993793\n"
     ]
    },
    {
     "name": "stderr",
     "output_type": "stream",
     "text": [
      " 89%|████████▉ | 89/100 [26:04<02:48, 15.35s/it]"
     ]
    },
    {
     "name": "stdout",
     "output_type": "stream",
     "text": [
      "epoch is: 89 accuracy over training/validation data set: 0.9786133333333333 / 0.82792  || running loss is: 1.1860462952312083\n"
     ]
    },
    {
     "name": "stderr",
     "output_type": "stream",
     "text": [
      " 90%|█████████ | 90/100 [26:19<02:29, 14.97s/it]"
     ]
    },
    {
     "name": "stdout",
     "output_type": "stream",
     "text": [
      "epoch is: 90 accuracy over training/validation data set: 0.9759733333333334 / 0.82712  || running loss is: 1.7014785517007112\n"
     ]
    },
    {
     "name": "stderr",
     "output_type": "stream",
     "text": [
      " 91%|█████████ | 91/100 [26:33<02:12, 14.75s/it]"
     ]
    },
    {
     "name": "stdout",
     "output_type": "stream",
     "text": [
      "epoch is: 91 accuracy over training/validation data set: 0.9863733333333333 / 0.82824  || running loss is: 1.0708750655595214\n"
     ]
    },
    {
     "name": "stderr",
     "output_type": "stream",
     "text": [
      " 92%|█████████▏| 92/100 [26:52<02:09, 16.13s/it]"
     ]
    },
    {
     "name": "stdout",
     "output_type": "stream",
     "text": [
      "epoch is: 92 accuracy over training/validation data set: 0.9736533333333334 / 0.82952  || running loss is: 1.076446703625843\n"
     ]
    },
    {
     "name": "stderr",
     "output_type": "stream",
     "text": [
      " 93%|█████████▎| 93/100 [27:09<01:55, 16.44s/it]"
     ]
    },
    {
     "name": "stdout",
     "output_type": "stream",
     "text": [
      "epoch is: 93 accuracy over training/validation data set: 0.986 / 0.82856  || running loss is: 1.0369455930264666\n"
     ]
    },
    {
     "name": "stderr",
     "output_type": "stream",
     "text": [
      " 94%|█████████▍| 94/100 [27:26<01:38, 16.39s/it]"
     ]
    },
    {
     "name": "stdout",
     "output_type": "stream",
     "text": [
      "epoch is: 94 accuracy over training/validation data set: 0.97968 / 0.82128  || running loss is: 1.0377202877867966\n"
     ]
    },
    {
     "name": "stderr",
     "output_type": "stream",
     "text": [
      " 95%|█████████▌| 95/100 [27:43<01:22, 16.55s/it]"
     ]
    },
    {
     "name": "stdout",
     "output_type": "stream",
     "text": [
      "epoch is: 95 accuracy over training/validation data set: 0.9881333333333333 / 0.82744  || running loss is: 0.9813189513422549\n"
     ]
    },
    {
     "name": "stderr",
     "output_type": "stream",
     "text": [
      " 96%|█████████▌| 96/100 [27:58<01:05, 16.29s/it]"
     ]
    },
    {
     "name": "stdout",
     "output_type": "stream",
     "text": [
      "epoch is: 96 accuracy over training/validation data set: 0.9893333333333333 / 0.82496  || running loss is: 0.8868524331133812\n"
     ]
    },
    {
     "name": "stderr",
     "output_type": "stream",
     "text": [
      " 97%|█████████▋| 97/100 [28:13<00:47, 15.89s/it]"
     ]
    },
    {
     "name": "stdout",
     "output_type": "stream",
     "text": [
      "epoch is: 97 accuracy over training/validation data set: 0.9638133333333333 / 0.82232  || running loss is: 1.040392775852233\n"
     ]
    },
    {
     "name": "stderr",
     "output_type": "stream",
     "text": [
      " 98%|█████████▊| 98/100 [28:27<00:30, 15.39s/it]"
     ]
    },
    {
     "name": "stdout",
     "output_type": "stream",
     "text": [
      "epoch is: 98 accuracy over training/validation data set: 0.9833866666666666 / 0.82432  || running loss is: 0.8876134318253025\n"
     ]
    },
    {
     "name": "stderr",
     "output_type": "stream",
     "text": [
      " 99%|█████████▉| 99/100 [28:42<00:15, 15.20s/it]"
     ]
    },
    {
     "name": "stdout",
     "output_type": "stream",
     "text": [
      "epoch is: 99 accuracy over training/validation data set: 0.9902666666666666 / 0.82344  || running loss is: 0.9316248542931862\n"
     ]
    },
    {
     "name": "stderr",
     "output_type": "stream",
     "text": [
      "100%|██████████| 100/100 [29:00<00:00, 17.41s/it]"
     ]
    },
    {
     "name": "stdout",
     "output_type": "stream",
     "text": [
      "epoch is: 100 accuracy over training/validation data set: 0.9919733333333334 / 0.82536  || running loss is: 0.8280873588519171\n"
     ]
    },
    {
     "name": "stderr",
     "output_type": "stream",
     "text": [
      "\n"
     ]
    }
   ],
   "source": [
    "hidden_size=100\n",
    "output_size=1\n",
    "n_layers=1\n",
    "embedding_dim=64\n",
    "model=GRU(hidden_size,output_size,n_layers,embedding_dim).to(device)\n",
    "criterion =nn.BCELoss()\n",
    "lr=0.0001\n",
    "train_acc_list=[]\n",
    "valid_acc_list=[]\n",
    "loss_list=[]\n",
    "optimizer = torch.optim.Adam(model.parameters(), lr=lr)\n",
    "epochs=100\n",
    "num_epochs=tqdm(range(epochs))\n",
    "\n",
    "# n_epochs=tqdm(range(epochs))\n",
    "for epoch in num_epochs:\n",
    "\n",
    "    running_loss = 0\n",
    "\n",
    "    for i,(instances, labels) in enumerate(train_loader):\n",
    "\n",
    "        optimizer.zero_grad()\n",
    "\n",
    "        instances=instances.to(device)\n",
    "        labels=labels.reshape(len(labels),-1).to(device).to(torch.float32)\n",
    "        # print(instances.shape)\n",
    "        output = model(instances)\n",
    "\n",
    "        # print(labels.shape)\n",
    "        # print(output.shape)\n",
    "        # print(output)\n",
    "\n",
    "        # print(output.shape)\n",
    "        # print(labels.shape)\n",
    "        loss = criterion(output, labels)\n",
    "\n",
    "\n",
    "        loss.backward()\n",
    "        optimizer.step()\n",
    "\n",
    "        running_loss += loss.item()\n",
    "    loss_list.append(running_loss/batch_size)\n",
    "    a=train_acc(model)\n",
    "    train_acc_list.append(a)\n",
    "    \n",
    "    b=valid_acc(model)\n",
    "    \n",
    "    # print('accuracy over validation data set:',b)\n",
    "    valid_acc_list.append(b)\n",
    "    print('epoch is:',epoch+1,'accuracy over training/validation data set:',a,'/',b,' || running loss is:',running_loss/batch_size)\n",
    " \n"
   ]
  },
  {
   "cell_type": "code",
   "execution_count": 39,
   "metadata": {},
   "outputs": [
    {
     "data": {
      "image/png": "[encoded data removed]",
      "text/plain": [
       "<Figure size 640x480 with 1 Axes>"
      ]
     },
     "metadata": {},
     "output_type": "display_data"
    }
   ],
   "source": [
    "plt.plot(loss_list,label='loss in model',color='midnightblue')\n",
    "plt.xlabel('epoch')\n",
    "plt.ylabel('loss')\n",
    "plt.legend()\n",
    "plt.show()"
   ]
  },
  {
   "cell_type": "code",
   "execution_count": 40,
   "metadata": {},
   "outputs": [
    {
     "data": {
      "image/png": "[encoded data removed]",
      "text/plain": [
       "<Figure size 640x480 with 1 Axes>"
      ]
     },
     "metadata": {},
     "output_type": "display_data"
    }
   ],
   "source": [
    "plt.plot(train_acc_list,label='train_data',color='red')\n",
    "plt.plot(valid_acc_list,label='valid_data',color='midnightblue')\n",
    "plt.xlabel('epoch')\n",
    "plt.ylabel('accruacy')\n",
    "plt.legend()\n",
    "plt.show()"
   ]
  },
  {
   "cell_type": "code",
   "execution_count": 16,
   "metadata": {},
   "outputs": [],
   "source": [
    "# Define the RNN model\n",
    "class GRU(nn.Module):\n",
    "    def __init__(self, hidden_size, output_size,n_layers,embedding_dim):\n",
    "        super(GRU, self).__init__()\n",
    "        self.hidden_size = hidden_size\n",
    "        self.n_layers=n_layers\n",
    "        #lstm\n",
    "        self.gru = nn.GRU(input_size=embedding_dim,hidden_size=self.hidden_size,\n",
    "                           num_layers=self.n_layers, batch_first=True)\n",
    "        self.fc = nn.Linear(hidden_size, output_size)\n",
    "        self.relu=nn.ReLU()\n",
    "        self.sigmoid=nn.Sigmoid()\n",
    "        self.tanh=nn.Tanh()\n",
    "        self.embed=nn.Embedding(len(vocab)+1,embedding_dim=embedding_dim)\n",
    "    def forward(self, x):\n",
    "       \n",
    "        batch_size = x.size(0)\n",
    "        # embeddings and lstm_out\n",
    "        embeds = self.embed(x)\n",
    "        # pass in the rnn layer\n",
    "        output,hidden=self.gru(embeds)\n",
    "        \n",
    "        \n",
    "        output=output.contiguous().view(-1,self.hidden_size)\n",
    "        \n",
    "        output = self.sigmoid(self.fc(output))\n",
    "        output=output.view(batch_size,-1)\n",
    "        \n",
    "        output=output[:,-1].view(batch_size,-1)\n",
    "        \n",
    "        return output\n",
    "\n",
    "    def init_hidden(self,batch_size):\n",
    "        hidden=torch.zeros(self.n_layers,batch_size,self.hidden_size).to(device)\n",
    "        return hidden\n",
    "    def _init_weights(self, module):\n",
    "        if isinstance(module, nn.Linear):\n",
    "            module.weight.data.normal_(mean=0.0, std=1.0/np.sqrt(37500))\n",
    "            if module.bias is not None:\n",
    "                module.bias.data.zero_()"
   ]
  },
  {
   "cell_type": "code",
   "execution_count": 18,
   "metadata": {},
   "outputs": [
    {
     "name": "stderr",
     "output_type": "stream",
     "text": [
      "  2%|▏         | 1/50 [00:13<10:58, 13.43s/it]"
     ]
    },
    {
     "name": "stdout",
     "output_type": "stream",
     "text": [
      "epoch is: 1 accuracy over training/validation data set: 0.7371733333333333 / 0.73576  || running loss is: 9.733015595078468\n"
     ]
    },
    {
     "name": "stderr",
     "output_type": "stream",
     "text": [
      "  4%|▍         | 2/50 [00:26<10:21, 12.95s/it]"
     ]
    },
    {
     "name": "stdout",
     "output_type": "stream",
     "text": [
      "epoch is: 2 accuracy over training/validation data set: 0.8052533333333334 / 0.79504  || running loss is: 7.171460308432579\n"
     ]
    },
    {
     "name": "stderr",
     "output_type": "stream",
     "text": [
      "  6%|▌         | 3/50 [00:39<10:10, 13.00s/it]"
     ]
    },
    {
     "name": "stdout",
     "output_type": "stream",
     "text": [
      "epoch is: 3 accuracy over training/validation data set: 0.83256 / 0.82272  || running loss is: 6.154841249883175\n"
     ]
    },
    {
     "name": "stderr",
     "output_type": "stream",
     "text": [
      "  8%|▊         | 4/50 [00:51<09:55, 12.94s/it]"
     ]
    },
    {
     "name": "stdout",
     "output_type": "stream",
     "text": [
      "epoch is: 4 accuracy over training/validation data set: 0.8482133333333334 / 0.83176  || running loss is: 5.610919412374496\n"
     ]
    },
    {
     "name": "stderr",
     "output_type": "stream",
     "text": [
      " 10%|█         | 5/50 [01:06<10:02, 13.39s/it]"
     ]
    },
    {
     "name": "stdout",
     "output_type": "stream",
     "text": [
      "epoch is: 5 accuracy over training/validation data set: 0.8509333333333333 / 0.8376  || running loss is: 5.295521566271782\n"
     ]
    },
    {
     "name": "stderr",
     "output_type": "stream",
     "text": [
      " 12%|█▏        | 6/50 [01:20<10:06, 13.78s/it]"
     ]
    },
    {
     "name": "stdout",
     "output_type": "stream",
     "text": [
      "epoch is: 6 accuracy over training/validation data set: 0.8624533333333333 / 0.84504  || running loss is: 5.061443748772144\n"
     ]
    },
    {
     "name": "stderr",
     "output_type": "stream",
     "text": [
      " 14%|█▍        | 7/50 [01:33<09:45, 13.62s/it]"
     ]
    },
    {
     "name": "stdout",
     "output_type": "stream",
     "text": [
      "epoch is: 7 accuracy over training/validation data set: 0.86704 / 0.8484  || running loss is: 4.8874917677044865\n"
     ]
    },
    {
     "name": "stderr",
     "output_type": "stream",
     "text": [
      " 16%|█▌        | 8/50 [01:47<09:25, 13.47s/it]"
     ]
    },
    {
     "name": "stdout",
     "output_type": "stream",
     "text": [
      "epoch is: 8 accuracy over training/validation data set: 0.8712266666666667 / 0.84928  || running loss is: 4.7626424577832225\n"
     ]
    },
    {
     "name": "stderr",
     "output_type": "stream",
     "text": [
      " 18%|█▊        | 9/50 [02:00<09:08, 13.38s/it]"
     ]
    },
    {
     "name": "stdout",
     "output_type": "stream",
     "text": [
      "epoch is: 9 accuracy over training/validation data set: 0.8735466666666667 / 0.84992  || running loss is: 4.633735112547875\n"
     ]
    },
    {
     "name": "stderr",
     "output_type": "stream",
     "text": [
      " 20%|██        | 10/50 [02:13<08:54, 13.37s/it]"
     ]
    },
    {
     "name": "stdout",
     "output_type": "stream",
     "text": [
      "epoch is: 10 accuracy over training/validation data set: 0.8765866666666666 / 0.85328  || running loss is: 4.5750618898868565\n"
     ]
    },
    {
     "name": "stderr",
     "output_type": "stream",
     "text": [
      " 22%|██▏       | 11/50 [02:26<08:33, 13.18s/it]"
     ]
    },
    {
     "name": "stdout",
     "output_type": "stream",
     "text": [
      "epoch is: 11 accuracy over training/validation data set: 0.8795466666666667 / 0.85048  || running loss is: 4.4784688687324525\n"
     ]
    },
    {
     "name": "stderr",
     "output_type": "stream",
     "text": [
      " 24%|██▍       | 12/50 [02:39<08:19, 13.14s/it]"
     ]
    },
    {
     "name": "stdout",
     "output_type": "stream",
     "text": [
      "epoch is: 12 accuracy over training/validation data set: 0.88216 / 0.85568  || running loss is: 4.40634603753686\n"
     ]
    },
    {
     "name": "stderr",
     "output_type": "stream",
     "text": [
      " 26%|██▌       | 13/50 [02:52<08:01, 13.01s/it]"
     ]
    },
    {
     "name": "stdout",
     "output_type": "stream",
     "text": [
      "epoch is: 13 accuracy over training/validation data set: 0.88432 / 0.85496  || running loss is: 4.323899708539248\n"
     ]
    },
    {
     "name": "stderr",
     "output_type": "stream",
     "text": [
      " 28%|██▊       | 14/50 [03:05<07:47, 12.99s/it]"
     ]
    },
    {
     "name": "stdout",
     "output_type": "stream",
     "text": [
      "epoch is: 14 accuracy over training/validation data set: 0.8852533333333333 / 0.85384  || running loss is: 4.254522954821587\n"
     ]
    },
    {
     "name": "stderr",
     "output_type": "stream",
     "text": [
      " 30%|███       | 15/50 [03:18<07:38, 13.10s/it]"
     ]
    },
    {
     "name": "stdout",
     "output_type": "stream",
     "text": [
      "epoch is: 15 accuracy over training/validation data set: 0.8880266666666666 / 0.85608  || running loss is: 4.2211140502989295\n"
     ]
    },
    {
     "name": "stderr",
     "output_type": "stream",
     "text": [
      " 32%|███▏      | 16/50 [03:31<07:28, 13.20s/it]"
     ]
    },
    {
     "name": "stdout",
     "output_type": "stream",
     "text": [
      "epoch is: 16 accuracy over training/validation data set: 0.8873866666666667 / 0.85536  || running loss is: 4.13801697999239\n"
     ]
    },
    {
     "name": "stderr",
     "output_type": "stream",
     "text": [
      " 34%|███▍      | 17/50 [03:44<07:13, 13.14s/it]"
     ]
    },
    {
     "name": "stdout",
     "output_type": "stream",
     "text": [
      "epoch is: 17 accuracy over training/validation data set: 0.88984 / 0.85312  || running loss is: 4.0975916893780235\n"
     ]
    },
    {
     "name": "stderr",
     "output_type": "stream",
     "text": [
      " 36%|███▌      | 18/50 [03:57<06:58, 13.07s/it]"
     ]
    },
    {
     "name": "stdout",
     "output_type": "stream",
     "text": [
      "epoch is: 18 accuracy over training/validation data set: 0.8913066666666667 / 0.85528  || running loss is: 4.0406804260611535\n"
     ]
    },
    {
     "name": "stderr",
     "output_type": "stream",
     "text": [
      " 38%|███▊      | 19/50 [04:10<06:41, 12.96s/it]"
     ]
    },
    {
     "name": "stdout",
     "output_type": "stream",
     "text": [
      "epoch is: 19 accuracy over training/validation data set: 0.89512 / 0.85448  || running loss is: 3.979308549016714\n"
     ]
    },
    {
     "name": "stderr",
     "output_type": "stream",
     "text": [
      " 40%|████      | 20/50 [04:23<06:29, 12.98s/it]"
     ]
    },
    {
     "name": "stdout",
     "output_type": "stream",
     "text": [
      "epoch is: 20 accuracy over training/validation data set: 0.8939733333333333 / 0.85392  || running loss is: 3.928085984289646\n"
     ]
    },
    {
     "name": "stderr",
     "output_type": "stream",
     "text": [
      " 42%|████▏     | 21/50 [04:36<06:14, 12.92s/it]"
     ]
    },
    {
     "name": "stdout",
     "output_type": "stream",
     "text": [
      "epoch is: 21 accuracy over training/validation data set: 0.89576 / 0.854  || running loss is: 3.874287863969803\n"
     ]
    },
    {
     "name": "stderr",
     "output_type": "stream",
     "text": [
      " 44%|████▍     | 22/50 [04:49<06:01, 12.91s/it]"
     ]
    },
    {
     "name": "stdout",
     "output_type": "stream",
     "text": [
      "epoch is: 22 accuracy over training/validation data set: 0.8980266666666666 / 0.85496  || running loss is: 3.828819631189108\n"
     ]
    },
    {
     "name": "stderr",
     "output_type": "stream",
     "text": [
      " 46%|████▌     | 23/50 [05:01<05:47, 12.87s/it]"
     ]
    },
    {
     "name": "stdout",
     "output_type": "stream",
     "text": [
      "epoch is: 23 accuracy over training/validation data set: 0.9006933333333333 / 0.85376  || running loss is: 3.778022646382451\n"
     ]
    },
    {
     "name": "stderr",
     "output_type": "stream",
     "text": [
      " 48%|████▊     | 24/50 [05:14<05:35, 12.89s/it]"
     ]
    },
    {
     "name": "stdout",
     "output_type": "stream",
     "text": [
      "epoch is: 24 accuracy over training/validation data set: 0.9047733333333333 / 0.85632  || running loss is: 3.731859690397978\n"
     ]
    },
    {
     "name": "stderr",
     "output_type": "stream",
     "text": [
      " 50%|█████     | 25/50 [05:27<05:23, 12.92s/it]"
     ]
    },
    {
     "name": "stdout",
     "output_type": "stream",
     "text": [
      "epoch is: 25 accuracy over training/validation data set: 0.9052266666666666 / 0.85496  || running loss is: 3.654668818414211\n"
     ]
    },
    {
     "name": "stderr",
     "output_type": "stream",
     "text": [
      " 52%|█████▏    | 26/50 [05:41<05:11, 12.98s/it]"
     ]
    },
    {
     "name": "stdout",
     "output_type": "stream",
     "text": [
      "epoch is: 26 accuracy over training/validation data set: 0.9043733333333334 / 0.85376  || running loss is: 3.6266226471960543\n"
     ]
    },
    {
     "name": "stderr",
     "output_type": "stream",
     "text": [
      " 54%|█████▍    | 27/50 [05:53<04:57, 12.95s/it]"
     ]
    },
    {
     "name": "stdout",
     "output_type": "stream",
     "text": [
      "epoch is: 27 accuracy over training/validation data set: 0.9073333333333333 / 0.8544  || running loss is: 3.5680426321923733\n"
     ]
    },
    {
     "name": "stderr",
     "output_type": "stream",
     "text": [
      " 56%|█████▌    | 28/50 [06:06<04:44, 12.91s/it]"
     ]
    },
    {
     "name": "stdout",
     "output_type": "stream",
     "text": [
      "epoch is: 28 accuracy over training/validation data set: 0.90848 / 0.85072  || running loss is: 3.514590256661177\n"
     ]
    },
    {
     "name": "stderr",
     "output_type": "stream",
     "text": [
      " 58%|█████▊    | 29/50 [06:19<04:31, 12.91s/it]"
     ]
    },
    {
     "name": "stdout",
     "output_type": "stream",
     "text": [
      "epoch is: 29 accuracy over training/validation data set: 0.91072 / 0.85144  || running loss is: 3.438770368695259\n"
     ]
    },
    {
     "name": "stderr",
     "output_type": "stream",
     "text": [
      " 60%|██████    | 30/50 [06:32<04:17, 12.87s/it]"
     ]
    },
    {
     "name": "stdout",
     "output_type": "stream",
     "text": [
      "epoch is: 30 accuracy over training/validation data set: 0.9125333333333333 / 0.85096  || running loss is: 3.4139995270967485\n"
     ]
    },
    {
     "name": "stderr",
     "output_type": "stream",
     "text": [
      " 62%|██████▏   | 31/50 [06:44<03:58, 12.53s/it]"
     ]
    },
    {
     "name": "stdout",
     "output_type": "stream",
     "text": [
      "epoch is: 31 accuracy over training/validation data set: 0.90352 / 0.84752  || running loss is: 3.373840707093477\n"
     ]
    },
    {
     "name": "stderr",
     "output_type": "stream",
     "text": [
      " 64%|██████▍   | 32/50 [06:56<03:45, 12.55s/it]"
     ]
    },
    {
     "name": "stdout",
     "output_type": "stream",
     "text": [
      "epoch is: 32 accuracy over training/validation data set: 0.9133066666666667 / 0.85192  || running loss is: 3.295134799927473\n"
     ]
    },
    {
     "name": "stderr",
     "output_type": "stream",
     "text": [
      " 66%|██████▌   | 33/50 [07:09<03:35, 12.68s/it]"
     ]
    },
    {
     "name": "stdout",
     "output_type": "stream",
     "text": [
      "epoch is: 33 accuracy over training/validation data set: 0.9197066666666667 / 0.85232  || running loss is: 3.257845556214452\n"
     ]
    },
    {
     "name": "stderr",
     "output_type": "stream",
     "text": [
      " 68%|██████▊   | 34/50 [07:22<03:24, 12.75s/it]"
     ]
    },
    {
     "name": "stdout",
     "output_type": "stream",
     "text": [
      "epoch is: 34 accuracy over training/validation data set: 0.9218666666666666 / 0.85096  || running loss is: 3.1766197058558463\n"
     ]
    },
    {
     "name": "stderr",
     "output_type": "stream",
     "text": [
      " 70%|███████   | 35/50 [07:35<03:11, 12.80s/it]"
     ]
    },
    {
     "name": "stdout",
     "output_type": "stream",
     "text": [
      "epoch is: 35 accuracy over training/validation data set: 0.9213333333333333 / 0.8508  || running loss is: 3.1181143636256454\n"
     ]
    },
    {
     "name": "stderr",
     "output_type": "stream",
     "text": [
      " 72%|███████▏  | 36/50 [07:48<02:59, 12.84s/it]"
     ]
    },
    {
     "name": "stdout",
     "output_type": "stream",
     "text": [
      "epoch is: 36 accuracy over training/validation data set: 0.9230666666666667 / 0.85208  || running loss is: 3.085950086787343\n"
     ]
    },
    {
     "name": "stderr",
     "output_type": "stream",
     "text": [
      " 74%|███████▍  | 37/50 [08:01<02:46, 12.81s/it]"
     ]
    },
    {
     "name": "stdout",
     "output_type": "stream",
     "text": [
      "epoch is: 37 accuracy over training/validation data set: 0.9269333333333334 / 0.84768  || running loss is: 3.004831410050392\n"
     ]
    },
    {
     "name": "stderr",
     "output_type": "stream",
     "text": [
      " 76%|███████▌  | 38/50 [08:13<02:33, 12.80s/it]"
     ]
    },
    {
     "name": "stdout",
     "output_type": "stream",
     "text": [
      "epoch is: 38 accuracy over training/validation data set: 0.916 / 0.84568  || running loss is: 2.959360769763589\n"
     ]
    },
    {
     "name": "stderr",
     "output_type": "stream",
     "text": [
      " 78%|███████▊  | 39/50 [08:26<02:20, 12.80s/it]"
     ]
    },
    {
     "name": "stdout",
     "output_type": "stream",
     "text": [
      "epoch is: 39 accuracy over training/validation data set: 0.9308533333333333 / 0.8504  || running loss is: 2.878552718870342\n"
     ]
    },
    {
     "name": "stderr",
     "output_type": "stream",
     "text": [
      " 80%|████████  | 40/50 [08:39<02:07, 12.78s/it]"
     ]
    },
    {
     "name": "stdout",
     "output_type": "stream",
     "text": [
      "epoch is: 40 accuracy over training/validation data set: 0.93304 / 0.84688  || running loss is: 2.8159395852684974\n"
     ]
    },
    {
     "name": "stderr",
     "output_type": "stream",
     "text": [
      " 82%|████████▏ | 41/50 [08:52<01:55, 12.80s/it]"
     ]
    },
    {
     "name": "stdout",
     "output_type": "stream",
     "text": [
      "epoch is: 41 accuracy over training/validation data set: 0.9349066666666667 / 0.85152  || running loss is: 2.775530655682087\n"
     ]
    },
    {
     "name": "stderr",
     "output_type": "stream",
     "text": [
      " 84%|████████▍ | 42/50 [09:05<01:42, 12.76s/it]"
     ]
    },
    {
     "name": "stdout",
     "output_type": "stream",
     "text": [
      "epoch is: 42 accuracy over training/validation data set: 0.9357333333333333 / 0.8476  || running loss is: 2.7031356070190666\n"
     ]
    },
    {
     "name": "stderr",
     "output_type": "stream",
     "text": [
      " 86%|████████▌ | 43/50 [09:19<01:32, 13.22s/it]"
     ]
    },
    {
     "name": "stdout",
     "output_type": "stream",
     "text": [
      "epoch is: 43 accuracy over training/validation data set: 0.93672 / 0.84632  || running loss is: 2.626233557909727\n"
     ]
    },
    {
     "name": "stderr",
     "output_type": "stream",
     "text": [
      " 88%|████████▊ | 44/50 [09:34<01:22, 13.72s/it]"
     ]
    },
    {
     "name": "stdout",
     "output_type": "stream",
     "text": [
      "epoch is: 44 accuracy over training/validation data set: 0.9408533333333333 / 0.8472  || running loss is: 2.5769663889706136\n"
     ]
    },
    {
     "name": "stderr",
     "output_type": "stream",
     "text": [
      " 90%|█████████ | 45/50 [09:46<01:07, 13.43s/it]"
     ]
    },
    {
     "name": "stdout",
     "output_type": "stream",
     "text": [
      "epoch is: 45 accuracy over training/validation data set: 0.9437333333333333 / 0.8472  || running loss is: 2.5110797310620545\n"
     ]
    },
    {
     "name": "stderr",
     "output_type": "stream",
     "text": [
      " 92%|█████████▏| 46/50 [09:59<00:52, 13.24s/it]"
     ]
    },
    {
     "name": "stdout",
     "output_type": "stream",
     "text": [
      "epoch is: 46 accuracy over training/validation data set: 0.9437866666666667 / 0.84736  || running loss is: 2.458651272915304\n"
     ]
    },
    {
     "name": "stderr",
     "output_type": "stream",
     "text": [
      " 94%|█████████▍| 47/50 [10:12<00:39, 13.18s/it]"
     ]
    },
    {
     "name": "stdout",
     "output_type": "stream",
     "text": [
      "epoch is: 47 accuracy over training/validation data set: 0.94448 / 0.84528  || running loss is: 2.396209024861455\n"
     ]
    },
    {
     "name": "stderr",
     "output_type": "stream",
     "text": [
      " 96%|█████████▌| 48/50 [10:25<00:26, 13.12s/it]"
     ]
    },
    {
     "name": "stdout",
     "output_type": "stream",
     "text": [
      "epoch is: 48 accuracy over training/validation data set: 0.9466666666666667 / 0.84384  || running loss is: 2.3198114899545907\n"
     ]
    },
    {
     "name": "stderr",
     "output_type": "stream",
     "text": [
      " 98%|█████████▊| 49/50 [10:38<00:13, 13.06s/it]"
     ]
    },
    {
     "name": "stdout",
     "output_type": "stream",
     "text": [
      "epoch is: 49 accuracy over training/validation data set: 0.9490933333333333 / 0.84216  || running loss is: 2.2516788562387227\n"
     ]
    },
    {
     "name": "stderr",
     "output_type": "stream",
     "text": [
      "100%|██████████| 50/50 [10:49<00:00, 12.99s/it]"
     ]
    },
    {
     "name": "stdout",
     "output_type": "stream",
     "text": [
      "epoch is: 50 accuracy over training/validation data set: 0.9417866666666667 / 0.83952  || running loss is: 2.1976325261220335\n"
     ]
    },
    {
     "name": "stderr",
     "output_type": "stream",
     "text": [
      "\n"
     ]
    }
   ],
   "source": [
    "hidden_size=100\n",
    "output_size=1\n",
    "n_layers=1\n",
    "embedding_dim=64\n",
    "model=GRU(hidden_size,output_size,n_layers,embedding_dim).to(device)\n",
    "criterion =nn.BCELoss()\n",
    "lr=0.0001\n",
    "train_acc_list=[]\n",
    "valid_acc_list=[]\n",
    "loss_list=[]\n",
    "optimizer = torch.optim.Adam(model.parameters(), lr=lr)\n",
    "epochs=50\n",
    "num_epochs=tqdm(range(epochs))\n",
    "\n",
    "# n_epochs=tqdm(range(epochs))\n",
    "for epoch in num_epochs:\n",
    "\n",
    "    running_loss = 0\n",
    "\n",
    "    for i,(instances, labels) in enumerate(train_loader):\n",
    "\n",
    "        optimizer.zero_grad()\n",
    "\n",
    "        instances=instances.to(device)\n",
    "        labels=labels.reshape(len(labels),-1).to(device).to(torch.float32)\n",
    "        # print(instances.shape)\n",
    "        output = model(instances)\n",
    "        \n",
    "        # print(labels.shape)\n",
    "        # print(output.shape)\n",
    "        # print(output)\n",
    "\n",
    "        # print(output.shape)\n",
    "        # print(labels.shape)\n",
    "        loss = criterion(output, labels)\n",
    "\n",
    "\n",
    "        loss.backward()\n",
    "        optimizer.step()\n",
    "\n",
    "        running_loss += loss.item()\n",
    "    \n",
    "    loss_list.append(running_loss/batch_size)\n",
    "    a=train_acc(model)\n",
    "    train_acc_list.append(a)\n",
    "    \n",
    "    b=valid_acc(model)\n",
    "    \n",
    "    # print('accuracy over validation data set:',b)\n",
    "    valid_acc_list.append(b)\n",
    "    print('epoch is:',epoch+1,'accuracy over training/validation data set:',a,'/',b,' || running loss is:',running_loss/batch_size)\n",
    " \n"
   ]
  },
  {
   "cell_type": "code",
   "execution_count": 19,
   "metadata": {},
   "outputs": [
    {
     "data": {
      "image/png": "[encoded data removed]",
      "text/plain": [
       "<Figure size 640x480 with 1 Axes>"
      ]
     },
     "metadata": {},
     "output_type": "display_data"
    }
   ],
   "source": [
    "plt.plot(loss_list,label='loss in model',color='midnightblue')\n",
    "plt.xlabel('epoch')\n",
    "plt.ylabel('loss')\n",
    "plt.legend()\n",
    "plt.show()"
   ]
  },
  {
   "cell_type": "code",
   "execution_count": 20,
   "metadata": {},
   "outputs": [
    {
     "data": {
      "image/png": "[encoded data removed]",
      "text/plain": [
       "<Figure size 640x480 with 1 Axes>"
      ]
     },
     "metadata": {},
     "output_type": "display_data"
    }
   ],
   "source": [
    "plt.plot(train_acc_list,label='train_data',color='red')\n",
    "plt.plot(valid_acc_list,label='valid_data',color='midnightblue')\n",
    "plt.xlabel('epoch')\n",
    "plt.ylabel('accruacy')\n",
    "plt.legend()\n",
    "plt.show()"
   ]
  },
  {
   "cell_type": "markdown",
   "metadata": {},
   "source": [
    "$\\large \\text{We obsereved that weight initilization does not work properly for overfitting.}$"
   ]
  },
  {
   "cell_type": "markdown",
   "metadata": {},
   "source": [
    "$\\huge \\text{L2 Regularization:}$"
   ]
  },
  {
   "cell_type": "code",
   "execution_count": 45,
   "metadata": {},
   "outputs": [
    {
     "name": "stderr",
     "output_type": "stream",
     "text": [
      "  1%|          | 1/100 [00:16<27:19, 16.56s/it]"
     ]
    },
    {
     "name": "stdout",
     "output_type": "stream",
     "text": [
      "epoch is: 1 accuracy over training/validation data set: 0.5875733333333333 / 0.58328  || running loss is: 191.47226875305176\n"
     ]
    },
    {
     "name": "stderr",
     "output_type": "stream",
     "text": [
      "  2%|▏         | 2/100 [00:33<27:27, 16.81s/it]"
     ]
    },
    {
     "name": "stdout",
     "output_type": "stream",
     "text": [
      "epoch is: 2 accuracy over training/validation data set: 0.6967733333333334 / 0.6964  || running loss is: 170.79415575027465\n"
     ]
    },
    {
     "name": "stderr",
     "output_type": "stream",
     "text": [
      "  3%|▎         | 3/100 [00:52<28:37, 17.71s/it]"
     ]
    },
    {
     "name": "stdout",
     "output_type": "stream",
     "text": [
      "epoch is: 3 accuracy over training/validation data set: 0.73408 / 0.7344  || running loss is: 153.46001194000243\n"
     ]
    },
    {
     "name": "stderr",
     "output_type": "stream",
     "text": [
      "  4%|▍         | 4/100 [01:05<25:35, 15.99s/it]"
     ]
    },
    {
     "name": "stdout",
     "output_type": "stream",
     "text": [
      "epoch is: 4 accuracy over training/validation data set: 0.7526933333333333 / 0.74712  || running loss is: 139.53375059127808\n"
     ]
    },
    {
     "name": "stderr",
     "output_type": "stream",
     "text": [
      "  5%|▌         | 5/100 [01:22<25:46, 16.28s/it]"
     ]
    },
    {
     "name": "stdout",
     "output_type": "stream",
     "text": [
      "epoch is: 5 accuracy over training/validation data set: 0.7712533333333333 / 0.76384  || running loss is: 126.84118717193604\n"
     ]
    },
    {
     "name": "stderr",
     "output_type": "stream",
     "text": [
      "  6%|▌         | 6/100 [01:38<25:17, 16.15s/it]"
     ]
    },
    {
     "name": "stdout",
     "output_type": "stream",
     "text": [
      "epoch is: 6 accuracy over training/validation data set: 0.7794666666666666 / 0.7752  || running loss is: 115.78202599525451\n"
     ]
    },
    {
     "name": "stderr",
     "output_type": "stream",
     "text": [
      "  7%|▋         | 7/100 [01:56<25:48, 16.65s/it]"
     ]
    },
    {
     "name": "stdout",
     "output_type": "stream",
     "text": [
      "epoch is: 7 accuracy over training/validation data set: 0.7765333333333333 / 0.76976  || running loss is: 105.83919254302978\n"
     ]
    },
    {
     "name": "stderr",
     "output_type": "stream",
     "text": [
      "  8%|▊         | 8/100 [02:14<26:29, 17.28s/it]"
     ]
    },
    {
     "name": "stdout",
     "output_type": "stream",
     "text": [
      "epoch is: 8 accuracy over training/validation data set: 0.81104 / 0.80304  || running loss is: 96.88199343681336\n"
     ]
    },
    {
     "name": "stderr",
     "output_type": "stream",
     "text": [
      "  9%|▉         | 9/100 [02:35<28:05, 18.52s/it]"
     ]
    },
    {
     "name": "stdout",
     "output_type": "stream",
     "text": [
      "epoch is: 9 accuracy over training/validation data set: 0.8190933333333333 / 0.80976  || running loss is: 88.78192008972168\n"
     ]
    },
    {
     "name": "stderr",
     "output_type": "stream",
     "text": [
      " 10%|█         | 10/100 [02:56<28:30, 19.01s/it]"
     ]
    },
    {
     "name": "stdout",
     "output_type": "stream",
     "text": [
      "epoch is: 10 accuracy over training/validation data set: 0.82784 / 0.81752  || running loss is: 81.42113463401795\n"
     ]
    },
    {
     "name": "stderr",
     "output_type": "stream",
     "text": [
      " 11%|█         | 11/100 [03:18<29:49, 20.11s/it]"
     ]
    },
    {
     "name": "stdout",
     "output_type": "stream",
     "text": [
      "epoch is: 11 accuracy over training/validation data set: 0.82376 / 0.81288  || running loss is: 74.81043384552002\n"
     ]
    },
    {
     "name": "stderr",
     "output_type": "stream",
     "text": [
      " 12%|█▏        | 12/100 [03:39<29:45, 20.29s/it]"
     ]
    },
    {
     "name": "stdout",
     "output_type": "stream",
     "text": [
      "epoch is: 12 accuracy over training/validation data set: 0.83728 / 0.8256  || running loss is: 68.86477763175964\n"
     ]
    },
    {
     "name": "stderr",
     "output_type": "stream",
     "text": [
      " 13%|█▎        | 13/100 [03:58<29:01, 20.02s/it]"
     ]
    },
    {
     "name": "stdout",
     "output_type": "stream",
     "text": [
      "epoch is: 13 accuracy over training/validation data set: 0.8444 / 0.83304  || running loss is: 63.5351836681366\n"
     ]
    },
    {
     "name": "stderr",
     "output_type": "stream",
     "text": [
      " 14%|█▍        | 14/100 [04:17<27:57, 19.51s/it]"
     ]
    },
    {
     "name": "stdout",
     "output_type": "stream",
     "text": [
      "epoch is: 14 accuracy over training/validation data set: 0.8497066666666667 / 0.83816  || running loss is: 58.74113562107086\n"
     ]
    },
    {
     "name": "stderr",
     "output_type": "stream",
     "text": [
      " 15%|█▌        | 15/100 [04:34<26:36, 18.79s/it]"
     ]
    },
    {
     "name": "stdout",
     "output_type": "stream",
     "text": [
      "epoch is: 15 accuracy over training/validation data set: 0.8504533333333333 / 0.83848  || running loss is: 54.48709390163422\n"
     ]
    },
    {
     "name": "stderr",
     "output_type": "stream",
     "text": [
      " 16%|█▌        | 16/100 [04:50<25:14, 18.04s/it]"
     ]
    },
    {
     "name": "stdout",
     "output_type": "stream",
     "text": [
      "epoch is: 16 accuracy over training/validation data set: 0.8569866666666667 / 0.84424  || running loss is: 50.60939412117004\n"
     ]
    },
    {
     "name": "stderr",
     "output_type": "stream",
     "text": [
      " 17%|█▋        | 17/100 [05:06<24:10, 17.48s/it]"
     ]
    },
    {
     "name": "stdout",
     "output_type": "stream",
     "text": [
      "epoch is: 17 accuracy over training/validation data set: 0.86 / 0.84488  || running loss is: 47.144717488288876\n"
     ]
    },
    {
     "name": "stderr",
     "output_type": "stream",
     "text": [
      " 18%|█▊        | 18/100 [05:22<23:15, 17.01s/it]"
     ]
    },
    {
     "name": "stdout",
     "output_type": "stream",
     "text": [
      "epoch is: 18 accuracy over training/validation data set: 0.8598666666666667 / 0.84648  || running loss is: 44.06282329559326\n"
     ]
    },
    {
     "name": "stderr",
     "output_type": "stream",
     "text": [
      " 19%|█▉        | 19/100 [05:43<24:27, 18.12s/it]"
     ]
    },
    {
     "name": "stdout",
     "output_type": "stream",
     "text": [
      "epoch is: 19 accuracy over training/validation data set: 0.8640266666666667 / 0.84904  || running loss is: 41.29313875198364\n"
     ]
    },
    {
     "name": "stderr",
     "output_type": "stream",
     "text": [
      " 20%|██        | 20/100 [06:05<25:57, 19.47s/it]"
     ]
    },
    {
     "name": "stdout",
     "output_type": "stream",
     "text": [
      "epoch is: 20 accuracy over training/validation data set: 0.8666133333333333 / 0.84968  || running loss is: 38.86143153190613\n"
     ]
    },
    {
     "name": "stderr",
     "output_type": "stream",
     "text": [
      " 21%|██        | 21/100 [06:26<25:58, 19.73s/it]"
     ]
    },
    {
     "name": "stdout",
     "output_type": "stream",
     "text": [
      "epoch is: 21 accuracy over training/validation data set: 0.8690133333333333 / 0.85192  || running loss is: 36.670308113098145\n"
     ]
    },
    {
     "name": "stderr",
     "output_type": "stream",
     "text": [
      " 22%|██▏       | 22/100 [06:50<27:36, 21.24s/it]"
     ]
    },
    {
     "name": "stdout",
     "output_type": "stream",
     "text": [
      "epoch is: 22 accuracy over training/validation data set: 0.8672533333333333 / 0.84952  || running loss is: 34.67632966041565\n"
     ]
    },
    {
     "name": "stderr",
     "output_type": "stream",
     "text": [
      " 23%|██▎       | 23/100 [07:15<28:20, 22.08s/it]"
     ]
    },
    {
     "name": "stdout",
     "output_type": "stream",
     "text": [
      "epoch is: 23 accuracy over training/validation data set: 0.87176 / 0.85224  || running loss is: 32.91671202898026\n"
     ]
    },
    {
     "name": "stderr",
     "output_type": "stream",
     "text": [
      " 24%|██▍       | 24/100 [07:40<29:05, 22.97s/it]"
     ]
    },
    {
     "name": "stdout",
     "output_type": "stream",
     "text": [
      "epoch is: 24 accuracy over training/validation data set: 0.87096 / 0.85352  || running loss is: 31.34760977268219\n"
     ]
    },
    {
     "name": "stderr",
     "output_type": "stream",
     "text": [
      " 25%|██▌       | 25/100 [08:07<30:21, 24.28s/it]"
     ]
    },
    {
     "name": "stdout",
     "output_type": "stream",
     "text": [
      "epoch is: 25 accuracy over training/validation data set: 0.87 / 0.85032  || running loss is: 29.868503696918488\n"
     ]
    },
    {
     "name": "stderr",
     "output_type": "stream",
     "text": [
      " 26%|██▌       | 26/100 [08:29<29:14, 23.72s/it]"
     ]
    },
    {
     "name": "stdout",
     "output_type": "stream",
     "text": [
      "epoch is: 26 accuracy over training/validation data set: 0.8725866666666666 / 0.85328  || running loss is: 28.52995668888092\n"
     ]
    },
    {
     "name": "stderr",
     "output_type": "stream",
     "text": [
      " 27%|██▋       | 27/100 [08:56<30:00, 24.66s/it]"
     ]
    },
    {
     "name": "stdout",
     "output_type": "stream",
     "text": [
      "epoch is: 27 accuracy over training/validation data set: 0.8599466666666666 / 0.84672  || running loss is: 27.358345727920533\n"
     ]
    },
    {
     "name": "stderr",
     "output_type": "stream",
     "text": [
      " 28%|██▊       | 28/100 [09:23<30:20, 25.28s/it]"
     ]
    },
    {
     "name": "stdout",
     "output_type": "stream",
     "text": [
      "epoch is: 28 accuracy over training/validation data set: 0.87616 / 0.85416  || running loss is: 26.227124752998353\n"
     ]
    },
    {
     "name": "stderr",
     "output_type": "stream",
     "text": [
      " 29%|██▉       | 29/100 [09:49<30:06, 25.45s/it]"
     ]
    },
    {
     "name": "stdout",
     "output_type": "stream",
     "text": [
      "epoch is: 29 accuracy over training/validation data set: 0.87408 / 0.8524  || running loss is: 25.214845376014708\n"
     ]
    },
    {
     "name": "stderr",
     "output_type": "stream",
     "text": [
      " 30%|███       | 30/100 [10:14<29:37, 25.39s/it]"
     ]
    },
    {
     "name": "stdout",
     "output_type": "stream",
     "text": [
      "epoch is: 30 accuracy over training/validation data set: 0.8721066666666667 / 0.85224  || running loss is: 24.276656723022462\n"
     ]
    },
    {
     "name": "stderr",
     "output_type": "stream",
     "text": [
      " 31%|███       | 31/100 [10:39<28:55, 25.16s/it]"
     ]
    },
    {
     "name": "stdout",
     "output_type": "stream",
     "text": [
      "epoch is: 31 accuracy over training/validation data set: 0.8727466666666667 / 0.8532  || running loss is: 23.424356212615965\n"
     ]
    },
    {
     "name": "stderr",
     "output_type": "stream",
     "text": [
      " 32%|███▏      | 32/100 [11:03<28:05, 24.79s/it]"
     ]
    },
    {
     "name": "stdout",
     "output_type": "stream",
     "text": [
      "epoch is: 32 accuracy over training/validation data set: 0.87376 / 0.85096  || running loss is: 22.683762974739075\n"
     ]
    },
    {
     "name": "stderr",
     "output_type": "stream",
     "text": [
      " 33%|███▎      | 33/100 [11:28<27:50, 24.94s/it]"
     ]
    },
    {
     "name": "stdout",
     "output_type": "stream",
     "text": [
      "epoch is: 33 accuracy over training/validation data set: 0.87552 / 0.85408  || running loss is: 21.93632630109787\n"
     ]
    },
    {
     "name": "stderr",
     "output_type": "stream",
     "text": [
      " 34%|███▍      | 34/100 [11:55<28:00, 25.46s/it]"
     ]
    },
    {
     "name": "stdout",
     "output_type": "stream",
     "text": [
      "epoch is: 34 accuracy over training/validation data set: 0.8768 / 0.85592  || running loss is: 21.290650913715364\n"
     ]
    },
    {
     "name": "stderr",
     "output_type": "stream",
     "text": [
      " 35%|███▌      | 35/100 [12:21<28:02, 25.88s/it]"
     ]
    },
    {
     "name": "stdout",
     "output_type": "stream",
     "text": [
      "epoch is: 35 accuracy over training/validation data set: 0.86624 / 0.84792  || running loss is: 20.666929483413696\n"
     ]
    },
    {
     "name": "stderr",
     "output_type": "stream",
     "text": [
      " 36%|███▌      | 36/100 [12:49<28:11, 26.44s/it]"
     ]
    },
    {
     "name": "stdout",
     "output_type": "stream",
     "text": [
      "epoch is: 36 accuracy over training/validation data set: 0.8756266666666667 / 0.85072  || running loss is: 20.053385074138642\n"
     ]
    },
    {
     "name": "stderr",
     "output_type": "stream",
     "text": [
      " 37%|███▋      | 37/100 [13:16<27:58, 26.64s/it]"
     ]
    },
    {
     "name": "stdout",
     "output_type": "stream",
     "text": [
      "epoch is: 37 accuracy over training/validation data set: 0.87736 / 0.8548  || running loss is: 19.487318031787872\n"
     ]
    },
    {
     "name": "stderr",
     "output_type": "stream",
     "text": [
      " 38%|███▊      | 38/100 [13:43<27:40, 26.79s/it]"
     ]
    },
    {
     "name": "stdout",
     "output_type": "stream",
     "text": [
      "epoch is: 38 accuracy over training/validation data set: 0.8798933333333333 / 0.85456  || running loss is: 18.96164979696274\n"
     ]
    },
    {
     "name": "stderr",
     "output_type": "stream",
     "text": [
      " 39%|███▉      | 39/100 [14:10<27:20, 26.89s/it]"
     ]
    },
    {
     "name": "stdout",
     "output_type": "stream",
     "text": [
      "epoch is: 39 accuracy over training/validation data set: 0.8768 / 0.852  || running loss is: 18.471981000900268\n"
     ]
    },
    {
     "name": "stderr",
     "output_type": "stream",
     "text": [
      " 40%|████      | 40/100 [14:38<27:09, 27.16s/it]"
     ]
    },
    {
     "name": "stdout",
     "output_type": "stream",
     "text": [
      "epoch is: 40 accuracy over training/validation data set: 0.8772 / 0.85384  || running loss is: 18.02763728618622\n"
     ]
    },
    {
     "name": "stderr",
     "output_type": "stream",
     "text": [
      " 41%|████      | 41/100 [15:06<26:58, 27.44s/it]"
     ]
    },
    {
     "name": "stdout",
     "output_type": "stream",
     "text": [
      "epoch is: 41 accuracy over training/validation data set: 0.8776266666666667 / 0.85192  || running loss is: 17.613080604076387\n"
     ]
    },
    {
     "name": "stderr",
     "output_type": "stream",
     "text": [
      " 42%|████▏     | 42/100 [15:34<26:41, 27.61s/it]"
     ]
    },
    {
     "name": "stdout",
     "output_type": "stream",
     "text": [
      "epoch is: 42 accuracy over training/validation data set: 0.8744266666666667 / 0.85024  || running loss is: 17.190140466690064\n"
     ]
    },
    {
     "name": "stderr",
     "output_type": "stream",
     "text": [
      " 43%|████▎     | 43/100 [16:01<26:05, 27.46s/it]"
     ]
    },
    {
     "name": "stdout",
     "output_type": "stream",
     "text": [
      "epoch is: 43 accuracy over training/validation data set: 0.88088 / 0.85448  || running loss is: 16.807342681884766\n"
     ]
    },
    {
     "name": "stderr",
     "output_type": "stream",
     "text": [
      " 44%|████▍     | 44/100 [16:27<25:04, 26.87s/it]"
     ]
    },
    {
     "name": "stdout",
     "output_type": "stream",
     "text": [
      "epoch is: 44 accuracy over training/validation data set: 0.8795466666666667 / 0.85544  || running loss is: 16.417362571954726\n"
     ]
    },
    {
     "name": "stderr",
     "output_type": "stream",
     "text": [
      " 45%|████▌     | 45/100 [16:50<23:34, 25.72s/it]"
     ]
    },
    {
     "name": "stdout",
     "output_type": "stream",
     "text": [
      "epoch is: 45 accuracy over training/validation data set: 0.87272 / 0.85016  || running loss is: 16.08210778236389\n"
     ]
    },
    {
     "name": "stderr",
     "output_type": "stream",
     "text": [
      " 46%|████▌     | 46/100 [17:12<22:15, 24.74s/it]"
     ]
    },
    {
     "name": "stdout",
     "output_type": "stream",
     "text": [
      "epoch is: 46 accuracy over training/validation data set: 0.87904 / 0.85496  || running loss is: 15.787166442871094\n"
     ]
    },
    {
     "name": "stderr",
     "output_type": "stream",
     "text": [
      " 47%|████▋     | 47/100 [17:37<21:47, 24.66s/it]"
     ]
    },
    {
     "name": "stdout",
     "output_type": "stream",
     "text": [
      "epoch is: 47 accuracy over training/validation data set: 0.8790666666666667 / 0.85344  || running loss is: 15.406498514413833\n"
     ]
    },
    {
     "name": "stderr",
     "output_type": "stream",
     "text": [
      " 48%|████▊     | 48/100 [18:02<21:34, 24.89s/it]"
     ]
    },
    {
     "name": "stdout",
     "output_type": "stream",
     "text": [
      "epoch is: 48 accuracy over training/validation data set: 0.8803733333333333 / 0.85424  || running loss is: 15.143095978498458\n"
     ]
    },
    {
     "name": "stderr",
     "output_type": "stream",
     "text": [
      " 49%|████▉     | 49/100 [18:30<21:46, 25.62s/it]"
     ]
    },
    {
     "name": "stdout",
     "output_type": "stream",
     "text": [
      "epoch is: 49 accuracy over training/validation data set: 0.87976 / 0.85568  || running loss is: 14.837072751522065\n"
     ]
    },
    {
     "name": "stderr",
     "output_type": "stream",
     "text": [
      " 50%|█████     | 50/100 [18:57<21:47, 26.15s/it]"
     ]
    },
    {
     "name": "stdout",
     "output_type": "stream",
     "text": [
      "epoch is: 50 accuracy over training/validation data set: 0.8821066666666667 / 0.85576  || running loss is: 14.54945678114891\n"
     ]
    },
    {
     "name": "stderr",
     "output_type": "stream",
     "text": [
      " 51%|█████     | 51/100 [19:25<21:54, 26.82s/it]"
     ]
    },
    {
     "name": "stdout",
     "output_type": "stream",
     "text": [
      "epoch is: 51 accuracy over training/validation data set: 0.8846666666666667 / 0.85744  || running loss is: 14.318307294845582\n"
     ]
    },
    {
     "name": "stderr",
     "output_type": "stream",
     "text": [
      " 52%|█████▏    | 52/100 [19:53<21:43, 27.16s/it]"
     ]
    },
    {
     "name": "stdout",
     "output_type": "stream",
     "text": [
      "epoch is: 52 accuracy over training/validation data set: 0.8814666666666666 / 0.85304  || running loss is: 14.046213511228562\n"
     ]
    },
    {
     "name": "stderr",
     "output_type": "stream",
     "text": [
      " 53%|█████▎    | 53/100 [20:20<21:03, 26.89s/it]"
     ]
    },
    {
     "name": "stdout",
     "output_type": "stream",
     "text": [
      "epoch is: 53 accuracy over training/validation data set: 0.8822933333333334 / 0.85344  || running loss is: 13.76954670906067\n"
     ]
    },
    {
     "name": "stderr",
     "output_type": "stream",
     "text": [
      " 54%|█████▍    | 54/100 [20:45<20:08, 26.28s/it]"
     ]
    },
    {
     "name": "stdout",
     "output_type": "stream",
     "text": [
      "epoch is: 54 accuracy over training/validation data set: 0.8832533333333333 / 0.85488  || running loss is: 13.596017981767654\n"
     ]
    },
    {
     "name": "stderr",
     "output_type": "stream",
     "text": [
      " 55%|█████▌    | 55/100 [21:12<20:02, 26.72s/it]"
     ]
    },
    {
     "name": "stdout",
     "output_type": "stream",
     "text": [
      "epoch is: 55 accuracy over training/validation data set: 0.8856 / 0.85528  || running loss is: 13.298079903125762\n"
     ]
    },
    {
     "name": "stderr",
     "output_type": "stream",
     "text": [
      " 56%|█████▌    | 56/100 [21:40<19:42, 26.89s/it]"
     ]
    },
    {
     "name": "stdout",
     "output_type": "stream",
     "text": [
      "epoch is: 56 accuracy over training/validation data set: 0.8871733333333334 / 0.85632  || running loss is: 13.130371000766754\n"
     ]
    },
    {
     "name": "stderr",
     "output_type": "stream",
     "text": [
      " 57%|█████▋    | 57/100 [22:07<19:22, 27.05s/it]"
     ]
    },
    {
     "name": "stdout",
     "output_type": "stream",
     "text": [
      "epoch is: 57 accuracy over training/validation data set: 0.88504 / 0.85352  || running loss is: 12.887865139245987\n"
     ]
    },
    {
     "name": "stderr",
     "output_type": "stream",
     "text": [
      " 58%|█████▊    | 58/100 [22:34<18:59, 27.12s/it]"
     ]
    },
    {
     "name": "stdout",
     "output_type": "stream",
     "text": [
      "epoch is: 58 accuracy over training/validation data set: 0.8848 / 0.85344  || running loss is: 12.669587815999984\n"
     ]
    },
    {
     "name": "stderr",
     "output_type": "stream",
     "text": [
      " 59%|█████▉    | 59/100 [23:02<18:36, 27.23s/it]"
     ]
    },
    {
     "name": "stdout",
     "output_type": "stream",
     "text": [
      "epoch is: 59 accuracy over training/validation data set: 0.8848 / 0.85208  || running loss is: 12.517863105535508\n"
     ]
    },
    {
     "name": "stderr",
     "output_type": "stream",
     "text": [
      " 60%|██████    | 60/100 [23:27<17:40, 26.52s/it]"
     ]
    },
    {
     "name": "stdout",
     "output_type": "stream",
     "text": [
      "epoch is: 60 accuracy over training/validation data set: 0.8868 / 0.85296  || running loss is: 12.297290972471238\n"
     ]
    },
    {
     "name": "stderr",
     "output_type": "stream",
     "text": [
      " 61%|██████    | 61/100 [23:51<16:49, 25.89s/it]"
     ]
    },
    {
     "name": "stdout",
     "output_type": "stream",
     "text": [
      "epoch is: 61 accuracy over training/validation data set: 0.88696 / 0.85352  || running loss is: 12.117534741163254\n"
     ]
    },
    {
     "name": "stderr",
     "output_type": "stream",
     "text": [
      " 62%|██████▏   | 62/100 [24:15<15:59, 25.24s/it]"
     ]
    },
    {
     "name": "stdout",
     "output_type": "stream",
     "text": [
      "epoch is: 62 accuracy over training/validation data set: 0.87912 / 0.84456  || running loss is: 11.953139243125916\n"
     ]
    },
    {
     "name": "stderr",
     "output_type": "stream",
     "text": [
      " 63%|██████▎   | 63/100 [24:39<15:26, 25.03s/it]"
     ]
    },
    {
     "name": "stdout",
     "output_type": "stream",
     "text": [
      "epoch is: 63 accuracy over training/validation data set: 0.8880266666666666 / 0.85152  || running loss is: 11.756092129945754\n"
     ]
    },
    {
     "name": "stderr",
     "output_type": "stream",
     "text": [
      " 64%|██████▍   | 64/100 [25:05<15:08, 25.23s/it]"
     ]
    },
    {
     "name": "stdout",
     "output_type": "stream",
     "text": [
      "epoch is: 64 accuracy over training/validation data set: 0.8828533333333334 / 0.8464  || running loss is: 11.591442520618438\n"
     ]
    },
    {
     "name": "stderr",
     "output_type": "stream",
     "text": [
      " 65%|██████▌   | 65/100 [25:31<14:52, 25.49s/it]"
     ]
    },
    {
     "name": "stdout",
     "output_type": "stream",
     "text": [
      "epoch is: 65 accuracy over training/validation data set: 0.8902133333333333 / 0.85072  || running loss is: 11.446469111442566\n"
     ]
    },
    {
     "name": "stderr",
     "output_type": "stream",
     "text": [
      " 66%|██████▌   | 66/100 [25:58<14:45, 26.03s/it]"
     ]
    },
    {
     "name": "stdout",
     "output_type": "stream",
     "text": [
      "epoch is: 66 accuracy over training/validation data set: 0.8868 / 0.8504  || running loss is: 11.303382098674774\n"
     ]
    },
    {
     "name": "stderr",
     "output_type": "stream",
     "text": [
      " 67%|██████▋   | 67/100 [26:25<14:25, 26.23s/it]"
     ]
    },
    {
     "name": "stdout",
     "output_type": "stream",
     "text": [
      "epoch is: 67 accuracy over training/validation data set: 0.8890933333333333 / 0.8512  || running loss is: 11.135873165130615\n"
     ]
    },
    {
     "name": "stderr",
     "output_type": "stream",
     "text": [
      " 68%|██████▊   | 68/100 [26:53<14:15, 26.75s/it]"
     ]
    },
    {
     "name": "stdout",
     "output_type": "stream",
     "text": [
      "epoch is: 68 accuracy over training/validation data set: 0.89016 / 0.85008  || running loss is: 10.987290160655975\n"
     ]
    },
    {
     "name": "stderr",
     "output_type": "stream",
     "text": [
      " 69%|██████▉   | 69/100 [27:21<13:58, 27.06s/it]"
     ]
    },
    {
     "name": "stdout",
     "output_type": "stream",
     "text": [
      "epoch is: 69 accuracy over training/validation data set: 0.89352 / 0.85296  || running loss is: 10.826239366531372\n"
     ]
    },
    {
     "name": "stderr",
     "output_type": "stream",
     "text": [
      " 70%|███████   | 70/100 [27:49<13:38, 27.28s/it]"
     ]
    },
    {
     "name": "stdout",
     "output_type": "stream",
     "text": [
      "epoch is: 70 accuracy over training/validation data set: 0.89352 / 0.85184  || running loss is: 10.720827715396881\n"
     ]
    },
    {
     "name": "stderr",
     "output_type": "stream",
     "text": [
      " 71%|███████   | 71/100 [28:17<13:21, 27.62s/it]"
     ]
    },
    {
     "name": "stdout",
     "output_type": "stream",
     "text": [
      "epoch is: 71 accuracy over training/validation data set: 0.8902666666666667 / 0.84672  || running loss is: 10.585403887033463\n"
     ]
    },
    {
     "name": "stderr",
     "output_type": "stream",
     "text": [
      " 72%|███████▏  | 72/100 [28:45<12:52, 27.59s/it]"
     ]
    },
    {
     "name": "stdout",
     "output_type": "stream",
     "text": [
      "epoch is: 72 accuracy over training/validation data set: 0.8633866666666666 / 0.8296  || running loss is: 10.428096486926078\n"
     ]
    },
    {
     "name": "stderr",
     "output_type": "stream",
     "text": [
      " 73%|███████▎  | 73/100 [29:13<12:28, 27.74s/it]"
     ]
    },
    {
     "name": "stdout",
     "output_type": "stream",
     "text": [
      "epoch is: 73 accuracy over training/validation data set: 0.8897866666666666 / 0.84976  || running loss is: 10.32374103665352\n"
     ]
    },
    {
     "name": "stderr",
     "output_type": "stream",
     "text": [
      " 74%|███████▍  | 74/100 [29:41<12:09, 28.05s/it]"
     ]
    },
    {
     "name": "stdout",
     "output_type": "stream",
     "text": [
      "epoch is: 74 accuracy over training/validation data set: 0.89176 / 0.84688  || running loss is: 10.188371114730835\n"
     ]
    },
    {
     "name": "stderr",
     "output_type": "stream",
     "text": [
      " 75%|███████▌  | 75/100 [30:09<11:39, 27.97s/it]"
     ]
    },
    {
     "name": "stdout",
     "output_type": "stream",
     "text": [
      "epoch is: 75 accuracy over training/validation data set: 0.89264 / 0.85168  || running loss is: 10.091430718898772\n"
     ]
    },
    {
     "name": "stderr",
     "output_type": "stream",
     "text": [
      " 76%|███████▌  | 76/100 [30:36<11:01, 27.57s/it]"
     ]
    },
    {
     "name": "stdout",
     "output_type": "stream",
     "text": [
      "epoch is: 76 accuracy over training/validation data set: 0.8958133333333334 / 0.84968  || running loss is: 9.94457966685295\n"
     ]
    },
    {
     "name": "stderr",
     "output_type": "stream",
     "text": [
      " 77%|███████▋  | 77/100 [31:03<10:29, 27.37s/it]"
     ]
    },
    {
     "name": "stdout",
     "output_type": "stream",
     "text": [
      "epoch is: 77 accuracy over training/validation data set: 0.8936 / 0.844  || running loss is: 9.829020686149597\n"
     ]
    },
    {
     "name": "stderr",
     "output_type": "stream",
     "text": [
      " 78%|███████▊  | 78/100 [31:30<10:02, 27.40s/it]"
     ]
    },
    {
     "name": "stdout",
     "output_type": "stream",
     "text": [
      "epoch is: 78 accuracy over training/validation data set: 0.8953333333333333 / 0.84776  || running loss is: 9.72117907345295\n"
     ]
    },
    {
     "name": "stderr",
     "output_type": "stream",
     "text": [
      " 79%|███████▉  | 79/100 [31:53<09:05, 26.00s/it]"
     ]
    },
    {
     "name": "stdout",
     "output_type": "stream",
     "text": [
      "epoch is: 79 accuracy over training/validation data set: 0.8967733333333333 / 0.84688  || running loss is: 9.633163939714432\n"
     ]
    },
    {
     "name": "stderr",
     "output_type": "stream",
     "text": [
      " 80%|████████  | 80/100 [32:20<08:43, 26.18s/it]"
     ]
    },
    {
     "name": "stdout",
     "output_type": "stream",
     "text": [
      "epoch is: 80 accuracy over training/validation data set: 0.8933333333333333 / 0.83952  || running loss is: 9.534753132462502\n"
     ]
    },
    {
     "name": "stderr",
     "output_type": "stream",
     "text": [
      " 81%|████████  | 81/100 [32:47<08:22, 26.47s/it]"
     ]
    },
    {
     "name": "stdout",
     "output_type": "stream",
     "text": [
      "epoch is: 81 accuracy over training/validation data set: 0.8972533333333333 / 0.84592  || running loss is: 9.433915743231774\n"
     ]
    },
    {
     "name": "stderr",
     "output_type": "stream",
     "text": [
      " 82%|████████▏ | 82/100 [33:14<08:01, 26.76s/it]"
     ]
    },
    {
     "name": "stdout",
     "output_type": "stream",
     "text": [
      "epoch is: 82 accuracy over training/validation data set: 0.9010933333333333 / 0.84968  || running loss is: 9.318489933013916\n"
     ]
    },
    {
     "name": "stderr",
     "output_type": "stream",
     "text": [
      " 83%|████████▎ | 83/100 [33:42<07:39, 27.00s/it]"
     ]
    },
    {
     "name": "stdout",
     "output_type": "stream",
     "text": [
      "epoch is: 83 accuracy over training/validation data set: 0.8970666666666667 / 0.84792  || running loss is: 9.2233521682024\n"
     ]
    },
    {
     "name": "stderr",
     "output_type": "stream",
     "text": [
      " 84%|████████▍ | 84/100 [34:09<07:13, 27.10s/it]"
     ]
    },
    {
     "name": "stdout",
     "output_type": "stream",
     "text": [
      "epoch is: 84 accuracy over training/validation data set: 0.8965333333333333 / 0.84912  || running loss is: 9.116962459087372\n"
     ]
    },
    {
     "name": "stderr",
     "output_type": "stream",
     "text": [
      " 85%|████████▌ | 85/100 [34:34<06:38, 26.54s/it]"
     ]
    },
    {
     "name": "stdout",
     "output_type": "stream",
     "text": [
      "epoch is: 85 accuracy over training/validation data set: 0.9028266666666667 / 0.8464  || running loss is: 9.048043854236603\n"
     ]
    },
    {
     "name": "stderr",
     "output_type": "stream",
     "text": [
      " 86%|████████▌ | 86/100 [35:00<06:10, 26.44s/it]"
     ]
    },
    {
     "name": "stdout",
     "output_type": "stream",
     "text": [
      "epoch is: 86 accuracy over training/validation data set: 0.9031466666666667 / 0.84648  || running loss is: 8.959448125958442\n"
     ]
    },
    {
     "name": "stderr",
     "output_type": "stream",
     "text": [
      " 87%|████████▋ | 87/100 [35:23<05:28, 25.27s/it]"
     ]
    },
    {
     "name": "stdout",
     "output_type": "stream",
     "text": [
      "epoch is: 87 accuracy over training/validation data set: 0.8996 / 0.84496  || running loss is: 8.865005207061767\n"
     ]
    },
    {
     "name": "stderr",
     "output_type": "stream",
     "text": [
      " 88%|████████▊ | 88/100 [35:45<04:52, 24.40s/it]"
     ]
    },
    {
     "name": "stdout",
     "output_type": "stream",
     "text": [
      "epoch is: 88 accuracy over training/validation data set: 0.9038133333333334 / 0.84992  || running loss is: 8.773054295778275\n"
     ]
    },
    {
     "name": "stderr",
     "output_type": "stream",
     "text": [
      " 89%|████████▉ | 89/100 [36:09<04:26, 24.26s/it]"
     ]
    },
    {
     "name": "stdout",
     "output_type": "stream",
     "text": [
      "epoch is: 89 accuracy over training/validation data set: 0.8997333333333334 / 0.84712  || running loss is: 8.69393189907074\n"
     ]
    },
    {
     "name": "stderr",
     "output_type": "stream",
     "text": [
      " 90%|█████████ | 90/100 [36:35<04:06, 24.64s/it]"
     ]
    },
    {
     "name": "stdout",
     "output_type": "stream",
     "text": [
      "epoch is: 90 accuracy over training/validation data set: 0.9020266666666666 / 0.84848  || running loss is: 8.609613228440285\n"
     ]
    },
    {
     "name": "stderr",
     "output_type": "stream",
     "text": [
      " 91%|█████████ | 91/100 [37:01<03:46, 25.14s/it]"
     ]
    },
    {
     "name": "stdout",
     "output_type": "stream",
     "text": [
      "epoch is: 91 accuracy over training/validation data set: 0.9044533333333333 / 0.84568  || running loss is: 8.512079155445099\n"
     ]
    },
    {
     "name": "stderr",
     "output_type": "stream",
     "text": [
      " 92%|█████████▏| 92/100 [37:29<03:26, 25.82s/it]"
     ]
    },
    {
     "name": "stdout",
     "output_type": "stream",
     "text": [
      "epoch is: 92 accuracy over training/validation data set: 0.9048533333333333 / 0.84624  || running loss is: 8.44436205804348\n"
     ]
    },
    {
     "name": "stderr",
     "output_type": "stream",
     "text": [
      " 93%|█████████▎| 93/100 [37:57<03:05, 26.49s/it]"
     ]
    },
    {
     "name": "stdout",
     "output_type": "stream",
     "text": [
      "epoch is: 93 accuracy over training/validation data set: 0.9076533333333333 / 0.84504  || running loss is: 8.393573474884032\n"
     ]
    },
    {
     "name": "stderr",
     "output_type": "stream",
     "text": [
      " 94%|█████████▍| 94/100 [38:24<02:40, 26.82s/it]"
     ]
    },
    {
     "name": "stdout",
     "output_type": "stream",
     "text": [
      "epoch is: 94 accuracy over training/validation data set: 0.90776 / 0.84408  || running loss is: 8.323209658265114\n"
     ]
    },
    {
     "name": "stderr",
     "output_type": "stream",
     "text": [
      " 95%|█████████▌| 95/100 [38:52<02:15, 27.15s/it]"
     ]
    },
    {
     "name": "stdout",
     "output_type": "stream",
     "text": [
      "epoch is: 95 accuracy over training/validation data set: 0.9067466666666667 / 0.84536  || running loss is: 8.240765631794929\n"
     ]
    },
    {
     "name": "stderr",
     "output_type": "stream",
     "text": [
      " 96%|█████████▌| 96/100 [39:19<01:48, 27.14s/it]"
     ]
    },
    {
     "name": "stdout",
     "output_type": "stream",
     "text": [
      "epoch is: 96 accuracy over training/validation data set: 0.9071466666666667 / 0.84544  || running loss is: 8.116723037958145\n"
     ]
    },
    {
     "name": "stderr",
     "output_type": "stream",
     "text": [
      " 97%|█████████▋| 97/100 [39:46<01:21, 27.07s/it]"
     ]
    },
    {
     "name": "stdout",
     "output_type": "stream",
     "text": [
      "epoch is: 97 accuracy over training/validation data set: 0.9017866666666666 / 0.84112  || running loss is: 8.064454584121703\n"
     ]
    },
    {
     "name": "stderr",
     "output_type": "stream",
     "text": [
      " 98%|█████████▊| 98/100 [40:13<00:54, 27.02s/it]"
     ]
    },
    {
     "name": "stdout",
     "output_type": "stream",
     "text": [
      "epoch is: 98 accuracy over training/validation data set: 0.90616 / 0.83896  || running loss is: 8.026933460831643\n"
     ]
    },
    {
     "name": "stderr",
     "output_type": "stream",
     "text": [
      " 99%|█████████▉| 99/100 [40:41<00:27, 27.17s/it]"
     ]
    },
    {
     "name": "stdout",
     "output_type": "stream",
     "text": [
      "epoch is: 99 accuracy over training/validation data set: 0.9107466666666667 / 0.84376  || running loss is: 7.923796393275261\n"
     ]
    },
    {
     "name": "stderr",
     "output_type": "stream",
     "text": [
      "100%|██████████| 100/100 [41:08<00:00, 24.68s/it]"
     ]
    },
    {
     "name": "stdout",
     "output_type": "stream",
     "text": [
      "epoch is: 100 accuracy over training/validation data set: 0.9097066666666667 / 0.84312  || running loss is: 7.86707876086235\n"
     ]
    },
    {
     "name": "stderr",
     "output_type": "stream",
     "text": [
      "\n"
     ]
    }
   ],
   "source": [
    "hidden_size=100\n",
    "output_size=1\n",
    "n_layers=1\n",
    "embedding_dim=64\n",
    "lembda=0.01\n",
    "model=GRU(hidden_size,output_size,n_layers,embedding_dim).to(device)\n",
    "criterion =nn.BCELoss()\n",
    "lr=0.0001\n",
    "train_acc_list=[]\n",
    "valid_acc_list=[]\n",
    "loss_list=[]\n",
    "optimizer = torch.optim.Adam(model.parameters(), lr=lr)\n",
    "epochs=100\n",
    "num_epochs=tqdm(range(epochs))\n",
    "\n",
    "# n_epochs=tqdm(range(epochs))\n",
    "for epoch in num_epochs:\n",
    "\n",
    "    running_loss = 0\n",
    "\n",
    "    for i,(instances, labels) in enumerate(train_loader):\n",
    "\n",
    "        optimizer.zero_grad()\n",
    "\n",
    "        instances=instances.to(device)\n",
    "        labels=labels.reshape(len(labels),-1).to(device).to(torch.float32)\n",
    "        # print(instances.shape)\n",
    "        output = model(instances)\n",
    "        # manually regularization\n",
    "        l2_norm = sum(p.pow(2.0).sum() for p in model.parameters())/50\n",
    "\n",
    "        #print(output)\n",
    "        loss = criterion(output, labels)+lembda*l2_norm\n",
    "        \n",
    "\n",
    "\n",
    "        loss.backward()\n",
    "        optimizer.step()\n",
    "\n",
    "        running_loss += loss.item()\n",
    "    loss_list.append(running_loss/batch_size)\n",
    "    a=train_acc(model)\n",
    "    train_acc_list.append(a)\n",
    "    \n",
    "    b=valid_acc(model)\n",
    "    \n",
    "    # print('accuracy over validation data set:',b)\n",
    "    valid_acc_list.append(b)\n",
    "    print('epoch is:',epoch+1,'accuracy over training/validation data set:',a,'/',b,' || running loss is:',running_loss/batch_size)\n",
    " \n"
   ]
  },
  {
   "cell_type": "code",
   "execution_count": 46,
   "metadata": {},
   "outputs": [
    {
     "data": {
      "image/png": "[encoded data removed]",
      "text/plain": [
       "<Figure size 640x480 with 1 Axes>"
      ]
     },
     "metadata": {},
     "output_type": "display_data"
    }
   ],
   "source": [
    "plt.plot(loss_list,label='loss in model',color='midnightblue')\n",
    "plt.xlabel('epoch')\n",
    "plt.ylabel('loss')\n",
    "plt.legend()\n",
    "plt.show()"
   ]
  },
  {
   "cell_type": "code",
   "execution_count": 47,
   "metadata": {},
   "outputs": [
    {
     "data": {
      "image/png": "[encoded data removed]",
      "text/plain": [
       "<Figure size 640x480 with 1 Axes>"
      ]
     },
     "metadata": {},
     "output_type": "display_data"
    }
   ],
   "source": [
    "plt.plot(train_acc_list,label='train_data',color='red')\n",
    "plt.plot(valid_acc_list,label='valid_data',color='midnightblue')\n",
    "plt.xlabel('epoch')\n",
    "plt.ylabel('accruacy')\n",
    "plt.legend()\n",
    "plt.show()"
   ]
  },
  {
   "cell_type": "markdown",
   "metadata": {},
   "source": [
    "$\\huge \\text{L1 Regularization:}$"
   ]
  },
  {
   "cell_type": "code",
   "execution_count": 16,
   "metadata": {},
   "outputs": [
    {
     "name": "stderr",
     "output_type": "stream",
     "text": [
      "  1%|          | 1/100 [00:29<48:40, 29.50s/it]"
     ]
    },
    {
     "name": "stdout",
     "output_type": "stream",
     "text": [
      "epoch is: 1 accuracy over training/validation data set: 0.6426666666666667 / 0.64024  || running loss is: 159.2728520965576\n"
     ]
    },
    {
     "name": "stderr",
     "output_type": "stream",
     "text": [
      "  2%|▏         | 2/100 [00:58<47:55, 29.34s/it]"
     ]
    },
    {
     "name": "stdout",
     "output_type": "stream",
     "text": [
      "epoch is: 2 accuracy over training/validation data set: 0.7081066666666667 / 0.69944  || running loss is: 145.41889291763306\n"
     ]
    },
    {
     "name": "stderr",
     "output_type": "stream",
     "text": [
      "  3%|▎         | 3/100 [01:28<47:56, 29.65s/it]"
     ]
    },
    {
     "name": "stdout",
     "output_type": "stream",
     "text": [
      "epoch is: 3 accuracy over training/validation data set: 0.7288533333333334 / 0.72208  || running loss is: 135.10046262741088\n"
     ]
    },
    {
     "name": "stderr",
     "output_type": "stream",
     "text": [
      "  4%|▍         | 4/100 [01:58<47:28, 29.67s/it]"
     ]
    },
    {
     "name": "stdout",
     "output_type": "stream",
     "text": [
      "epoch is: 4 accuracy over training/validation data set: 0.7461866666666667 / 0.73616  || running loss is: 126.46873188018799\n"
     ]
    },
    {
     "name": "stderr",
     "output_type": "stream",
     "text": [
      "  5%|▌         | 5/100 [02:26<46:03, 29.09s/it]"
     ]
    },
    {
     "name": "stdout",
     "output_type": "stream",
     "text": [
      "epoch is: 5 accuracy over training/validation data set: 0.7632533333333333 / 0.75592  || running loss is: 118.86558859825135\n"
     ]
    },
    {
     "name": "stderr",
     "output_type": "stream",
     "text": [
      "  6%|▌         | 6/100 [02:54<44:53, 28.65s/it]"
     ]
    },
    {
     "name": "stdout",
     "output_type": "stream",
     "text": [
      "epoch is: 6 accuracy over training/validation data set: 0.77632 / 0.76584  || running loss is: 111.89988117218017\n"
     ]
    },
    {
     "name": "stderr",
     "output_type": "stream",
     "text": [
      "  7%|▋         | 7/100 [03:22<44:24, 28.66s/it]"
     ]
    },
    {
     "name": "stdout",
     "output_type": "stream",
     "text": [
      "epoch is: 7 accuracy over training/validation data set: 0.7821066666666666 / 0.76904  || running loss is: 105.52153503417969\n"
     ]
    },
    {
     "name": "stderr",
     "output_type": "stream",
     "text": [
      "  8%|▊         | 8/100 [03:51<44:00, 28.70s/it]"
     ]
    },
    {
     "name": "stdout",
     "output_type": "stream",
     "text": [
      "epoch is: 8 accuracy over training/validation data set: 0.7980266666666667 / 0.78872  || running loss is: 99.62665566444397\n"
     ]
    },
    {
     "name": "stderr",
     "output_type": "stream",
     "text": [
      "  9%|▉         | 9/100 [04:19<42:50, 28.25s/it]"
     ]
    },
    {
     "name": "stdout",
     "output_type": "stream",
     "text": [
      "epoch is: 9 accuracy over training/validation data set: 0.8034933333333333 / 0.7912  || running loss is: 94.15536493301391\n"
     ]
    },
    {
     "name": "stderr",
     "output_type": "stream",
     "text": [
      " 10%|█         | 10/100 [04:48<42:46, 28.52s/it]"
     ]
    },
    {
     "name": "stdout",
     "output_type": "stream",
     "text": [
      "epoch is: 10 accuracy over training/validation data set: 0.80968 / 0.80072  || running loss is: 89.10087869644165\n"
     ]
    },
    {
     "name": "stderr",
     "output_type": "stream",
     "text": [
      " 11%|█         | 11/100 [05:18<42:55, 28.94s/it]"
     ]
    },
    {
     "name": "stdout",
     "output_type": "stream",
     "text": [
      "epoch is: 11 accuracy over training/validation data set: 0.8152533333333334 / 0.8056  || running loss is: 84.43267040252685\n"
     ]
    },
    {
     "name": "stderr",
     "output_type": "stream",
     "text": [
      " 12%|█▏        | 12/100 [05:47<42:44, 29.14s/it]"
     ]
    },
    {
     "name": "stdout",
     "output_type": "stream",
     "text": [
      "epoch is: 12 accuracy over training/validation data set: 0.8228533333333333 / 0.81208  || running loss is: 80.05722865104676\n"
     ]
    },
    {
     "name": "stderr",
     "output_type": "stream",
     "text": [
      " 13%|█▎        | 13/100 [06:17<42:41, 29.44s/it]"
     ]
    },
    {
     "name": "stdout",
     "output_type": "stream",
     "text": [
      "epoch is: 13 accuracy over training/validation data set: 0.8249333333333333 / 0.8144  || running loss is: 76.01456155776978\n"
     ]
    },
    {
     "name": "stderr",
     "output_type": "stream",
     "text": [
      " 14%|█▍        | 14/100 [06:45<41:37, 29.04s/it]"
     ]
    },
    {
     "name": "stdout",
     "output_type": "stream",
     "text": [
      "epoch is: 14 accuracy over training/validation data set: 0.8269066666666667 / 0.81848  || running loss is: 72.26853296279907\n"
     ]
    },
    {
     "name": "stderr",
     "output_type": "stream",
     "text": [
      " 15%|█▌        | 15/100 [07:15<41:12, 29.09s/it]"
     ]
    },
    {
     "name": "stdout",
     "output_type": "stream",
     "text": [
      "epoch is: 15 accuracy over training/validation data set: 0.8315733333333334 / 0.822  || running loss is: 68.80936520576478\n"
     ]
    },
    {
     "name": "stderr",
     "output_type": "stream",
     "text": [
      " 16%|█▌        | 16/100 [07:43<40:37, 29.01s/it]"
     ]
    },
    {
     "name": "stdout",
     "output_type": "stream",
     "text": [
      "epoch is: 16 accuracy over training/validation data set: 0.83664 / 0.82488  || running loss is: 65.62519585609436\n"
     ]
    },
    {
     "name": "stderr",
     "output_type": "stream",
     "text": [
      " 17%|█▋        | 17/100 [08:12<40:01, 28.93s/it]"
     ]
    },
    {
     "name": "stdout",
     "output_type": "stream",
     "text": [
      "epoch is: 17 accuracy over training/validation data set: 0.83416 / 0.82016  || running loss is: 62.63936545848846\n"
     ]
    },
    {
     "name": "stderr",
     "output_type": "stream",
     "text": [
      " 18%|█▊        | 18/100 [08:41<39:29, 28.89s/it]"
     ]
    },
    {
     "name": "stdout",
     "output_type": "stream",
     "text": [
      "epoch is: 18 accuracy over training/validation data set: 0.83656 / 0.82208  || running loss is: 59.915293254852294\n"
     ]
    },
    {
     "name": "stderr",
     "output_type": "stream",
     "text": [
      " 19%|█▉        | 19/100 [09:10<39:04, 28.95s/it]"
     ]
    },
    {
     "name": "stdout",
     "output_type": "stream",
     "text": [
      "epoch is: 19 accuracy over training/validation data set: 0.8429066666666667 / 0.82896  || running loss is: 57.40976667881012\n"
     ]
    },
    {
     "name": "stderr",
     "output_type": "stream",
     "text": [
      " 20%|██        | 20/100 [09:35<37:11, 27.89s/it]"
     ]
    },
    {
     "name": "stdout",
     "output_type": "stream",
     "text": [
      "epoch is: 20 accuracy over training/validation data set: 0.8439733333333334 / 0.83168  || running loss is: 55.040568828582764\n"
     ]
    },
    {
     "name": "stderr",
     "output_type": "stream",
     "text": [
      " 21%|██        | 21/100 [10:00<35:19, 26.82s/it]"
     ]
    },
    {
     "name": "stdout",
     "output_type": "stream",
     "text": [
      "epoch is: 21 accuracy over training/validation data set: 0.8466666666666667 / 0.83264  || running loss is: 52.84789756774902\n"
     ]
    },
    {
     "name": "stderr",
     "output_type": "stream",
     "text": [
      " 22%|██▏       | 22/100 [10:25<34:15, 26.36s/it]"
     ]
    },
    {
     "name": "stdout",
     "output_type": "stream",
     "text": [
      "epoch is: 22 accuracy over training/validation data set: 0.84192 / 0.82568  || running loss is: 50.84779121398926\n"
     ]
    },
    {
     "name": "stderr",
     "output_type": "stream",
     "text": [
      " 23%|██▎       | 23/100 [10:53<34:27, 26.85s/it]"
     ]
    },
    {
     "name": "stdout",
     "output_type": "stream",
     "text": [
      "epoch is: 23 accuracy over training/validation data set: 0.8466666666666667 / 0.8352  || running loss is: 48.95834806442261\n"
     ]
    },
    {
     "name": "stderr",
     "output_type": "stream",
     "text": [
      " 24%|██▍       | 24/100 [11:21<34:17, 27.08s/it]"
     ]
    },
    {
     "name": "stdout",
     "output_type": "stream",
     "text": [
      "epoch is: 24 accuracy over training/validation data set: 0.8509066666666667 / 0.83552  || running loss is: 47.18834678173065\n"
     ]
    },
    {
     "name": "stderr",
     "output_type": "stream",
     "text": [
      " 25%|██▌       | 25/100 [11:47<33:23, 26.72s/it]"
     ]
    },
    {
     "name": "stdout",
     "output_type": "stream",
     "text": [
      "epoch is: 25 accuracy over training/validation data set: 0.8515466666666667 / 0.83568  || running loss is: 45.553510088920596\n"
     ]
    },
    {
     "name": "stderr",
     "output_type": "stream",
     "text": [
      " 26%|██▌       | 26/100 [12:12<32:32, 26.38s/it]"
     ]
    },
    {
     "name": "stdout",
     "output_type": "stream",
     "text": [
      "epoch is: 26 accuracy over training/validation data set: 0.8501333333333333 / 0.83704  || running loss is: 44.02625834941864\n"
     ]
    },
    {
     "name": "stderr",
     "output_type": "stream",
     "text": [
      " 27%|██▋       | 27/100 [12:36<31:20, 25.76s/it]"
     ]
    },
    {
     "name": "stdout",
     "output_type": "stream",
     "text": [
      "epoch is: 27 accuracy over training/validation data set: 0.8521866666666666 / 0.8384  || running loss is: 42.60001801490784\n"
     ]
    },
    {
     "name": "stderr",
     "output_type": "stream",
     "text": [
      " 28%|██▊       | 28/100 [13:00<29:57, 24.97s/it]"
     ]
    },
    {
     "name": "stdout",
     "output_type": "stream",
     "text": [
      "epoch is: 28 accuracy over training/validation data set: 0.8530133333333333 / 0.83536  || running loss is: 41.27787152767181\n"
     ]
    },
    {
     "name": "stderr",
     "output_type": "stream",
     "text": [
      " 29%|██▉       | 29/100 [13:24<29:17, 24.75s/it]"
     ]
    },
    {
     "name": "stdout",
     "output_type": "stream",
     "text": [
      "epoch is: 29 accuracy over training/validation data set: 0.8567466666666667 / 0.84112  || running loss is: 40.02911909580231\n"
     ]
    },
    {
     "name": "stderr",
     "output_type": "stream",
     "text": [
      " 30%|███       | 30/100 [13:49<28:57, 24.82s/it]"
     ]
    },
    {
     "name": "stdout",
     "output_type": "stream",
     "text": [
      "epoch is: 30 accuracy over training/validation data set: 0.85768 / 0.84264  || running loss is: 38.848002185821535\n"
     ]
    },
    {
     "name": "stderr",
     "output_type": "stream",
     "text": [
      " 31%|███       | 31/100 [14:14<28:35, 24.86s/it]"
     ]
    },
    {
     "name": "stdout",
     "output_type": "stream",
     "text": [
      "epoch is: 31 accuracy over training/validation data set: 0.8475733333333333 / 0.83296  || running loss is: 37.732207913398746\n"
     ]
    },
    {
     "name": "stderr",
     "output_type": "stream",
     "text": [
      " 32%|███▏      | 32/100 [14:41<28:51, 25.47s/it]"
     ]
    },
    {
     "name": "stdout",
     "output_type": "stream",
     "text": [
      "epoch is: 32 accuracy over training/validation data set: 0.8571733333333333 / 0.84392  || running loss is: 36.69929203987122\n"
     ]
    },
    {
     "name": "stderr",
     "output_type": "stream",
     "text": [
      " 33%|███▎      | 33/100 [15:08<29:08, 26.10s/it]"
     ]
    },
    {
     "name": "stdout",
     "output_type": "stream",
     "text": [
      "epoch is: 33 accuracy over training/validation data set: 0.8498666666666667 / 0.8388  || running loss is: 35.74528458595276\n"
     ]
    },
    {
     "name": "stderr",
     "output_type": "stream",
     "text": [
      " 34%|███▍      | 34/100 [15:36<29:14, 26.59s/it]"
     ]
    },
    {
     "name": "stdout",
     "output_type": "stream",
     "text": [
      "epoch is: 34 accuracy over training/validation data set: 0.85936 / 0.84632  || running loss is: 34.79987823009491\n"
     ]
    },
    {
     "name": "stderr",
     "output_type": "stream",
     "text": [
      " 35%|███▌      | 35/100 [16:03<29:04, 26.84s/it]"
     ]
    },
    {
     "name": "stdout",
     "output_type": "stream",
     "text": [
      "epoch is: 35 accuracy over training/validation data set: 0.8593333333333333 / 0.84376  || running loss is: 33.94585883140564\n"
     ]
    },
    {
     "name": "stderr",
     "output_type": "stream",
     "text": [
      " 36%|███▌      | 36/100 [16:31<28:53, 27.09s/it]"
     ]
    },
    {
     "name": "stdout",
     "output_type": "stream",
     "text": [
      "epoch is: 36 accuracy over training/validation data set: 0.8552266666666667 / 0.84192  || running loss is: 33.129589943885804\n"
     ]
    },
    {
     "name": "stderr",
     "output_type": "stream",
     "text": [
      " 37%|███▋      | 37/100 [17:00<28:59, 27.61s/it]"
     ]
    },
    {
     "name": "stdout",
     "output_type": "stream",
     "text": [
      "epoch is: 37 accuracy over training/validation data set: 0.858 / 0.84424  || running loss is: 32.32987662553787\n"
     ]
    },
    {
     "name": "stderr",
     "output_type": "stream",
     "text": [
      " 38%|███▊      | 38/100 [17:23<27:06, 26.23s/it]"
     ]
    },
    {
     "name": "stdout",
     "output_type": "stream",
     "text": [
      "epoch is: 38 accuracy over training/validation data set: 0.8590666666666666 / 0.84416  || running loss is: 31.59105059623718\n"
     ]
    },
    {
     "name": "stderr",
     "output_type": "stream",
     "text": [
      " 39%|███▉      | 39/100 [17:52<27:30, 27.06s/it]"
     ]
    },
    {
     "name": "stdout",
     "output_type": "stream",
     "text": [
      "epoch is: 39 accuracy over training/validation data set: 0.85912 / 0.84456  || running loss is: 30.886468601226806\n"
     ]
    },
    {
     "name": "stderr",
     "output_type": "stream",
     "text": [
      " 40%|████      | 40/100 [18:19<27:12, 27.20s/it]"
     ]
    },
    {
     "name": "stdout",
     "output_type": "stream",
     "text": [
      "epoch is: 40 accuracy over training/validation data set: 0.8565066666666666 / 0.84376  || running loss is: 30.201780886650084\n"
     ]
    },
    {
     "name": "stderr",
     "output_type": "stream",
     "text": [
      " 41%|████      | 41/100 [18:47<26:56, 27.39s/it]"
     ]
    },
    {
     "name": "stdout",
     "output_type": "stream",
     "text": [
      "epoch is: 41 accuracy over training/validation data set: 0.8588266666666666 / 0.844  || running loss is: 29.5692977809906\n"
     ]
    },
    {
     "name": "stderr",
     "output_type": "stream",
     "text": [
      " 42%|████▏     | 42/100 [19:16<26:53, 27.82s/it]"
     ]
    },
    {
     "name": "stdout",
     "output_type": "stream",
     "text": [
      "epoch is: 42 accuracy over training/validation data set: 0.8599466666666666 / 0.846  || running loss is: 28.968755145072937\n"
     ]
    },
    {
     "name": "stderr",
     "output_type": "stream",
     "text": [
      " 43%|████▎     | 43/100 [19:38<24:37, 25.93s/it]"
     ]
    },
    {
     "name": "stdout",
     "output_type": "stream",
     "text": [
      "epoch is: 43 accuracy over training/validation data set: 0.8574666666666667 / 0.84408  || running loss is: 28.41065846204758\n"
     ]
    },
    {
     "name": "stderr",
     "output_type": "stream",
     "text": [
      " 44%|████▍     | 44/100 [20:04<24:12, 25.95s/it]"
     ]
    },
    {
     "name": "stdout",
     "output_type": "stream",
     "text": [
      "epoch is: 44 accuracy over training/validation data set: 0.8617866666666667 / 0.84704  || running loss is: 27.853690094947815\n"
     ]
    },
    {
     "name": "stderr",
     "output_type": "stream",
     "text": [
      " 45%|████▌     | 45/100 [20:28<23:21, 25.48s/it]"
     ]
    },
    {
     "name": "stdout",
     "output_type": "stream",
     "text": [
      "epoch is: 45 accuracy over training/validation data set: 0.85544 / 0.84112  || running loss is: 27.360635902881622\n"
     ]
    },
    {
     "name": "stderr",
     "output_type": "stream",
     "text": [
      " 46%|████▌     | 46/100 [20:56<23:34, 26.19s/it]"
     ]
    },
    {
     "name": "stdout",
     "output_type": "stream",
     "text": [
      "epoch is: 46 accuracy over training/validation data set: 0.8646133333333333 / 0.84864  || running loss is: 26.821471650600433\n"
     ]
    },
    {
     "name": "stderr",
     "output_type": "stream",
     "text": [
      " 47%|████▋     | 47/100 [21:19<22:19, 25.28s/it]"
     ]
    },
    {
     "name": "stdout",
     "output_type": "stream",
     "text": [
      "epoch is: 47 accuracy over training/validation data set: 0.85728 / 0.84448  || running loss is: 26.35839616060257\n"
     ]
    },
    {
     "name": "stderr",
     "output_type": "stream",
     "text": [
      " 48%|████▊     | 48/100 [21:44<21:46, 25.13s/it]"
     ]
    },
    {
     "name": "stdout",
     "output_type": "stream",
     "text": [
      "epoch is: 48 accuracy over training/validation data set: 0.84792 / 0.83448  || running loss is: 25.897448427677155\n"
     ]
    },
    {
     "name": "stderr",
     "output_type": "stream",
     "text": [
      " 49%|████▉     | 49/100 [22:10<21:36, 25.43s/it]"
     ]
    },
    {
     "name": "stdout",
     "output_type": "stream",
     "text": [
      "epoch is: 49 accuracy over training/validation data set: 0.8636266666666667 / 0.84736  || running loss is: 25.483517134189604\n"
     ]
    },
    {
     "name": "stderr",
     "output_type": "stream",
     "text": [
      " 50%|█████     | 50/100 [22:34<20:51, 25.03s/it]"
     ]
    },
    {
     "name": "stdout",
     "output_type": "stream",
     "text": [
      "epoch is: 50 accuracy over training/validation data set: 0.8629866666666667 / 0.84816  || running loss is: 25.086814441680907\n"
     ]
    },
    {
     "name": "stderr",
     "output_type": "stream",
     "text": [
      " 51%|█████     | 51/100 [22:58<20:12, 24.74s/it]"
     ]
    },
    {
     "name": "stdout",
     "output_type": "stream",
     "text": [
      "epoch is: 51 accuracy over training/validation data set: 0.86232 / 0.84544  || running loss is: 24.625740430355073\n"
     ]
    },
    {
     "name": "stderr",
     "output_type": "stream",
     "text": [
      " 52%|█████▏    | 52/100 [23:23<19:44, 24.69s/it]"
     ]
    },
    {
     "name": "stdout",
     "output_type": "stream",
     "text": [
      "epoch is: 52 accuracy over training/validation data set: 0.86448 / 0.84952  || running loss is: 24.259696931838988\n"
     ]
    },
    {
     "name": "stderr",
     "output_type": "stream",
     "text": [
      " 53%|█████▎    | 53/100 [23:47<19:18, 24.65s/it]"
     ]
    },
    {
     "name": "stdout",
     "output_type": "stream",
     "text": [
      "epoch is: 53 accuracy over training/validation data set: 0.8631733333333333 / 0.84832  || running loss is: 23.914752373695375\n"
     ]
    },
    {
     "name": "stderr",
     "output_type": "stream",
     "text": [
      " 54%|█████▍    | 54/100 [24:14<19:18, 25.19s/it]"
     ]
    },
    {
     "name": "stdout",
     "output_type": "stream",
     "text": [
      "epoch is: 54 accuracy over training/validation data set: 0.8599466666666666 / 0.84912  || running loss is: 23.560452008247374\n"
     ]
    },
    {
     "name": "stderr",
     "output_type": "stream",
     "text": [
      " 55%|█████▌    | 55/100 [24:41<19:17, 25.72s/it]"
     ]
    },
    {
     "name": "stdout",
     "output_type": "stream",
     "text": [
      "epoch is: 55 accuracy over training/validation data set: 0.8478666666666667 / 0.83568  || running loss is: 23.205296120643617\n"
     ]
    },
    {
     "name": "stderr",
     "output_type": "stream",
     "text": [
      " 56%|█████▌    | 56/100 [25:08<19:12, 26.18s/it]"
     ]
    },
    {
     "name": "stdout",
     "output_type": "stream",
     "text": [
      "epoch is: 56 accuracy over training/validation data set: 0.8611733333333333 / 0.84744  || running loss is: 22.891740729808806\n"
     ]
    },
    {
     "name": "stderr",
     "output_type": "stream",
     "text": [
      " 57%|█████▋    | 57/100 [25:35<18:58, 26.47s/it]"
     ]
    },
    {
     "name": "stdout",
     "output_type": "stream",
     "text": [
      "epoch is: 57 accuracy over training/validation data set: 0.86184 / 0.8496  || running loss is: 22.587315566539765\n"
     ]
    },
    {
     "name": "stderr",
     "output_type": "stream",
     "text": [
      " 58%|█████▊    | 58/100 [26:03<18:50, 26.91s/it]"
     ]
    },
    {
     "name": "stdout",
     "output_type": "stream",
     "text": [
      "epoch is: 58 accuracy over training/validation data set: 0.8629333333333333 / 0.84896  || running loss is: 22.25825430393219\n"
     ]
    },
    {
     "name": "stderr",
     "output_type": "stream",
     "text": [
      " 59%|█████▉    | 59/100 [26:31<18:36, 27.24s/it]"
     ]
    },
    {
     "name": "stdout",
     "output_type": "stream",
     "text": [
      "epoch is: 59 accuracy over training/validation data set: 0.86504 / 0.84928  || running loss is: 21.973194839954377\n"
     ]
    },
    {
     "name": "stderr",
     "output_type": "stream",
     "text": [
      " 60%|██████    | 60/100 [26:59<18:19, 27.48s/it]"
     ]
    },
    {
     "name": "stdout",
     "output_type": "stream",
     "text": [
      "epoch is: 60 accuracy over training/validation data set: 0.8621866666666667 / 0.8484  || running loss is: 21.674588885307312\n"
     ]
    },
    {
     "name": "stderr",
     "output_type": "stream",
     "text": [
      " 61%|██████    | 61/100 [27:27<17:57, 27.63s/it]"
     ]
    },
    {
     "name": "stdout",
     "output_type": "stream",
     "text": [
      "epoch is: 61 accuracy over training/validation data set: 0.8631466666666666 / 0.85056  || running loss is: 21.418916399478913\n"
     ]
    },
    {
     "name": "stderr",
     "output_type": "stream",
     "text": [
      " 62%|██████▏   | 62/100 [27:54<17:27, 27.56s/it]"
     ]
    },
    {
     "name": "stdout",
     "output_type": "stream",
     "text": [
      "epoch is: 62 accuracy over training/validation data set: 0.8656266666666667 / 0.85032  || running loss is: 21.173611109256743\n"
     ]
    },
    {
     "name": "stderr",
     "output_type": "stream",
     "text": [
      " 63%|██████▎   | 63/100 [28:22<17:01, 27.61s/it]"
     ]
    },
    {
     "name": "stdout",
     "output_type": "stream",
     "text": [
      "epoch is: 63 accuracy over training/validation data set: 0.86584 / 0.84976  || running loss is: 20.89361217021942\n"
     ]
    },
    {
     "name": "stderr",
     "output_type": "stream",
     "text": [
      " 64%|██████▍   | 64/100 [28:50<16:37, 27.71s/it]"
     ]
    },
    {
     "name": "stdout",
     "output_type": "stream",
     "text": [
      "epoch is: 64 accuracy over training/validation data set: 0.86592 / 0.85  || running loss is: 20.694665412902832\n"
     ]
    },
    {
     "name": "stderr",
     "output_type": "stream",
     "text": [
      " 65%|██████▌   | 65/100 [29:18<16:11, 27.76s/it]"
     ]
    },
    {
     "name": "stdout",
     "output_type": "stream",
     "text": [
      "epoch is: 65 accuracy over training/validation data set: 0.8621066666666667 / 0.84784  || running loss is: 20.441431884765624\n"
     ]
    },
    {
     "name": "stderr",
     "output_type": "stream",
     "text": [
      " 66%|██████▌   | 66/100 [29:45<15:35, 27.52s/it]"
     ]
    },
    {
     "name": "stdout",
     "output_type": "stream",
     "text": [
      "epoch is: 66 accuracy over training/validation data set: 0.8669333333333333 / 0.85208  || running loss is: 20.215320632457733\n"
     ]
    },
    {
     "name": "stderr",
     "output_type": "stream",
     "text": [
      " 67%|██████▋   | 67/100 [30:12<15:04, 27.40s/it]"
     ]
    },
    {
     "name": "stdout",
     "output_type": "stream",
     "text": [
      "epoch is: 67 accuracy over training/validation data set: 0.8658666666666667 / 0.85144  || running loss is: 19.971726026535034\n"
     ]
    },
    {
     "name": "stderr",
     "output_type": "stream",
     "text": [
      " 68%|██████▊   | 68/100 [30:39<14:36, 27.39s/it]"
     ]
    },
    {
     "name": "stdout",
     "output_type": "stream",
     "text": [
      "epoch is: 68 accuracy over training/validation data set: 0.86568 / 0.85168  || running loss is: 19.770351042747496\n"
     ]
    },
    {
     "name": "stderr",
     "output_type": "stream",
     "text": [
      " 69%|██████▉   | 69/100 [31:05<13:56, 26.98s/it]"
     ]
    },
    {
     "name": "stdout",
     "output_type": "stream",
     "text": [
      "epoch is: 69 accuracy over training/validation data set: 0.8650133333333333 / 0.84944  || running loss is: 19.554491105079652\n"
     ]
    },
    {
     "name": "stderr",
     "output_type": "stream",
     "text": [
      " 70%|███████   | 70/100 [31:33<13:31, 27.06s/it]"
     ]
    },
    {
     "name": "stdout",
     "output_type": "stream",
     "text": [
      "epoch is: 70 accuracy over training/validation data set: 0.8645066666666666 / 0.85048  || running loss is: 19.337358906269074\n"
     ]
    },
    {
     "name": "stderr",
     "output_type": "stream",
     "text": [
      " 71%|███████   | 71/100 [32:00<13:09, 27.21s/it]"
     ]
    },
    {
     "name": "stdout",
     "output_type": "stream",
     "text": [
      "epoch is: 71 accuracy over training/validation data set: 0.8652533333333333 / 0.84888  || running loss is: 19.17176731109619\n"
     ]
    },
    {
     "name": "stderr",
     "output_type": "stream",
     "text": [
      " 72%|███████▏  | 72/100 [32:27<12:40, 27.17s/it]"
     ]
    },
    {
     "name": "stdout",
     "output_type": "stream",
     "text": [
      "epoch is: 72 accuracy over training/validation data set: 0.8669333333333333 / 0.85016  || running loss is: 18.964896998405457\n"
     ]
    },
    {
     "name": "stderr",
     "output_type": "stream",
     "text": [
      " 73%|███████▎  | 73/100 [32:55<12:20, 27.42s/it]"
     ]
    },
    {
     "name": "stdout",
     "output_type": "stream",
     "text": [
      "epoch is: 73 accuracy over training/validation data set: 0.8640266666666667 / 0.84968  || running loss is: 18.794639127254484\n"
     ]
    },
    {
     "name": "stderr",
     "output_type": "stream",
     "text": [
      " 74%|███████▍  | 74/100 [33:24<11:59, 27.68s/it]"
     ]
    },
    {
     "name": "stdout",
     "output_type": "stream",
     "text": [
      "epoch is: 74 accuracy over training/validation data set: 0.8622933333333334 / 0.84896  || running loss is: 18.607543561458588\n"
     ]
    },
    {
     "name": "stderr",
     "output_type": "stream",
     "text": [
      " 75%|███████▌  | 75/100 [33:52<11:37, 27.88s/it]"
     ]
    },
    {
     "name": "stdout",
     "output_type": "stream",
     "text": [
      "epoch is: 75 accuracy over training/validation data set: 0.8644266666666667 / 0.8504  || running loss is: 18.432249517440795\n"
     ]
    },
    {
     "name": "stderr",
     "output_type": "stream",
     "text": [
      " 76%|███████▌  | 76/100 [34:19<11:06, 27.78s/it]"
     ]
    },
    {
     "name": "stdout",
     "output_type": "stream",
     "text": [
      "epoch is: 76 accuracy over training/validation data set: 0.8676266666666667 / 0.85272  || running loss is: 18.255467739105224\n"
     ]
    },
    {
     "name": "stderr",
     "output_type": "stream",
     "text": [
      " 77%|███████▋  | 77/100 [34:46<10:31, 27.48s/it]"
     ]
    },
    {
     "name": "stdout",
     "output_type": "stream",
     "text": [
      "epoch is: 77 accuracy over training/validation data set: 0.8656266666666667 / 0.85088  || running loss is: 18.1069335103035\n"
     ]
    },
    {
     "name": "stderr",
     "output_type": "stream",
     "text": [
      " 78%|███████▊  | 78/100 [35:14<10:08, 27.67s/it]"
     ]
    },
    {
     "name": "stdout",
     "output_type": "stream",
     "text": [
      "epoch is: 78 accuracy over training/validation data set: 0.8561333333333333 / 0.84312  || running loss is: 17.937437846660615\n"
     ]
    },
    {
     "name": "stderr",
     "output_type": "stream",
     "text": [
      " 79%|███████▉  | 79/100 [35:39<09:19, 26.66s/it]"
     ]
    },
    {
     "name": "stdout",
     "output_type": "stream",
     "text": [
      "epoch is: 79 accuracy over training/validation data set: 0.8677866666666667 / 0.8524  || running loss is: 17.78001684308052\n"
     ]
    },
    {
     "name": "stderr",
     "output_type": "stream",
     "text": [
      " 80%|████████  | 80/100 [36:04<08:44, 26.21s/it]"
     ]
    },
    {
     "name": "stdout",
     "output_type": "stream",
     "text": [
      "epoch is: 80 accuracy over training/validation data set: 0.8584533333333333 / 0.84544  || running loss is: 17.639060723781586\n"
     ]
    },
    {
     "name": "stderr",
     "output_type": "stream",
     "text": [
      " 81%|████████  | 81/100 [36:29<08:12, 25.93s/it]"
     ]
    },
    {
     "name": "stdout",
     "output_type": "stream",
     "text": [
      "epoch is: 81 accuracy over training/validation data set: 0.86704 / 0.85376  || running loss is: 17.481284228563307\n"
     ]
    },
    {
     "name": "stderr",
     "output_type": "stream",
     "text": [
      " 82%|████████▏ | 82/100 [36:55<07:45, 25.85s/it]"
     ]
    },
    {
     "name": "stdout",
     "output_type": "stream",
     "text": [
      "epoch is: 82 accuracy over training/validation data set: 0.86536 / 0.8508  || running loss is: 17.32620113134384\n"
     ]
    },
    {
     "name": "stderr",
     "output_type": "stream",
     "text": [
      " 83%|████████▎ | 83/100 [37:21<07:23, 26.08s/it]"
     ]
    },
    {
     "name": "stdout",
     "output_type": "stream",
     "text": [
      "epoch is: 83 accuracy over training/validation data set: 0.85808 / 0.84472  || running loss is: 17.1963445520401\n"
     ]
    },
    {
     "name": "stderr",
     "output_type": "stream",
     "text": [
      " 84%|████████▍ | 84/100 [37:49<07:04, 26.54s/it]"
     ]
    },
    {
     "name": "stdout",
     "output_type": "stream",
     "text": [
      "epoch is: 84 accuracy over training/validation data set: 0.8634933333333333 / 0.84864  || running loss is: 17.071511580944062\n"
     ]
    },
    {
     "name": "stderr",
     "output_type": "stream",
     "text": [
      " 85%|████████▌ | 85/100 [38:18<06:51, 27.42s/it]"
     ]
    },
    {
     "name": "stdout",
     "output_type": "stream",
     "text": [
      "epoch is: 85 accuracy over training/validation data set: 0.8649066666666667 / 0.85216  || running loss is: 16.918096758127213\n"
     ]
    },
    {
     "name": "stderr",
     "output_type": "stream",
     "text": [
      " 86%|████████▌ | 86/100 [38:46<06:26, 27.58s/it]"
     ]
    },
    {
     "name": "stdout",
     "output_type": "stream",
     "text": [
      "epoch is: 86 accuracy over training/validation data set: 0.8648533333333334 / 0.85208  || running loss is: 16.78205908060074\n"
     ]
    },
    {
     "name": "stderr",
     "output_type": "stream",
     "text": [
      " 87%|████████▋ | 87/100 [39:14<05:57, 27.48s/it]"
     ]
    },
    {
     "name": "stdout",
     "output_type": "stream",
     "text": [
      "epoch is: 87 accuracy over training/validation data set: 0.8649866666666667 / 0.85184  || running loss is: 16.682973251342773\n"
     ]
    },
    {
     "name": "stderr",
     "output_type": "stream",
     "text": [
      " 88%|████████▊ | 88/100 [39:40<05:27, 27.27s/it]"
     ]
    },
    {
     "name": "stdout",
     "output_type": "stream",
     "text": [
      "epoch is: 88 accuracy over training/validation data set: 0.8624 / 0.8484  || running loss is: 16.530365182161333\n"
     ]
    },
    {
     "name": "stderr",
     "output_type": "stream",
     "text": [
      " 89%|████████▉ | 89/100 [40:07<04:59, 27.21s/it]"
     ]
    },
    {
     "name": "stdout",
     "output_type": "stream",
     "text": [
      "epoch is: 89 accuracy over training/validation data set: 0.8632 / 0.8488  || running loss is: 16.428271809816362\n"
     ]
    },
    {
     "name": "stderr",
     "output_type": "stream",
     "text": [
      " 90%|█████████ | 90/100 [40:33<04:28, 26.84s/it]"
     ]
    },
    {
     "name": "stdout",
     "output_type": "stream",
     "text": [
      "epoch is: 90 accuracy over training/validation data set: 0.86576 / 0.8524  || running loss is: 16.305180633068083\n"
     ]
    },
    {
     "name": "stderr",
     "output_type": "stream",
     "text": [
      " 91%|█████████ | 91/100 [41:01<04:02, 26.94s/it]"
     ]
    },
    {
     "name": "stdout",
     "output_type": "stream",
     "text": [
      "epoch is: 91 accuracy over training/validation data set: 0.8642666666666666 / 0.8512  || running loss is: 16.183943465948104\n"
     ]
    },
    {
     "name": "stderr",
     "output_type": "stream",
     "text": [
      " 92%|█████████▏| 92/100 [41:28<03:36, 27.07s/it]"
     ]
    },
    {
     "name": "stdout",
     "output_type": "stream",
     "text": [
      "epoch is: 92 accuracy over training/validation data set: 0.86736 / 0.85424  || running loss is: 16.066832380294798\n"
     ]
    },
    {
     "name": "stderr",
     "output_type": "stream",
     "text": [
      " 93%|█████████▎| 93/100 [41:56<03:11, 27.32s/it]"
     ]
    },
    {
     "name": "stdout",
     "output_type": "stream",
     "text": [
      "epoch is: 93 accuracy over training/validation data set: 0.8685066666666666 / 0.85312  || running loss is: 15.966281542778015\n"
     ]
    },
    {
     "name": "stderr",
     "output_type": "stream",
     "text": [
      " 94%|█████████▍| 94/100 [42:24<02:45, 27.52s/it]"
     ]
    },
    {
     "name": "stdout",
     "output_type": "stream",
     "text": [
      "epoch is: 94 accuracy over training/validation data set: 0.8656 / 0.852  || running loss is: 15.849977923631668\n"
     ]
    },
    {
     "name": "stderr",
     "output_type": "stream",
     "text": [
      " 95%|█████████▌| 95/100 [42:52<02:17, 27.56s/it]"
     ]
    },
    {
     "name": "stdout",
     "output_type": "stream",
     "text": [
      "epoch is: 95 accuracy over training/validation data set: 0.8681333333333333 / 0.85192  || running loss is: 15.75447016954422\n"
     ]
    },
    {
     "name": "stderr",
     "output_type": "stream",
     "text": [
      " 96%|█████████▌| 96/100 [43:20<01:51, 27.78s/it]"
     ]
    },
    {
     "name": "stdout",
     "output_type": "stream",
     "text": [
      "epoch is: 96 accuracy over training/validation data set: 0.8633333333333333 / 0.8512  || running loss is: 15.649747748374939\n"
     ]
    },
    {
     "name": "stderr",
     "output_type": "stream",
     "text": [
      " 97%|█████████▋| 97/100 [43:48<01:23, 27.88s/it]"
     ]
    },
    {
     "name": "stdout",
     "output_type": "stream",
     "text": [
      "epoch is: 97 accuracy over training/validation data set: 0.8664266666666667 / 0.85216  || running loss is: 15.534578384160996\n"
     ]
    },
    {
     "name": "stderr",
     "output_type": "stream",
     "text": [
      " 98%|█████████▊| 98/100 [44:16<00:55, 27.85s/it]"
     ]
    },
    {
     "name": "stdout",
     "output_type": "stream",
     "text": [
      "epoch is: 98 accuracy over training/validation data set: 0.8654133333333334 / 0.85264  || running loss is: 15.425052125453949\n"
     ]
    },
    {
     "name": "stderr",
     "output_type": "stream",
     "text": [
      " 99%|█████████▉| 99/100 [44:41<00:27, 27.16s/it]"
     ]
    },
    {
     "name": "stdout",
     "output_type": "stream",
     "text": [
      "epoch is: 99 accuracy over training/validation data set: 0.86808 / 0.85256  || running loss is: 15.347162243127823\n"
     ]
    },
    {
     "name": "stderr",
     "output_type": "stream",
     "text": [
      "100%|██████████| 100/100 [45:06<00:00, 27.06s/it]"
     ]
    },
    {
     "name": "stdout",
     "output_type": "stream",
     "text": [
      "epoch is: 100 accuracy over training/validation data set: 0.86816 / 0.8532  || running loss is: 15.260923165082932\n"
     ]
    },
    {
     "name": "stderr",
     "output_type": "stream",
     "text": [
      "\n"
     ]
    }
   ],
   "source": [
    "hidden_size=100\n",
    "output_size=1\n",
    "n_layers=1\n",
    "embedding_dim=64\n",
    "lembda=0.01\n",
    "model=GRU(hidden_size,output_size,n_layers,embedding_dim).to(device)\n",
    "criterion =nn.BCELoss()\n",
    "lr=0.0001\n",
    "train_acc_list=[]\n",
    "valid_acc_list=[]\n",
    "loss_list=[]\n",
    "optimizer = torch.optim.Adam(model.parameters(), lr=lr)\n",
    "epochs=100\n",
    "num_epochs=tqdm(range(epochs))\n",
    "\n",
    "# n_epochs=tqdm(range(epochs))\n",
    "for epoch in num_epochs:\n",
    "\n",
    "    running_loss = 0\n",
    "\n",
    "    for i,(instances, labels) in enumerate(train_loader):\n",
    "\n",
    "        optimizer.zero_grad()\n",
    "\n",
    "        instances=instances.to(device)\n",
    "        labels=labels.reshape(len(labels),-1).to(device).to(torch.float32)\n",
    "        # print(instances.shape)\n",
    "        output = model(instances)\n",
    "        # manually regularization\n",
    "        l1_norm = sum(p.abs().sum() for p in model.parameters())/50\n",
    "        #print(output)\n",
    "        loss = criterion(output, labels)+lembda*l1_norm\n",
    "        \n",
    "\n",
    "\n",
    "        loss.backward()\n",
    "        optimizer.step()\n",
    "\n",
    "        running_loss += loss.item()\n",
    "    loss_list.append(running_loss/batch_size)\n",
    "    a=train_acc(model)\n",
    "    train_acc_list.append(a)\n",
    "    \n",
    "    b=valid_acc(model)\n",
    "    \n",
    "    # print('accuracy over validation data set:',b)\n",
    "    valid_acc_list.append(b)\n",
    "    print('epoch is:',epoch+1,'accuracy over training/validation data set:',a,'/',b,' || running loss is:',running_loss/batch_size)\n",
    " \n"
   ]
  },
  {
   "cell_type": "code",
   "execution_count": 17,
   "metadata": {},
   "outputs": [
    {
     "data": {
      "image/png": "[encoded data removed]",
      "text/plain": [
       "<Figure size 640x480 with 1 Axes>"
      ]
     },
     "metadata": {},
     "output_type": "display_data"
    }
   ],
   "source": [
    "plt.plot(loss_list,label='loss in model',color='midnightblue')\n",
    "plt.xlabel('epoch')\n",
    "plt.ylabel('loss')\n",
    "plt.legend()\n",
    "plt.show()"
   ]
  },
  {
   "cell_type": "code",
   "execution_count": 18,
   "metadata": {},
   "outputs": [
    {
     "data": {
      "image/png": "[encoded data removed]",
      "text/plain": [
       "<Figure size 640x480 with 1 Axes>"
      ]
     },
     "metadata": {},
     "output_type": "display_data"
    }
   ],
   "source": [
    "plt.plot(train_acc_list,label='train_data',color='red')\n",
    "plt.plot(valid_acc_list,label='valid_data',color='midnightblue')\n",
    "plt.xlabel('epoch')\n",
    "plt.ylabel('accruacy')\n",
    "plt.legend()\n",
    "plt.show()"
   ]
  },
  {
   "cell_type": "markdown",
   "metadata": {},
   "source": [
    "$\\large \\text{Weight Decay:}$"
   ]
  },
  {
   "cell_type": "code",
   "execution_count": 19,
   "metadata": {},
   "outputs": [
    {
     "name": "stderr",
     "output_type": "stream",
     "text": [
      "  1%|          | 1/100 [00:26<43:30, 26.37s/it]"
     ]
    },
    {
     "name": "stdout",
     "output_type": "stream",
     "text": [
      "epoch is: 1 accuracy over training/validation data set: 0.5697333333333333 / 0.56728  || running loss is: 10.344573162794113\n"
     ]
    },
    {
     "name": "stderr",
     "output_type": "stream",
     "text": [
      "  2%|▏         | 2/100 [00:52<42:58, 26.32s/it]"
     ]
    },
    {
     "name": "stdout",
     "output_type": "stream",
     "text": [
      "epoch is: 2 accuracy over training/validation data set: 0.66384 / 0.67128  || running loss is: 9.666256504058838\n"
     ]
    },
    {
     "name": "stderr",
     "output_type": "stream",
     "text": [
      "  3%|▎         | 3/100 [01:18<42:15, 26.14s/it]"
     ]
    },
    {
     "name": "stdout",
     "output_type": "stream",
     "text": [
      "epoch is: 3 accuracy over training/validation data set: 0.6830133333333334 / 0.6872  || running loss is: 9.136041933894157\n"
     ]
    },
    {
     "name": "stderr",
     "output_type": "stream",
     "text": [
      "  4%|▍         | 4/100 [01:45<42:28, 26.54s/it]"
     ]
    },
    {
     "name": "stdout",
     "output_type": "stream",
     "text": [
      "epoch is: 4 accuracy over training/validation data set: 0.6905066666666667 / 0.69384  || running loss is: 8.96485255599022\n"
     ]
    },
    {
     "name": "stderr",
     "output_type": "stream",
     "text": [
      "  5%|▌         | 5/100 [02:11<41:43, 26.35s/it]"
     ]
    },
    {
     "name": "stdout",
     "output_type": "stream",
     "text": [
      "epoch is: 5 accuracy over training/validation data set: 0.69256 / 0.69544  || running loss is: 8.905972685813904\n"
     ]
    },
    {
     "name": "stderr",
     "output_type": "stream",
     "text": [
      "  6%|▌         | 6/100 [02:36<40:34, 25.90s/it]"
     ]
    },
    {
     "name": "stdout",
     "output_type": "stream",
     "text": [
      "epoch is: 6 accuracy over training/validation data set: 0.69496 / 0.69728  || running loss is: 8.828805927634239\n"
     ]
    },
    {
     "name": "stderr",
     "output_type": "stream",
     "text": [
      "  7%|▋         | 7/100 [03:03<40:35, 26.19s/it]"
     ]
    },
    {
     "name": "stdout",
     "output_type": "stream",
     "text": [
      "epoch is: 7 accuracy over training/validation data set: 0.7030133333333334 / 0.70536  || running loss is: 8.761355856060982\n"
     ]
    },
    {
     "name": "stderr",
     "output_type": "stream",
     "text": [
      "  8%|▊         | 8/100 [03:30<40:26, 26.38s/it]"
     ]
    },
    {
     "name": "stdout",
     "output_type": "stream",
     "text": [
      "epoch is: 8 accuracy over training/validation data set: 0.70776 / 0.7084  || running loss is: 8.69924502313137\n"
     ]
    },
    {
     "name": "stderr",
     "output_type": "stream",
     "text": [
      "  9%|▉         | 9/100 [03:56<40:03, 26.41s/it]"
     ]
    },
    {
     "name": "stdout",
     "output_type": "stream",
     "text": [
      "epoch is: 9 accuracy over training/validation data set: 0.71128 / 0.7128  || running loss is: 8.608132990598678\n"
     ]
    },
    {
     "name": "stderr",
     "output_type": "stream",
     "text": [
      " 10%|█         | 10/100 [04:23<39:51, 26.58s/it]"
     ]
    },
    {
     "name": "stdout",
     "output_type": "stream",
     "text": [
      "epoch is: 10 accuracy over training/validation data set: 0.7136533333333334 / 0.7156  || running loss is: 8.524869766831397\n"
     ]
    },
    {
     "name": "stderr",
     "output_type": "stream",
     "text": [
      " 11%|█         | 11/100 [04:49<39:14, 26.45s/it]"
     ]
    },
    {
     "name": "stdout",
     "output_type": "stream",
     "text": [
      "epoch is: 11 accuracy over training/validation data set: 0.722 / 0.72376  || running loss is: 8.414491359591484\n"
     ]
    },
    {
     "name": "stderr",
     "output_type": "stream",
     "text": [
      " 12%|█▏        | 12/100 [05:17<39:07, 26.68s/it]"
     ]
    },
    {
     "name": "stdout",
     "output_type": "stream",
     "text": [
      "epoch is: 12 accuracy over training/validation data set: 0.7248266666666666 / 0.72536  || running loss is: 8.271469460725784\n"
     ]
    },
    {
     "name": "stderr",
     "output_type": "stream",
     "text": [
      " 13%|█▎        | 13/100 [05:43<38:32, 26.58s/it]"
     ]
    },
    {
     "name": "stdout",
     "output_type": "stream",
     "text": [
      "epoch is: 13 accuracy over training/validation data set: 0.7333866666666666 / 0.73344  || running loss is: 8.121205141544342\n"
     ]
    },
    {
     "name": "stderr",
     "output_type": "stream",
     "text": [
      " 14%|█▍        | 14/100 [06:09<37:56, 26.47s/it]"
     ]
    },
    {
     "name": "stdout",
     "output_type": "stream",
     "text": [
      "epoch is: 14 accuracy over training/validation data set: 0.74584 / 0.746  || running loss is: 7.971942721605301\n"
     ]
    },
    {
     "name": "stderr",
     "output_type": "stream",
     "text": [
      " 15%|█▌        | 15/100 [06:32<35:50, 25.30s/it]"
     ]
    },
    {
     "name": "stdout",
     "output_type": "stream",
     "text": [
      "epoch is: 15 accuracy over training/validation data set: 0.75456 / 0.75192  || running loss is: 7.750441130995751\n"
     ]
    },
    {
     "name": "stderr",
     "output_type": "stream",
     "text": [
      " 16%|█▌        | 16/100 [06:54<34:10, 24.41s/it]"
     ]
    },
    {
     "name": "stdout",
     "output_type": "stream",
     "text": [
      "epoch is: 16 accuracy over training/validation data set: 0.76728 / 0.76632  || running loss is: 7.547674198150634\n"
     ]
    },
    {
     "name": "stderr",
     "output_type": "stream",
     "text": [
      " 17%|█▋        | 17/100 [07:18<33:38, 24.32s/it]"
     ]
    },
    {
     "name": "stdout",
     "output_type": "stream",
     "text": [
      "epoch is: 17 accuracy over training/validation data set: 0.7706933333333333 / 0.7676  || running loss is: 7.31557872235775\n"
     ]
    },
    {
     "name": "stderr",
     "output_type": "stream",
     "text": [
      " 18%|█▊        | 18/100 [07:44<33:45, 24.70s/it]"
     ]
    },
    {
     "name": "stdout",
     "output_type": "stream",
     "text": [
      "epoch is: 18 accuracy over training/validation data set: 0.79056 / 0.78384  || running loss is: 7.0793198812007905\n"
     ]
    },
    {
     "name": "stderr",
     "output_type": "stream",
     "text": [
      " 19%|█▉        | 19/100 [08:10<34:04, 25.24s/it]"
     ]
    },
    {
     "name": "stdout",
     "output_type": "stream",
     "text": [
      "epoch is: 19 accuracy over training/validation data set: 0.7981866666666667 / 0.79144  || running loss is: 6.853228628933429\n"
     ]
    },
    {
     "name": "stderr",
     "output_type": "stream",
     "text": [
      " 20%|██        | 20/100 [08:36<33:49, 25.37s/it]"
     ]
    },
    {
     "name": "stdout",
     "output_type": "stream",
     "text": [
      "epoch is: 20 accuracy over training/validation data set: 0.80984 / 0.79984  || running loss is: 6.615121491551399\n"
     ]
    },
    {
     "name": "stderr",
     "output_type": "stream",
     "text": [
      " 21%|██        | 21/100 [09:00<32:49, 24.94s/it]"
     ]
    },
    {
     "name": "stdout",
     "output_type": "stream",
     "text": [
      "epoch is: 21 accuracy over training/validation data set: 0.81592 / 0.80928  || running loss is: 6.374883946478366\n"
     ]
    },
    {
     "name": "stderr",
     "output_type": "stream",
     "text": [
      " 22%|██▏       | 22/100 [09:22<31:13, 24.02s/it]"
     ]
    },
    {
     "name": "stdout",
     "output_type": "stream",
     "text": [
      "epoch is: 22 accuracy over training/validation data set: 0.8221066666666667 / 0.81152  || running loss is: 6.185052203536034\n"
     ]
    },
    {
     "name": "stderr",
     "output_type": "stream",
     "text": [
      " 23%|██▎       | 23/100 [09:46<31:03, 24.20s/it]"
     ]
    },
    {
     "name": "stdout",
     "output_type": "stream",
     "text": [
      "epoch is: 23 accuracy over training/validation data set: 0.8325333333333333 / 0.82504  || running loss is: 5.977841685116291\n"
     ]
    },
    {
     "name": "stderr",
     "output_type": "stream",
     "text": [
      " 24%|██▍       | 24/100 [10:12<31:09, 24.60s/it]"
     ]
    },
    {
     "name": "stdout",
     "output_type": "stream",
     "text": [
      "epoch is: 24 accuracy over training/validation data set: 0.8394933333333333 / 0.832  || running loss is: 5.838635377883911\n"
     ]
    },
    {
     "name": "stderr",
     "output_type": "stream",
     "text": [
      " 25%|██▌       | 25/100 [10:36<30:42, 24.56s/it]"
     ]
    },
    {
     "name": "stdout",
     "output_type": "stream",
     "text": [
      "epoch is: 25 accuracy over training/validation data set: 0.84512 / 0.83688  || running loss is: 5.678188806772232\n"
     ]
    },
    {
     "name": "stderr",
     "output_type": "stream",
     "text": [
      " 26%|██▌       | 26/100 [11:03<31:02, 25.16s/it]"
     ]
    },
    {
     "name": "stdout",
     "output_type": "stream",
     "text": [
      "epoch is: 26 accuracy over training/validation data set: 0.84976 / 0.8396  || running loss is: 5.511404181718826\n"
     ]
    },
    {
     "name": "stderr",
     "output_type": "stream",
     "text": [
      " 27%|██▋       | 27/100 [11:26<29:46, 24.47s/it]"
     ]
    },
    {
     "name": "stdout",
     "output_type": "stream",
     "text": [
      "epoch is: 27 accuracy over training/validation data set: 0.85472 / 0.84576  || running loss is: 5.397840829491615\n"
     ]
    },
    {
     "name": "stderr",
     "output_type": "stream",
     "text": [
      " 28%|██▊       | 28/100 [11:51<29:26, 24.54s/it]"
     ]
    },
    {
     "name": "stdout",
     "output_type": "stream",
     "text": [
      "epoch is: 28 accuracy over training/validation data set: 0.8390933333333334 / 0.8312  || running loss is: 5.272765906453133\n"
     ]
    },
    {
     "name": "stderr",
     "output_type": "stream",
     "text": [
      " 29%|██▉       | 29/100 [12:15<28:51, 24.39s/it]"
     ]
    },
    {
     "name": "stdout",
     "output_type": "stream",
     "text": [
      "epoch is: 29 accuracy over training/validation data set: 0.8577333333333333 / 0.84544  || running loss is: 5.224856455028057\n"
     ]
    },
    {
     "name": "stderr",
     "output_type": "stream",
     "text": [
      " 30%|███       | 30/100 [12:39<28:31, 24.45s/it]"
     ]
    },
    {
     "name": "stdout",
     "output_type": "stream",
     "text": [
      "epoch is: 30 accuracy over training/validation data set: 0.8566133333333333 / 0.84656  || running loss is: 5.1078424662351605\n"
     ]
    },
    {
     "name": "stderr",
     "output_type": "stream",
     "text": [
      " 31%|███       | 31/100 [13:05<28:41, 24.95s/it]"
     ]
    },
    {
     "name": "stdout",
     "output_type": "stream",
     "text": [
      "epoch is: 31 accuracy over training/validation data set: 0.86384 / 0.8536  || running loss is: 5.0700761833786965\n"
     ]
    },
    {
     "name": "stderr",
     "output_type": "stream",
     "text": [
      " 32%|███▏      | 32/100 [13:31<28:37, 25.26s/it]"
     ]
    },
    {
     "name": "stdout",
     "output_type": "stream",
     "text": [
      "epoch is: 32 accuracy over training/validation data set: 0.86816 / 0.8564  || running loss is: 5.0457680657505986\n"
     ]
    },
    {
     "name": "stderr",
     "output_type": "stream",
     "text": [
      " 33%|███▎      | 33/100 [13:58<28:36, 25.63s/it]"
     ]
    },
    {
     "name": "stdout",
     "output_type": "stream",
     "text": [
      "epoch is: 33 accuracy over training/validation data set: 0.8587466666666667 / 0.84896  || running loss is: 5.034141828119755\n"
     ]
    },
    {
     "name": "stderr",
     "output_type": "stream",
     "text": [
      " 34%|███▍      | 34/100 [14:24<28:21, 25.78s/it]"
     ]
    },
    {
     "name": "stdout",
     "output_type": "stream",
     "text": [
      "epoch is: 34 accuracy over training/validation data set: 0.8670133333333333 / 0.85544  || running loss is: 5.004960458874702\n"
     ]
    },
    {
     "name": "stderr",
     "output_type": "stream",
     "text": [
      " 35%|███▌      | 35/100 [14:51<28:14, 26.07s/it]"
     ]
    },
    {
     "name": "stdout",
     "output_type": "stream",
     "text": [
      "epoch is: 35 accuracy over training/validation data set: 0.8686933333333333 / 0.85504  || running loss is: 4.998561142086983\n"
     ]
    },
    {
     "name": "stderr",
     "output_type": "stream",
     "text": [
      " 36%|███▌      | 36/100 [15:17<27:51, 26.11s/it]"
     ]
    },
    {
     "name": "stdout",
     "output_type": "stream",
     "text": [
      "epoch is: 36 accuracy over training/validation data set: 0.8577333333333333 / 0.84896  || running loss is: 4.991698768138885\n"
     ]
    },
    {
     "name": "stderr",
     "output_type": "stream",
     "text": [
      " 37%|███▋      | 37/100 [15:44<27:37, 26.32s/it]"
     ]
    },
    {
     "name": "stdout",
     "output_type": "stream",
     "text": [
      "epoch is: 37 accuracy over training/validation data set: 0.86888 / 0.85304  || running loss is: 4.9677821514010425\n"
     ]
    },
    {
     "name": "stderr",
     "output_type": "stream",
     "text": [
      " 38%|███▊      | 38/100 [16:11<27:21, 26.48s/it]"
     ]
    },
    {
     "name": "stdout",
     "output_type": "stream",
     "text": [
      "epoch is: 38 accuracy over training/validation data set: 0.8679466666666666 / 0.85608  || running loss is: 4.94347680658102\n"
     ]
    },
    {
     "name": "stderr",
     "output_type": "stream",
     "text": [
      " 39%|███▉      | 39/100 [16:37<26:58, 26.54s/it]"
     ]
    },
    {
     "name": "stdout",
     "output_type": "stream",
     "text": [
      "epoch is: 39 accuracy over training/validation data set: 0.8709866666666667 / 0.85984  || running loss is: 4.967455113381147\n"
     ]
    },
    {
     "name": "stderr",
     "output_type": "stream",
     "text": [
      " 40%|████      | 40/100 [17:04<26:30, 26.51s/it]"
     ]
    },
    {
     "name": "stdout",
     "output_type": "stream",
     "text": [
      "epoch is: 40 accuracy over training/validation data set: 0.8648266666666666 / 0.8536  || running loss is: 4.975403194725513\n"
     ]
    },
    {
     "name": "stderr",
     "output_type": "stream",
     "text": [
      " 41%|████      | 41/100 [17:31<26:17, 26.75s/it]"
     ]
    },
    {
     "name": "stdout",
     "output_type": "stream",
     "text": [
      "epoch is: 41 accuracy over training/validation data set: 0.8541066666666667 / 0.84536  || running loss is: 4.9499204230308536\n"
     ]
    },
    {
     "name": "stderr",
     "output_type": "stream",
     "text": [
      " 42%|████▏     | 42/100 [17:58<25:51, 26.75s/it]"
     ]
    },
    {
     "name": "stdout",
     "output_type": "stream",
     "text": [
      "epoch is: 42 accuracy over training/validation data set: 0.8636266666666667 / 0.85472  || running loss is: 4.9400544606149195\n"
     ]
    },
    {
     "name": "stderr",
     "output_type": "stream",
     "text": [
      " 43%|████▎     | 43/100 [18:22<24:49, 26.12s/it]"
     ]
    },
    {
     "name": "stdout",
     "output_type": "stream",
     "text": [
      "epoch is: 43 accuracy over training/validation data set: 0.8649066666666667 / 0.85376  || running loss is: 4.937960987687111\n"
     ]
    },
    {
     "name": "stderr",
     "output_type": "stream",
     "text": [
      " 44%|████▍     | 44/100 [18:47<23:56, 25.65s/it]"
     ]
    },
    {
     "name": "stdout",
     "output_type": "stream",
     "text": [
      "epoch is: 44 accuracy over training/validation data set: 0.8602933333333334 / 0.85016  || running loss is: 4.986317025125027\n"
     ]
    },
    {
     "name": "stderr",
     "output_type": "stream",
     "text": [
      " 45%|████▌     | 45/100 [19:10<22:55, 25.01s/it]"
     ]
    },
    {
     "name": "stdout",
     "output_type": "stream",
     "text": [
      "epoch is: 45 accuracy over training/validation data set: 0.87064 / 0.85832  || running loss is: 4.938552601486444\n"
     ]
    },
    {
     "name": "stderr",
     "output_type": "stream",
     "text": [
      " 46%|████▌     | 46/100 [19:32<21:31, 23.91s/it]"
     ]
    },
    {
     "name": "stdout",
     "output_type": "stream",
     "text": [
      "epoch is: 46 accuracy over training/validation data set: 0.87104 / 0.85688  || running loss is: 4.947359981238842\n"
     ]
    },
    {
     "name": "stderr",
     "output_type": "stream",
     "text": [
      " 47%|████▋     | 47/100 [19:55<20:56, 23.71s/it]"
     ]
    },
    {
     "name": "stdout",
     "output_type": "stream",
     "text": [
      "epoch is: 47 accuracy over training/validation data set: 0.8633333333333333 / 0.85424  || running loss is: 4.932702301591635\n"
     ]
    },
    {
     "name": "stderr",
     "output_type": "stream",
     "text": [
      " 48%|████▊     | 48/100 [20:19<20:43, 23.91s/it]"
     ]
    },
    {
     "name": "stdout",
     "output_type": "stream",
     "text": [
      "epoch is: 48 accuracy over training/validation data set: 0.8696 / 0.85688  || running loss is: 4.907520749568939\n"
     ]
    },
    {
     "name": "stderr",
     "output_type": "stream",
     "text": [
      " 49%|████▉     | 49/100 [20:45<20:40, 24.31s/it]"
     ]
    },
    {
     "name": "stdout",
     "output_type": "stream",
     "text": [
      "epoch is: 49 accuracy over training/validation data set: 0.85688 / 0.8476  || running loss is: 4.995495583117008\n"
     ]
    },
    {
     "name": "stderr",
     "output_type": "stream",
     "text": [
      " 50%|█████     | 50/100 [21:08<19:54, 23.89s/it]"
     ]
    },
    {
     "name": "stdout",
     "output_type": "stream",
     "text": [
      "epoch is: 50 accuracy over training/validation data set: 0.86776 / 0.85624  || running loss is: 4.929742417037487\n"
     ]
    },
    {
     "name": "stderr",
     "output_type": "stream",
     "text": [
      " 51%|█████     | 51/100 [21:35<20:22, 24.94s/it]"
     ]
    },
    {
     "name": "stdout",
     "output_type": "stream",
     "text": [
      "epoch is: 51 accuracy over training/validation data set: 0.866 / 0.85216  || running loss is: 4.9003899165987965\n"
     ]
    },
    {
     "name": "stderr",
     "output_type": "stream",
     "text": [
      " 52%|█████▏    | 52/100 [22:03<20:40, 25.85s/it]"
     ]
    },
    {
     "name": "stdout",
     "output_type": "stream",
     "text": [
      "epoch is: 52 accuracy over training/validation data set: 0.8677333333333334 / 0.8552  || running loss is: 4.949996072798967\n"
     ]
    },
    {
     "name": "stderr",
     "output_type": "stream",
     "text": [
      " 53%|█████▎    | 53/100 [22:31<20:43, 26.46s/it]"
     ]
    },
    {
     "name": "stdout",
     "output_type": "stream",
     "text": [
      "epoch is: 53 accuracy over training/validation data set: 0.8625066666666666 / 0.85216  || running loss is: 4.930050673484803\n"
     ]
    },
    {
     "name": "stderr",
     "output_type": "stream",
     "text": [
      " 54%|█████▍    | 54/100 [22:58<20:21, 26.56s/it]"
     ]
    },
    {
     "name": "stdout",
     "output_type": "stream",
     "text": [
      "epoch is: 54 accuracy over training/validation data set: 0.86304 / 0.8512  || running loss is: 4.919322073459625\n"
     ]
    },
    {
     "name": "stderr",
     "output_type": "stream",
     "text": [
      " 55%|█████▌    | 55/100 [23:24<19:57, 26.60s/it]"
     ]
    },
    {
     "name": "stdout",
     "output_type": "stream",
     "text": [
      "epoch is: 55 accuracy over training/validation data set: 0.8645333333333334 / 0.85128  || running loss is: 4.933889868855476\n"
     ]
    },
    {
     "name": "stderr",
     "output_type": "stream",
     "text": [
      " 56%|█████▌    | 56/100 [23:49<19:11, 26.16s/it]"
     ]
    },
    {
     "name": "stdout",
     "output_type": "stream",
     "text": [
      "epoch is: 56 accuracy over training/validation data set: 0.8719466666666666 / 0.85712  || running loss is: 4.9296360623836515\n"
     ]
    },
    {
     "name": "stderr",
     "output_type": "stream",
     "text": [
      " 57%|█████▋    | 57/100 [24:13<18:16, 25.50s/it]"
     ]
    },
    {
     "name": "stdout",
     "output_type": "stream",
     "text": [
      "epoch is: 57 accuracy over training/validation data set: 0.86736 / 0.8564  || running loss is: 4.926814316362143\n"
     ]
    },
    {
     "name": "stderr",
     "output_type": "stream",
     "text": [
      " 58%|█████▊    | 58/100 [24:35<17:07, 24.47s/it]"
     ]
    },
    {
     "name": "stdout",
     "output_type": "stream",
     "text": [
      "epoch is: 58 accuracy over training/validation data set: 0.8672266666666667 / 0.85616  || running loss is: 4.916063270568848\n"
     ]
    },
    {
     "name": "stderr",
     "output_type": "stream",
     "text": [
      " 59%|█████▉    | 59/100 [24:59<16:30, 24.15s/it]"
     ]
    },
    {
     "name": "stdout",
     "output_type": "stream",
     "text": [
      "epoch is: 59 accuracy over training/validation data set: 0.8636533333333334 / 0.85384  || running loss is: 4.9205190017819405\n"
     ]
    },
    {
     "name": "stderr",
     "output_type": "stream",
     "text": [
      " 60%|██████    | 60/100 [25:25<16:31, 24.78s/it]"
     ]
    },
    {
     "name": "stdout",
     "output_type": "stream",
     "text": [
      "epoch is: 60 accuracy over training/validation data set: 0.8633333333333333 / 0.85112  || running loss is: 4.909069444835186\n"
     ]
    },
    {
     "name": "stderr",
     "output_type": "stream",
     "text": [
      " 61%|██████    | 61/100 [25:51<16:23, 25.22s/it]"
     ]
    },
    {
     "name": "stdout",
     "output_type": "stream",
     "text": [
      "epoch is: 61 accuracy over training/validation data set: 0.8649866666666667 / 0.85264  || running loss is: 4.9211015018820765\n"
     ]
    },
    {
     "name": "stderr",
     "output_type": "stream",
     "text": [
      " 62%|██████▏   | 62/100 [26:14<15:24, 24.32s/it]"
     ]
    },
    {
     "name": "stdout",
     "output_type": "stream",
     "text": [
      "epoch is: 62 accuracy over training/validation data set: 0.8675733333333333 / 0.85544  || running loss is: 4.926291786432266\n"
     ]
    }
   ],
   "source": [
    "hidden_size=100\n",
    "output_size=1\n",
    "n_layers=1\n",
    "embedding_dim=64\n",
    "lembda=0.01\n",
    "model=GRU(hidden_size,output_size,n_layers,embedding_dim).to(device)\n",
    "criterion =nn.BCELoss()\n",
    "lr=0.0001\n",
    "train_acc_list=[]\n",
    "valid_acc_list=[]\n",
    "loss_list=[]\n",
    "optimizer = torch.optim.Adam(model.parameters(), lr=lr,weight_decay=lembda)\n",
    "epochs=100\n",
    "num_epochs=tqdm(range(epochs))\n",
    "\n",
    "# n_epochs=tqdm(range(epochs))\n",
    "for epoch in num_epochs:\n",
    "\n",
    "    running_loss = 0\n",
    "\n",
    "    for i,(instances, labels) in enumerate(train_loader):\n",
    "\n",
    "        optimizer.zero_grad()\n",
    "\n",
    "        instances=instances.to(device)\n",
    "        labels=labels.reshape(len(labels),-1).to(device).to(torch.float32)\n",
    "        # print(instances.shape)\n",
    "        output = model(instances)\n",
    "        #print(output)\n",
    "        loss = criterion(output, labels)\n",
    "        \n",
    "\n",
    "\n",
    "        loss.backward()\n",
    "        optimizer.step()\n",
    "\n",
    "        running_loss += loss.item()\n",
    "    loss_list.append(running_loss/batch_size)\n",
    "    a=train_acc(model)\n",
    "    train_acc_list.append(a)\n",
    "    \n",
    "    b=valid_acc(model)\n",
    "    \n",
    "    # print('accuracy over validation data set:',b)\n",
    "    valid_acc_list.append(b)\n",
    "    print('epoch is:',epoch+1,'accuracy over training/validation data set:',a,'/',b,' || running loss is:',running_loss/batch_size)\n",
    " \n"
   ]
  },
  {
   "cell_type": "code",
   "execution_count": null,
   "metadata": {},
   "outputs": [],
   "source": []
  }
 ],
 "metadata": {
  "colab": {
   "provenance": []
  },
  "kernelspec": {
   "display_name": "Python 3",
   "language": "python",
   "name": "python3"
  },
  "language_info": {
   "codemirror_mode": {
    "name": "ipython",
    "version": 3
   },
   "file_extension": ".py",
   "mimetype": "text/x-python",
   "name": "python",
   "nbconvert_exporter": "python",
   "pygments_lexer": "ipython3",
   "version": "3.9.2"
  }
 },
 "nbformat": 4,
 "nbformat_minor": 1
}
